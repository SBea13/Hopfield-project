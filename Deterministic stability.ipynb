{
 "cells": [
  {
   "cell_type": "markdown",
   "metadata": {},
   "source": [
    "- Theoretical part\n",
    "- definition of stability\n",
    "- update rule"
   ]
  },
  {
   "cell_type": "markdown",
   "metadata": {},
   "source": [
    "# Neural network \n",
    "One of the most computationally efficient device that we know is human brain: this is the reason because in the late years a lot of effort has gone into trying to develop an artificial version of it, like NeuralLink.\n",
    "\n",
    "The easiest way to represent a neuron is either on or off with the synapsys either eccitative or inibitive.\n",
    "#### insert image\n",
    "We can easily map the neural network into a spin system by mapping neurons in spins $\\{s_i\\}_{i=1,\\cdots,N}$ and synapsys into the magnetic coupling $J_{ij}$.\n",
    "By a specific representation of these coupling costant we can define the Hopfield model"
   ]
  },
  {
   "cell_type": "markdown",
   "metadata": {},
   "source": [
    "## Hopfield model"
   ]
  },
  {
   "cell_type": "code",
   "execution_count": null,
   "metadata": {},
   "outputs": [],
   "source": []
  },
  {
   "cell_type": "code",
   "execution_count": 2,
   "metadata": {},
   "outputs": [],
   "source": [
    "import numpy as np\n",
    "import pandas as pd\n",
    "import matplotlib.pyplot as plt\n",
    "import scipy as scp"
   ]
  },
  {
   "cell_type": "code",
   "execution_count": 5,
   "metadata": {},
   "outputs": [],
   "source": [
    "# Parameters\n",
    "L = 10  # Lenght of the edge of the image\n",
    "N = L**2 # Number of spins \n",
    "p = 10 # Number of patterns\n",
    "np.random.seed(1234) # Seed to make the random process reproducible"
   ]
  },
  {
   "cell_type": "code",
   "execution_count": 6,
   "metadata": {},
   "outputs": [
    {
     "data": {
      "text/plain": [
       "<matplotlib.image.AxesImage at 0x110f25828>"
      ]
     },
     "execution_count": 6,
     "metadata": {},
     "output_type": "execute_result"
    },
    {
     "data": {
      "image/png": "[encoded data removed]",
      "text/plain": [
       "<Figure size 432x288 with 1 Axes>"
      ]
     },
     "metadata": {
      "needs_background": "light"
     },
     "output_type": "display_data"
    }
   ],
   "source": [
    "# Patterns\n",
    "xi = np.random.randint(0,2,N*p).reshape(p,N) # Each line is a pattern\n",
    "xi[xi==0]=-1\n",
    "idx = np.random.randint(0,p)\n",
    "plt.imshow(xi[idx].reshape(10,10),cmap='Greys') # This is an example of pattern "
   ]
  },
  {
   "cell_type": "code",
   "execution_count": 7,
   "metadata": {},
   "outputs": [
    {
     "data": {
      "text/plain": [
       "array([[ True,  True,  True, ...,  True,  True,  True],\n",
       "       [ True,  True,  True, ...,  True,  True,  True],\n",
       "       [ True,  True,  True, ...,  True,  True,  True],\n",
       "       ...,\n",
       "       [ True,  True,  True, ...,  True,  True,  True],\n",
       "       [ True,  True,  True, ...,  True,  True,  True],\n",
       "       [ True,  True,  True, ...,  True,  True,  True]])"
      ]
     },
     "execution_count": 7,
     "metadata": {},
     "output_type": "execute_result"
    }
   ],
   "source": [
    "# Coupling constant\n",
    "# Row i is the connections of the i-th neuron with the others.\n",
    "# Note that the hopfield model requires Jii=0\n",
    "# Note that J is a symmetrical matrix (J=J.T)\n",
    "J = 1/N * np.array( [ (xi[:,i]*xi[:,j]).sum() for i in range(N) for j in range(N) ] )\n",
    "J = J.reshape(N,N)\n",
    "for i in range(len(J)):\n",
    "    J[i,i] = 0\n",
    "J==J.T"
   ]
  },
  {
   "cell_type": "code",
   "execution_count": 8,
   "metadata": {},
   "outputs": [],
   "source": [
    "# Update rule\n",
    "def update(sys):\n",
    "    N = len(sys)\n",
    "    for i in range(N):\n",
    "        temp = 0\n",
    "        for j in range(N):\n",
    "            temp +=  J[i][j]*sys[j] \n",
    "        sys[i] = np.sign(temp)\n",
    "    return np.sign(sys)\n",
    "\n",
    "def deterministic_hopfield(sys, t):\n",
    "    for i in range(t):\n",
    "        sys = update(sys)\n",
    "    return sys"
   ]
  },
  {
   "cell_type": "code",
   "execution_count": 9,
   "metadata": {},
   "outputs": [
    {
     "data": {
      "text/plain": [
       "<matplotlib.image.AxesImage at 0x104825da0>"
      ]
     },
     "execution_count": 9,
     "metadata": {},
     "output_type": "execute_result"
    },
    {
     "data": {
      "image/png": "[encoded data removed]",
      "text/plain": [
       "<Figure size 720x432 with 2 Axes>"
      ]
     },
     "metadata": {
      "needs_background": "light"
     },
     "output_type": "display_data"
    }
   ],
   "source": [
    "# actual algorithm\n",
    "from copy import deepcopy\n",
    "idx = np.random.randint(0,p)\n",
    "sys = deepcopy(xi[idx])\n",
    "\n",
    "sys = deterministic_hopfield(sys,30)\n",
    "\n",
    "fig, ax = plt.subplots(1,2, figsize = (10,6))\n",
    "ax[0].set_title('Pattern')\n",
    "ax[0].imshow(xi[idx].reshape(L,L), cmap='Greys')\n",
    "ax[1].set_title('Finishing configuration')\n",
    "ax[1].imshow(sys.reshape(L,L), cmap='Greys')"
   ]
  },
  {
   "cell_type": "code",
   "execution_count": 16,
   "metadata": {},
   "outputs": [],
   "source": [
    "# Computing the stabilty of the algorithm\n",
    "def score(xi, t):\n",
    "    score = 0\n",
    "    p = len(xi)\n",
    "    for i in range(p):\n",
    "        sys = deepcopy(xi[i])\n",
    "        sys = deterministic_hopfield(sys,t)\n",
    "        if np.all( [ sys, xi[i] ] ): score += 1\n",
    "    return score/p"
   ]
  },
  {
   "cell_type": "code",
   "execution_count": 22,
   "metadata": {},
   "outputs": [],
   "source": [
    "# We now look at the scaling with regards to the parameters\n",
    "L = np.array([16])#,16,22,28])\n",
    "N = L**2 \n",
    "scores = []\n",
    "for n in N:\n",
    "    P = np.arange(5,n/2,20)\n",
    "    for p in P: \n",
    "        p = int(p)\n",
    "        xi = np.random.randint(0,2,n*p).reshape(p,n) # Each line is a pattern\n",
    "        xi[xi==0]=-1\n",
    "        J = 1/n * np.array( [ (xi[:,i]*xi[:,j]).sum() for i in range(n) for j in range(n) ] )\n",
    "        J = J.reshape(n,n)\n",
    "        for k in range(len(J)):\n",
    "            J[k,k] = 0\n",
    "        scores.append( score(xi,10) )"
   ]
  },
  {
   "cell_type": "code",
   "execution_count": 23,
   "metadata": {},
   "outputs": [
    {
     "data": {
      "text/plain": [
       "[1.0, 1.0, 1.0, 1.0, 1.0, 1.0, 1.0]"
      ]
     },
     "execution_count": 23,
     "metadata": {},
     "output_type": "execute_result"
    }
   ],
   "source": [
    "scores"
   ]
  },
  {
   "cell_type": "code",
   "execution_count": 30,
   "metadata": {},
   "outputs": [
    {
     "data": {
      "text/plain": [
       "<matplotlib.legend.Legend at 0x1126affd0>"
      ]
     },
     "execution_count": 30,
     "metadata": {},
     "output_type": "execute_result"
    },
    {
     "data": {
      "image/png": "[encoded data removed]",
      "text/plain": [
       "<Figure size 432x288 with 1 Axes>"
      ]
     },
     "metadata": {
      "needs_background": "light"
     },
     "output_type": "display_data"
    }
   ],
   "source": [
    "# How does the time scales with the number of spins N?\n",
    "import time as time\n",
    "L = np.arange(10,28,4)\n",
    "N = L**2 \n",
    "p = 10\n",
    "times = []\n",
    "for n in N:\n",
    "    xi = np.random.randint(0,2,n*p).reshape(p,n)\n",
    "    xi[xi==0]=-1\n",
    "    J = 1/n * np.array( [ (xi[:,i]*xi[:,j]).sum() for i in range(n) for j in range(n) ] )\n",
    "    J = J.reshape(n,n)\n",
    "    for k in range(len(J)):\n",
    "        J[k,k] = 0\n",
    "    idx = np.random.randint(0,p)\n",
    "    start = time.time()\n",
    "    deterministic_hopfield(xi[idx],30)\n",
    "    end = time.time()\n",
    "    times.append(end-start)\n",
    "\n",
    "fig, ax = plt.subplots()\n",
    "ax.plot(N,times, label = 'Data with 10 patterns')\n",
    "ax.set_xlabel(' Number of spins N')\n",
    "ax.set_ylabel(' Implementation time [s]')\n",
    "ax.set_title(' Dependency of the time implementation on the size of the system')\n",
    "ax.legend()"
   ]
  },
  {
   "cell_type": "code",
   "execution_count": 36,
   "metadata": {},
   "outputs": [
    {
     "name": "stdout",
     "output_type": "stream",
     "text": [
      "help!\n",
      "fuck\n",
      "help!\n",
      "fuck\n",
      "help!\n",
      "fuck\n",
      "help!\n",
      "fuck\n",
      "help!\n",
      "fuck\n",
      "help!\n",
      "fuck\n",
      "help!\n",
      "fuck\n",
      "help!\n",
      "fuck\n",
      "help!\n",
      "fuck\n",
      "help!\n",
      "fuck\n",
      "help!\n",
      "fuck\n",
      "help!\n",
      "fuck\n",
      "help!\n",
      "fuck\n",
      "help!\n",
      "fuck\n",
      "help!\n",
      "fuck\n",
      "help!\n",
      "fuck\n",
      "help!\n",
      "fuck\n",
      "help!\n",
      "fuck\n",
      "help!\n",
      "fuck\n",
      "help!\n",
      "fuck\n",
      "help!\n",
      "fuck\n",
      "help!\n",
      "fuck\n",
      "help!\n",
      "fuck\n",
      "help!\n",
      "fuck\n",
      "help!\n",
      "fuck\n",
      "help!\n",
      "fuck\n",
      "help!\n",
      "fuck\n",
      "help!\n",
      "fuck\n",
      "help!\n",
      "fuck\n",
      "help!\n",
      "fuck\n",
      "help!\n",
      "fuck\n",
      "help!\n",
      "fuck\n",
      "help!\n",
      "fuck\n",
      "help!\n",
      "fuck\n",
      "help!\n",
      "fuck\n",
      "help!\n",
      "fuck\n",
      "help!\n",
      "fuck\n",
      "help!\n",
      "fuck\n",
      "help!\n",
      "fuck\n",
      "help!\n",
      "fuck\n",
      "help!\n",
      "fuck\n",
      "help!\n",
      "fuck\n",
      "help!\n",
      "fuck\n",
      "help!\n",
      "fuck\n",
      "help!\n",
      "fuck\n",
      "help!\n",
      "fuck\n",
      "help!\n",
      "fuck\n",
      "help!\n",
      "fuck\n",
      "help!\n",
      "fuck\n",
      "help!\n",
      "fuck\n",
      "help!\n",
      "fuck\n",
      "help!\n",
      "fuck\n",
      "help!\n",
      "fuck\n",
      "help!\n",
      "fuck\n",
      "help!\n",
      "fuck\n",
      "help!\n",
      "fuck\n",
      "help!\n",
      "fuck\n",
      "help!\n",
      "fuck\n",
      "help!\n",
      "fuck\n",
      "help!\n",
      "fuck\n",
      "help!\n",
      "fuck\n",
      "help!\n",
      "fuck\n",
      "help!\n",
      "fuck\n",
      "help!\n",
      "fuck\n",
      "help!\n",
      "fuck\n",
      "help!\n",
      "fuck\n",
      "help!\n",
      "fuck\n",
      "help!\n",
      "fuck\n",
      "help!\n",
      "fuck\n",
      "help!\n",
      "fuck\n",
      "help!\n",
      "fuck\n",
      "help!\n",
      "fuck\n",
      "help!\n",
      "fuck\n",
      "help!\n",
      "fuck\n",
      "help!\n",
      "fuck\n",
      "help!\n",
      "fuck\n",
      "help!\n",
      "fuck\n",
      "help!\n",
      "fuck\n",
      "help!\n",
      "fuck\n",
      "help!\n",
      "fuck\n",
      "help!\n",
      "fuck\n",
      "help!\n",
      "fuck\n",
      "help!\n",
      "fuck\n",
      "help!\n",
      "fuck\n",
      "help!\n",
      "fuck\n",
      "help!\n",
      "fuck\n",
      "help!\n",
      "fuck\n"
     ]
    },
    {
     "data": {
      "text/plain": [
       "<matplotlib.legend.Legend at 0x112036080>"
      ]
     },
     "execution_count": 36,
     "metadata": {},
     "output_type": "execute_result"
    },
    {
     "data": {
      "image/png": "[encoded data removed]",
      "text/plain": [
       "<Figure size 432x288 with 1 Axes>"
      ]
     },
     "metadata": {
      "needs_background": "light"
     },
     "output_type": "display_data"
    }
   ],
   "source": [
    "# How does the time scales with the number of pattern p with a fixed N?\n",
    "import time as time\n",
    "L = 16\n",
    "N = L**2 \n",
    "P = np.arange(10,N,16)\n",
    "times = []\n",
    "for p in P:\n",
    "    p = int(p)\n",
    "    xi = np.random.randint(0,2,N*p).reshape(p,N)\n",
    "    xi[xi==0]=-1\n",
    "    J = 1/N * np.array( [ (xi[:,i]*xi[:,j]).sum() for i in range(N) for j in range(N) ] )\n",
    "    J = J.reshape(N,N)\n",
    "    for k in range(len(J)):\n",
    "        J[k,k] = 0\n",
    "    idx = np.random.randint(0,p)\n",
    "    start = time.time()\n",
    "    deterministic_hopfield(xi[idx],30)\n",
    "    end = time.time()\n",
    "    times.append(end-start)\n",
    "\n",
    "fig, ax = plt.subplots()\n",
    "ax.plot(P,times, label = 'Data with 16x16 spins')\n",
    "ax.set_xlabel(' Number of patterns p')\n",
    "ax.set_ylabel(' Implementation time [s]')\n",
    "ax.set_title(' Dependency of the time implementation on the number of patterns')\n",
    "ax.legend()"
   ]
  },
  {
   "cell_type": "code",
   "execution_count": null,
   "metadata": {},
   "outputs": [],
   "source": []
  }
 ],
 "metadata": {
  "kernelspec": {
   "display_name": "Python 3",
   "language": "python",
   "name": "python3"
  },
  "language_info": {
   "codemirror_mode": {
    "name": "ipython",
    "version": 3
   },
   "file_extension": ".py",
   "mimetype": "text/x-python",
   "name": "python",
   "nbconvert_exporter": "python",
   "pygments_lexer": "ipython3",
   "version": "3.7.2"
  }
 },
 "nbformat": 4,
 "nbformat_minor": 2
}
