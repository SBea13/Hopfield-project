{
 "cells": [
  {
   "cell_type": "markdown",
   "metadata": {},
   "source": [
    "# Assignment "
   ]
  },
  {
   "cell_type": "markdown",
   "metadata": {},
   "source": [
    "## Stability (deterministic evolution)\n",
    "- Code for the hopfield model <br>\n",
    "    find a formula for the patterns 1<<p<<N;\n",
    "- Choose the coupling with patterns;\n",
    "- Test the stability given the deterministic dynamics; \n",
    "\n",
    "The key idea is to show the stability of the dynamics: starting from a $\\xi_i$ you end up in the same $\\xi_i$"
   ]
  },
  {
   "cell_type": "markdown",
   "metadata": {},
   "source": [
    "## Corruption (deterministic evolution)\n",
    "Starting from a black/white image (a pattern) add some random noise: flip a pixel with probability $q$.\n",
    "- What happens when we increase $q$? Which is the limit in which the pattern is recognisible?\n",
    "- How many time does the reconstruction takes? How does it scale with $q$?"
   ]
  },
  {
   "cell_type": "markdown",
   "metadata": {},
   "source": [
    "## Random evolution\n",
    "With the metropolis algorithm perform Montecarlo simulations of the system. <br>\n",
    "Repeat all the previous steps.<br>\n",
    "Remember the metropolis updtate rule: the probability of accept a spin flip is:\n",
    "$$\n",
    "p = min(1, e^{-\\beta \\Delta\\mathcal{H}})\n",
    "$$\n",
    "where $\\Delta\\mathcal{H}$ is the difference between the new and the old hamiltonian"
   ]
  },
  {
   "cell_type": "markdown",
   "metadata": {},
   "source": [
    "## Mnist dataset\n",
    "If all goes well try to implement handwriting recognition. <br>\n",
    "Good luck."
   ]
  },
  {
   "cell_type": "code",
   "execution_count": null,
   "metadata": {},
   "outputs": [],
   "source": []
  }
 ],
 "metadata": {
  "kernelspec": {
   "display_name": "Python 3",
   "language": "python",
   "name": "python3"
  },
  "language_info": {
   "codemirror_mode": {
    "name": "ipython",
    "version": 3
   },
   "file_extension": ".py",
   "mimetype": "text/x-python",
   "name": "python",
   "nbconvert_exporter": "python",
   "pygments_lexer": "ipython3",
   "version": "3.7.2"
  }
 },
 "nbformat": 4,
 "nbformat_minor": 2
}
