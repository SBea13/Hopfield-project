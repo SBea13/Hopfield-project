{
 "cells": [
  {
   "cell_type": "markdown",
   "metadata": {},
   "source": [
    "We think of this if we reach it"
   ]
  },
  {
   "cell_type": "code",
   "execution_count": 1,
   "metadata": {},
   "outputs": [],
   "source": [
    "import numpy as np\n",
    "import pandas as pd\n",
    "import matplotlib.pyplot as plt\n",
    "import scipy as scp\n",
    "from copy import deepcopy"
   ]
  },
  {
   "cell_type": "code",
   "execution_count": 2,
   "metadata": {},
   "outputs": [],
   "source": [
    "# Parameters\n",
    "L = 28  # Lenght of the edge of the image\n",
    "N = L**2 # Number of spins \n",
    "p = 10 # Number of patterns\n",
    "MF = 0 # Use or not the Mean Field strategy: if MF=1 uses MF, if MF = 0 only spins at\n",
    "# a distance R interacts\n",
    "R = 3 # The 3-nearest neighbor interacts\n",
    "np.random.seed(1234) # Seed to make the random process reproducible"
   ]
  },
  {
   "cell_type": "code",
   "execution_count": 14,
   "metadata": {},
   "outputs": [],
   "source": [
    "# Function that are in previous notebook\n",
    "def random_patterns(N,p):\n",
    "    xi = np.random.randint(0,2,N*p).reshape(p,N) # Each line is a pattern\n",
    "    xi[xi==0]=-1\n",
    "    return xi\n",
    "\n",
    "def MF_coupling(xi,N):\n",
    "    J = 1/N * np.array( [ (xi[:,i]*xi[:,j]).sum() for i in range(N) for j in range(N) ] )\n",
    "    J = J.reshape(N,N)        \n",
    "    for i in range(len(J)):\n",
    "        J[i,i] = 0\n",
    "    return J\n",
    "\n",
    "def R_coupling(xi,N,R):\n",
    "    J = MF_coupling(xi,N)\n",
    "    L = int(np.sqrt(N))\n",
    "    for i in range( J.shape[0] ):\n",
    "        J_temp = J[i].reshape(L,L)\n",
    "        for j in range(L):\n",
    "            y = (i%L -j)**2 # Look at indexes should be ok -1\n",
    "            for k in range(L):\n",
    "                if np.sqrt( (i//L - k)**2 + y ) > R: J_temp[j,k] = 0\n",
    "        J[i] = J_temp.reshape(1,N)\n",
    "    return J\n",
    "\n",
    "def update(sys1):\n",
    "    sys = deepcopy(sys1)\n",
    "    N = len(sys)\n",
    "    for i in range(N):\n",
    "        temp = 0\n",
    "        for j in range(N): #Maybe it is possible to set the cycle on J[i][j]!=0 only\n",
    "            temp +=  J[i][j]*sys[j] \n",
    "        sys[i] = np.sign(temp)\n",
    "    return np.sign(sys)\n",
    "\n",
    "def deterministic_hopfield(sys1, t):\n",
    "    sys = deepcopy(sys1)\n",
    "    for i in range(t):\n",
    "        sys = update(sys)\n",
    "    return sys\n",
    "\n",
    "def error_im(xi_idx, sys):\n",
    "    wrong_pixels = (np.abs( sys-xi_idx )/2).sum()\n",
    "    return wrong_pixels/len(sys)\n",
    "\n",
    "def assign_pattern(xi,sys):\n",
    "    errors = [ error_im(i,sys) for i in xi ]\n",
    "    correct = np.argmin(errors)\n",
    "    return correct\n",
    "\n",
    "def total_error(xi,t):\n",
    "    errors = []\n",
    "    prediction = []\n",
    "    for mu in range(len(xi)):\n",
    "        sys = deterministic_hopfield(xi[mu],t)\n",
    "        errors.append( error_im(xi[mu],sys) )\n",
    "        if assign_pattern(xi,sys)==mu:\n",
    "            prediction.append( 1 )\n",
    "        else: prediction.append( 0 )\n",
    "    errors = (np.array(errors)).mean()\n",
    "    prediction = np.array(prediction).sum()/len(xi)\n",
    "    return errors, prediction\n",
    "\n",
    "def corrupt_uniform(sys, q): # q probability to flip the pixel\n",
    "    sys_temp = deepcopy(sys)\n",
    "    N = sys.shape[0]\n",
    "    for i in range(N):\n",
    "        r = np.random.rand()\n",
    "        if r < q:\n",
    "            sys_temp[i] *= -1\n",
    "    return sys_temp\n",
    "\n",
    "def H(J,sys):\n",
    "    N = sys.shape[0]\n",
    "    energy = 0\n",
    "    for i in range(N):\n",
    "        for j in range(i):\n",
    "            energy -= J[i][j]*sys[i]*sys[j]\n",
    "    return energy\n",
    "\n",
    "# Mean Field version of dH\n",
    "def dH(J, sys, k): # k is the index of the spin flipped\n",
    "    N = sys.shape[0]\n",
    "    dh = 0\n",
    "    for i in range(N):\n",
    "        dh += sys[i]*J[k][i]\n",
    "    dh *= 2*sys[k]\n",
    "    return dh\n",
    "\n",
    "def metropolis(J, sys1, k, B): # B = 1/kbT temperature of the system\n",
    "    sys = deepcopy(sys1)\n",
    "    dh = dH(J, sys, k)\n",
    "    r = np.random.rand() # random variable between (0,1)\n",
    "    if r < np.exp( -B*dh ):\n",
    "        sys[k] = -sys[k]\n",
    "    return sys\n",
    "    \n",
    "def montecarlo(J, sys1, B, t ): # t number of iteration of the montecarlo\n",
    "    sys = deepcopy(sys1)\n",
    "    N = sys.shape[0]\n",
    "    for i in range(t):\n",
    "        k = np.random.randint(0,N)\n",
    "        sys = metropolis(J, sys, k, B)\n",
    "    return sys\n",
    "\n",
    "def perpendicolar_nn(J, sys, k, r):\n",
    "    dh = 0\n",
    "    l = int(np.sqrt(sys.shape[0]))\n",
    "    for i in range(k+1,k+r+1): # going right\n",
    "        if k%l == l-1: break # right bound\n",
    "        dh += J[i][k]*sys[i]\n",
    "        if i%l == l-1: break # last column bound\n",
    "            \n",
    "    for i in range(k-1,k-r-1,-1): # going left\n",
    "        if k%l == 0: break # left bound\n",
    "        dh += J[i][k]*sys[i]\n",
    "        if i%l == 0: break # first column bound\n",
    "            \n",
    "    for i in range(k+l,k+(r+1)*l,l): # going down\n",
    "        if k//l == l-1: break # low bound\n",
    "        dh += J[i][k]*sys[i]\n",
    "        if i//l ==l-1 : break # last row bound\n",
    "            \n",
    "    for i in range(k-l, k-l*(r+1), -l): # going up\n",
    "        if k//l == 0: break # up bound\n",
    "        dh += J[i][k]*sys[i]\n",
    "        if i//l == 0: break  # first row bound\n",
    "    return dh\n",
    "            \n",
    "def diagonal_nn(J, sys, k, r):\n",
    "    dh = 0\n",
    "    l = int(np.sqrt(sys.shape[0]))\n",
    "    for i in range(1,r):\n",
    "        if k%l == l-1 or k//l == l-1: break # right low bound\n",
    "        for j in range(1,r):\n",
    "            if i==j==r-1: continue\n",
    "            dh += J[k+j+i*l][k]*sys[k+j+i*l]  # right low\n",
    "            if (k+j+i*l)%l == l-1 : break # last column bound\n",
    "        if (k+j+i*l)//l ==l-1 : break # last row bound\n",
    "        \n",
    "    for i in range(1,r):\n",
    "        if k%l == 0 or k//l == l-1: break # left low bound\n",
    "        for j in range(1,r):\n",
    "            if i==j==r-1: continue\n",
    "            dh += J[k-j+i*l][k]*sys[k-j+i*l]  # left low\n",
    "            if (k-j+i*l)%l == 0 : break #  first column bound\n",
    "        if (k-j+i*l)//l ==l-1 : break # last row bound\n",
    "        \n",
    "    for i in range(1,r):\n",
    "        if k//l == 0 or k%l == l-1: break # up right bound\n",
    "        for j in range(1,r):\n",
    "            if i==j==r-1: continue\n",
    "            dh += J[k+j-i*l][k]*sys[k+j-i*l] # right up\n",
    "            if (k+j-i*l)%l == l-1: break  # last column bound\n",
    "        if (k+j-i*l)//l == 0: break # first row bound\n",
    "        \n",
    "    for i in range(1,r):\n",
    "        if k//l == 0 or k%l == 0 : break # up left bound\n",
    "        for j in range(1,r):\n",
    "            if i==j==r-1: continue\n",
    "            dh += J[k-j-i*l][k]*sys[k-j-i*l] # left up\n",
    "            if (k-j-i*l)%l == l-1: break  #last column bound\n",
    "        if (k-j-i*l)//l == 0 : break # first row bound\n",
    "    return dh\n",
    "\n",
    "def not_MF_dH(J, sys, k, R):\n",
    "    dh = perpendicolar_nn(J, sys, k, R) + diagonal_nn(J, sys, k, R)\n",
    "    dh *= 2*sys[k]\n",
    "    return dh\n",
    "\n",
    "def not_MF_metropolis(J, sys1, k, B, R): # B = 1/kbT temperature of the system\n",
    "    sys = deepcopy(sys1)\n",
    "    dh = not_MF_dH(J, sys, k, R)\n",
    "    r = np.random.rand() # random variable between (0,1)\n",
    "    if r < np.exp( -B*dh ):\n",
    "        sys[k] = -sys[k]\n",
    "    return sys\n",
    "\n",
    "def not_MF_montecarlo(J, sys1, B, R, t ): # t number of iteration of the montecarlo\n",
    "    sys = deepcopy(sys1)\n",
    "    N = sys.shape[0]\n",
    "    for i in range(t):\n",
    "        k = np.random.randint(0,N)\n",
    "        sys = not_MF_metropolis(J, sys, k, B, R)\n",
    "    return sys\n",
    "\n",
    "def corrupt_norm(sys, k, h):\n",
    "    sys_temp = deepcopy(sys)\n",
    "    N = sys.shape[0]\n",
    "    L = int(np.sqrt(N))\n",
    "    sys_temp = sys_temp.reshape(L,L)\n",
    "    for i in range(L):\n",
    "        for j in range(L):\n",
    "            g = gaus(k, L/5, h, i, j)\n",
    "            r = np.random.rand()\n",
    "            if r < g:\n",
    "                sys_temp[i][j] *= -1\n",
    "    return (sys_temp.reshape(1,N))[0]\n",
    "\n",
    "def gaus(mu, sigma, h, x, y):\n",
    "    h = np.sqrt(h)\n",
    "    g_x = np.exp(-( (x-mu[0])**2 / ( 2.0 * sigma**2 ) ) )*h#/np.sqrt(2*np.pi*sigma**2)\n",
    "    g_y = np.exp(-( (y-mu[1])**2 / ( 2.0 * sigma**2 ) ) )*h#/np.sqrt(2*np.pi*sigma**2)\n",
    "    g = g_y * g_x\n",
    "    return g"
   ]
  },
  {
   "cell_type": "code",
   "execution_count": 4,
   "metadata": {},
   "outputs": [],
   "source": [
    "def from_minst_to_spin(X):\n",
    "    X = X/255 # Normalizing the values \n",
    "    X[ X<0.2 ] = -1\n",
    "    X[ X>=0.2 ] = 1\n",
    "    return X"
   ]
  },
  {
   "cell_type": "code",
   "execution_count": 5,
   "metadata": {},
   "outputs": [],
   "source": [
    "# Just rewrite the path if you want to try it\n",
    "data_train = pd.read_csv('/Users/Marco/Desktop/data/mnist_train.csv')\n",
    "data_test = pd.read_csv('/Users/Marco/Desktop/data/mnist_test.csv')"
   ]
  },
  {
   "cell_type": "code",
   "execution_count": 6,
   "metadata": {},
   "outputs": [],
   "source": [
    "# Actually I didn't use them since they are too much\n",
    "label_train = []\n",
    "digits_train = []\n",
    "for i in range(data_train.shape[0]):\n",
    "    a = np.array( data_train.iloc[ [i] ])\n",
    "    label_train.append( a[0][0])\n",
    "    digits_train.append( a[0][1:] )\n",
    "\n",
    "label_train = np.array(label_train)\n",
    "digits_train = np.array(digits_train)\n",
    "X_train = from_minst_to_spin(digits_train) # from value to {-1,1}"
   ]
  },
  {
   "cell_type": "code",
   "execution_count": 7,
   "metadata": {},
   "outputs": [],
   "source": [
    "# Used them even if test since less\n",
    "label_test = []\n",
    "digits_test = []\n",
    "for i in range(data_test.shape[0]):\n",
    "    a = np.array( data_test.iloc[ [i] ])\n",
    "    label_test.append( a[0][0])\n",
    "    digits_test.append( a[0][1:] )\n",
    "\n",
    "label_test = np.array(label_test)\n",
    "digits_test = np.array(digits_test)\n",
    "X_test = from_minst_to_spin(digits_test)"
   ]
  },
  {
   "cell_type": "code",
   "execution_count": 8,
   "metadata": {},
   "outputs": [],
   "source": [
    "# Try with patterns that are the average over all the digits.\n",
    "# For example take the all 0, sum over the pixel and divide for the number of images.\n",
    "# If the value is negative -> -1, the other case 1\n",
    "mean_patterns = []\n",
    "for i in range(10):\n",
    "    mean_patterns.append( from_minst_to_spin(X_test[ label_test == i ].sum(axis=0)) )\n",
    "mean_patterns = np.array(mean_patterns)"
   ]
  },
  {
   "cell_type": "code",
   "execution_count": 8,
   "metadata": {},
   "outputs": [],
   "source": [
    "# Just select random samples as patterns\n",
    "rand_patterns = []\n",
    "for i in range(10):\n",
    "    temp = X_test[ label_test == i ].shape[0]\n",
    "    temp = np.random.randint(0,temp)\n",
    "    rand_patterns.append( X_test[ label_test == i ][temp] )\n",
    "rand_patterns = np.array(rand_patterns)"
   ]
  },
  {
   "cell_type": "code",
   "execution_count": 20,
   "metadata": {},
   "outputs": [
    {
     "data": {
      "text/plain": [
       "<matplotlib.image.AxesImage at 0x116647ac8>"
      ]
     },
     "execution_count": 20,
     "metadata": {},
     "output_type": "execute_result"
    },
    {
     "data": {
      "image/png": "[encoded data removed]",
      "text/plain": [
       "<Figure size 432x288 with 1 Axes>"
      ]
     },
     "metadata": {
      "needs_background": "light"
     },
     "output_type": "display_data"
    }
   ],
   "source": [
    "plt.imshow( rand_patterns[4].reshape(L,L), cmap='Greys' )"
   ]
  },
  {
   "cell_type": "code",
   "execution_count": 11,
   "metadata": {},
   "outputs": [],
   "source": [
    "J = MF_coupling(mean_patterns,N)"
   ]
  },
  {
   "cell_type": "code",
   "execution_count": 12,
   "metadata": {},
   "outputs": [
    {
     "name": "stdout",
     "output_type": "stream",
     "text": [
      "The error of the algorithm is 0.187500\n",
      "The algorithm recognised the pattern 4 and the correct pattern is 2\n"
     ]
    },
    {
     "data": {
      "image/png": "[encoded data removed]",
      "text/plain": [
       "<Figure size 720x432 with 4 Axes>"
      ]
     },
     "metadata": {
      "needs_background": "light"
     },
     "output_type": "display_data"
    }
   ],
   "source": [
    "# Average pattern try\n",
    "# It does not work. Look at it if you want. I think patterns are too much similar\n",
    "# Also average patterns are not too good. \n",
    "idx = np.random.randint(0,9999)\n",
    "dgt = label_test[idx]\n",
    "\n",
    "sys = X_test[idx]\n",
    "\n",
    "res = montecarlo(J,sys,10,1000)\n",
    "\n",
    "wrong_pixels = error_im(mean_patterns[dgt],sys)\n",
    "assigned_pattern = assign_pattern(mean_patterns,sys)\n",
    "\n",
    "\n",
    "fig, ax = plt.subplots(1,4, figsize=(10,6))\n",
    "ax[0].set_title('Original pattern')\n",
    "ax[0].imshow(mean_patterns[dgt].reshape(L,L),cmap='Greys')\n",
    "ax[1].set_title('Handwritten digit')\n",
    "ax[1].imshow(sys.reshape(L,L),cmap='Greys')\n",
    "ax[2].set_title('Recovered digit')\n",
    "ax[2].imshow(res.reshape(L,L),cmap='Greys')\n",
    "ax[3].set_title('Recognised digit')\n",
    "ax[3].imshow(mean_patterns[assigned_pattern].reshape(L,L),cmap='Greys')\n",
    "print('The error of the algorithm is %f' %(wrong_pixels))\n",
    "print('The algorithm recognised the pattern %i and the correct pattern is %i' %(assigned_pattern,dgt))"
   ]
  },
  {
   "cell_type": "code",
   "execution_count": 9,
   "metadata": {},
   "outputs": [],
   "source": [
    "J = MF_coupling(rand_patterns,N)"
   ]
  },
  {
   "cell_type": "code",
   "execution_count": 19,
   "metadata": {
    "scrolled": true
   },
   "outputs": [
    {
     "name": "stdout",
     "output_type": "stream",
     "text": [
      "The error of the algorithm is 0.118622\n",
      "The algorithm recognised the pattern 3 and the correct pattern is 3\n"
     ]
    },
    {
     "data": {
      "image/png": "[encoded data removed]",
      "text/plain": [
       "<Figure size 720x432 with 4 Axes>"
      ]
     },
     "metadata": {
      "needs_background": "light"
     },
     "output_type": "display_data"
    }
   ],
   "source": [
    "# Random pattern try\n",
    "# Slightly better, still not good\n",
    "\n",
    "idx = np.random.randint(0,9999)\n",
    "dgt = label_test[idx]\n",
    "\n",
    "sys = X_test[idx]\n",
    "\n",
    "#res = montecarlo(J,sys,100,10000)\n",
    "res = deterministic_hopfield(sys, 500)\n",
    "\n",
    "wrong_pixels = error_im(rand_patterns[dgt],sys)\n",
    "assigned_pattern = assign_pattern(rand_patterns,sys)\n",
    "\n",
    "\n",
    "fig, ax = plt.subplots(1,4, figsize=(10,6))\n",
    "ax[0].set_title('Original pattern')\n",
    "ax[0].imshow(rand_patterns[dgt].reshape(L,L),cmap='Greys')\n",
    "ax[1].set_title('Handwritten digit')\n",
    "ax[1].imshow(sys.reshape(L,L),cmap='Greys')\n",
    "ax[2].set_title('Recovered digit')\n",
    "ax[2].imshow(res.reshape(L,L),cmap='Greys')\n",
    "ax[3].set_title('Recognised digit')\n",
    "ax[3].imshow(rand_patterns[assigned_pattern].reshape(L,L),cmap='Greys')\n",
    "print('The error of the algorithm is %f' %(wrong_pixels))\n",
    "print('The algorithm recognised the pattern %i and the correct pattern is %i' %(assigned_pattern,dgt))"
   ]
  },
  {
   "cell_type": "markdown",
   "metadata": {},
   "source": [
    "## Zipping the images"
   ]
  },
  {
   "cell_type": "code",
   "execution_count": 21,
   "metadata": {},
   "outputs": [],
   "source": [
    "# Just thought that maybe there was too much pixels to understand the behaviour.\n",
    "# This function takes batches of four pixels and from them create a single pixel\n",
    "# that is black if even only one of that four is black.\n",
    "# This divides by 4 the resolution of the image, 28x28->14x14\n",
    "\n",
    "def zipping(sys1):\n",
    "    sys = deepcopy(sys1)\n",
    "    N = sys.shape[0]\n",
    "    L = int(np.sqrt(N))\n",
    "    sys = sys.reshape(L,L)\n",
    "    zipp = np.array([-1 for i in range(N//4)]).reshape(L//2,L//2)\n",
    "    for i in np.arange(0, L, 2):\n",
    "        for j in np.arange(0, L, 2):\n",
    "            if sys[i][j] + sys[i+1][j] + sys[i][j+1] + sys[i+1][j+1] > -4:\n",
    "                zipp[i//2,j//2] = 1\n",
    "    zipp = zipp.reshape(1,N//4)\n",
    "    return zipp[0]"
   ]
  },
  {
   "cell_type": "code",
   "execution_count": 16,
   "metadata": {},
   "outputs": [
    {
     "data": {
      "text/plain": [
       "<matplotlib.image.AxesImage at 0x11a3a61d0>"
      ]
     },
     "execution_count": 16,
     "metadata": {},
     "output_type": "execute_result"
    },
    {
     "data": {
      "image/png": "[encoded data removed]",
      "text/plain": [
       "<Figure size 720x432 with 2 Axes>"
      ]
     },
     "metadata": {
      "needs_background": "light"
     },
     "output_type": "display_data"
    }
   ],
   "source": [
    "# Simply look at the outcome\n",
    "idx = 100\n",
    "dgt = label_test[idx]\n",
    "sys = X_test[idx]\n",
    "\n",
    "zip_dgt = zipping(sys)\n",
    "\n",
    "fig, ax = plt.subplots(1,2, figsize=(10,6))\n",
    "ax[0].set_title('Original pattern')\n",
    "ax[0].imshow(sys.reshape(L,L),cmap='Greys')\n",
    "ax[1].set_title('Zipped digit')\n",
    "ax[1].imshow(zip_dgt.reshape(L//2,L//2),cmap='Greys')"
   ]
  },
  {
   "cell_type": "code",
   "execution_count": 22,
   "metadata": {},
   "outputs": [],
   "source": [
    "# Yeah, you know I really love to use the word stuff. I was only upset that this \n",
    "# stuff wasn't working. Here I zip all the test data.\n",
    "X_zip = []\n",
    "for i in X_test:\n",
    "    X_zip.append( zipping(i) )\n",
    "X_zip = np.array(X_zip)"
   ]
  },
  {
   "cell_type": "code",
   "execution_count": 119,
   "metadata": {},
   "outputs": [],
   "source": [
    "# Inizialize the old variables using the new zipped samples.\n",
    "\n",
    "rand_patterns = []\n",
    "for i in range(10):\n",
    "    temp = X_zip[ label_test == i ].shape[0]\n",
    "    temp = np.random.randint(0,temp)\n",
    "    rand_patterns.append( X_zip[ label_test == i ][temp] )\n",
    "rand_patterns = np.array(rand_patterns)\n",
    "\n",
    "n = N//4\n",
    "J = R_coupling(rand_patterns[0:3],n,5)"
   ]
  },
  {
   "cell_type": "code",
   "execution_count": 127,
   "metadata": {},
   "outputs": [
    {
     "name": "stdout",
     "output_type": "stream",
     "text": [
      "The error of the algorithm is 0.198980\n",
      "The algorithm recognised the pattern 2 and the correct pattern is 3\n"
     ]
    },
    {
     "data": {
      "image/png": "[encoded data removed]",
      "text/plain": [
       "<Figure size 720x432 with 4 Axes>"
      ]
     },
     "metadata": {
      "needs_background": "light"
     },
     "output_type": "display_data"
    }
   ],
   "source": [
    "idx = np.random.randint(0,9999)\n",
    "dgt = label_test[idx]\n",
    "\n",
    "sys = X_zip[idx]\n",
    "\n",
    "new = montecarlo(J,sys,25,1000)\n",
    "#res = deterministic_hopfield(sys, 100)\n",
    "\n",
    "wrong_pixels = error_im(rand_patterns[dgt],new)\n",
    "assigned_pattern = assign_pattern(rand_patterns,new)\n",
    "\n",
    "\n",
    "fig, ax = plt.subplots(1,4, figsize=(10,6))\n",
    "ax[0].set_title('Original pattern')\n",
    "ax[0].imshow(rand_patterns[dgt].reshape(L//2,L//2),cmap='Greys')\n",
    "ax[1].set_title('Handwritten digit')\n",
    "ax[1].imshow(sys.reshape(L//2,L//2),cmap='Greys')\n",
    "ax[2].set_title('Recovered digit')\n",
    "ax[2].imshow(new.reshape(L//2,L//2),cmap='Greys')\n",
    "ax[3].set_title('Recognised digit')\n",
    "ax[3].imshow(rand_patterns[assigned_pattern].reshape(L//2,L//2),cmap='Greys')\n",
    "print('The error of the algorithm is %f' %(wrong_pixels))\n",
    "print('The algorithm recognised the pattern %i and the correct pattern is %i' %(assigned_pattern,dgt))"
   ]
  },
  {
   "cell_type": "markdown",
   "metadata": {},
   "source": [
    "# Find the real minima of the system"
   ]
  },
  {
   "cell_type": "code",
   "execution_count": 91,
   "metadata": {},
   "outputs": [],
   "source": [
    "# First I create 1000 random samples\n",
    "X_created = []\n",
    "for i in range(1000):\n",
    "    X_created.append( 2*np.random.randint(0,2,14*14)-1 )\n",
    "\n",
    "# The I run the algorithm for all of them, 500 iterations each\n",
    "X_hop = X_created\n",
    "for i in range(1000):\n",
    "    X_hop[i] = montecarlo(J, X_created[i], 25, 500)\n"
   ]
  },
  {
   "cell_type": "code",
   "execution_count": 97,
   "metadata": {},
   "outputs": [
    {
     "name": "stdout",
     "output_type": "stream",
     "text": [
      "ciao\n",
      "ciao\n",
      "ciao\n"
     ]
    },
    {
     "name": "stderr",
     "output_type": "stream",
     "text": [
      "/Library/Frameworks/Python.framework/Versions/3.7/lib/python3.7/site-packages/ipykernel_launcher.py:7: DeprecationWarning: In future, it will be an error for 'np.bool_' scalars to be interpreted as an index\n",
      "  import sys\n"
     ]
    },
    {
     "ename": "IndexError",
     "evalue": "index 0 is out of bounds for axis 0 with size 0",
     "output_type": "error",
     "traceback": [
      "\u001b[0;31m---------------------------------------------------------------------------\u001b[0m",
      "\u001b[0;31mIndexError\u001b[0m                                Traceback (most recent call last)",
      "\u001b[0;32m<ipython-input-97-fca6bb0359e4>\u001b[0m in \u001b[0;36m<module>\u001b[0;34m\u001b[0m\n\u001b[1;32m      4\u001b[0m \u001b[0mX_min\u001b[0m \u001b[0;34m=\u001b[0m \u001b[0mdeepcopy\u001b[0m\u001b[0;34m(\u001b[0m\u001b[0mX_hop\u001b[0m\u001b[0;34m)\u001b[0m\u001b[0;34m\u001b[0m\u001b[0;34m\u001b[0m\u001b[0m\n\u001b[1;32m      5\u001b[0m \u001b[0;32mwhile\u001b[0m\u001b[0;34m(\u001b[0m \u001b[0mlen\u001b[0m\u001b[0;34m(\u001b[0m\u001b[0mX_hop\u001b[0m\u001b[0;34m)\u001b[0m \u001b[0;34m!=\u001b[0m \u001b[0;36m0\u001b[0m \u001b[0;34m)\u001b[0m\u001b[0;34m:\u001b[0m\u001b[0;34m\u001b[0m\u001b[0;34m\u001b[0m\u001b[0m\n\u001b[0;32m----> 6\u001b[0;31m     \u001b[0mminima\u001b[0m\u001b[0;34m.\u001b[0m\u001b[0mappend\u001b[0m\u001b[0;34m(\u001b[0m\u001b[0mX_min\u001b[0m\u001b[0;34m[\u001b[0m\u001b[0;36m0\u001b[0m\u001b[0;34m]\u001b[0m\u001b[0;34m)\u001b[0m\u001b[0;34m\u001b[0m\u001b[0;34m\u001b[0m\u001b[0m\n\u001b[0m\u001b[1;32m      7\u001b[0m     \u001b[0mX_min\u001b[0m \u001b[0;34m=\u001b[0m \u001b[0mX_min\u001b[0m\u001b[0;34m[\u001b[0m \u001b[0merror_im\u001b[0m\u001b[0;34m(\u001b[0m\u001b[0mX_min\u001b[0m\u001b[0;34m[\u001b[0m\u001b[0;36m0\u001b[0m\u001b[0;34m]\u001b[0m\u001b[0;34m,\u001b[0m\u001b[0mX_min\u001b[0m\u001b[0;34m)\u001b[0m \u001b[0;34m>\u001b[0m \u001b[0;36m0.1\u001b[0m \u001b[0;34m]\u001b[0m\u001b[0;34m\u001b[0m\u001b[0;34m\u001b[0m\u001b[0m\n\u001b[1;32m      8\u001b[0m     \u001b[0mprint\u001b[0m\u001b[0;34m(\u001b[0m\u001b[0;34m'ciao'\u001b[0m\u001b[0;34m)\u001b[0m\u001b[0;34m\u001b[0m\u001b[0;34m\u001b[0m\u001b[0m\n",
      "\u001b[0;31mIndexError\u001b[0m: index 0 is out of bounds for axis 0 with size 0"
     ]
    }
   ],
   "source": [
    "# Now I look at the errors between each of them. I store all of them with error \n",
    "# greater than a certain amount.\n",
    "minima = []\n",
    "X_min = deepcopy(X_hop)\n",
    "while( len(X_hop) != 0 ):\n",
    "    minima.append(X_min[0])\n",
    "    X_min = X_min[ error_im(X_min[0],X_min) > 0.1 ]\n",
    "    print('ciao')"
   ]
  },
  {
   "cell_type": "code",
   "execution_count": 105,
   "metadata": {},
   "outputs": [
    {
     "data": {
      "text/plain": [
       "array([-1, -1, -1, -1, -1, -1, -1, -1, -1, -1, -1, -1, -1, -1, -1, -1,  1,\n",
       "       -1, -1, -1, -1, -1, -1, -1, -1, -1, -1, -1, -1, -1, -1, -1, -1, -1,\n",
       "       -1,  1,  1,  1, -1, -1, -1, -1, -1, -1, -1, -1, -1, -1,  1,  1,  1,\n",
       "        1, -1, -1, -1, -1, -1, -1, -1, -1, -1,  1,  1,  1,  1, -1, -1, -1,\n",
       "       -1, -1, -1, -1, -1, -1,  1,  1,  1,  1,  1,  1, -1, -1, -1, -1, -1,\n",
       "       -1, -1, -1, -1, -1,  1, -1,  1,  1, -1, -1, -1, -1, -1, -1,  1, -1,\n",
       "       -1, -1,  1,  1,  1,  1,  1, -1, -1, -1, -1, -1, -1, -1, -1,  1,  1,\n",
       "        1,  1,  1,  1, -1, -1, -1, -1, -1, -1, -1,  1,  1,  1,  1,  1,  1,\n",
       "        1, -1, -1, -1, -1, -1, -1, -1,  1,  1,  1,  1,  1,  1,  1, -1, -1,\n",
       "       -1, -1, -1, -1, -1,  1,  1,  1,  1, -1, -1,  1, -1, -1, -1, -1, -1,\n",
       "       -1, -1, -1, -1, -1, -1, -1, -1, -1, -1, -1, -1, -1, -1, -1, -1, -1,\n",
       "       -1, -1, -1, -1, -1,  1, -1, -1, -1])"
      ]
     },
     "execution_count": 105,
     "metadata": {},
     "output_type": "execute_result"
    }
   ],
   "source": [
    "minima[2]"
   ]
  },
  {
   "cell_type": "code",
   "execution_count": 113,
   "metadata": {},
   "outputs": [
    {
     "data": {
      "image/png": "[encoded data removed]",
      "text/plain": [
       "<Figure size 432x288 with 1 Axes>"
      ]
     },
     "metadata": {
      "needs_background": "light"
     },
     "output_type": "display_data"
    },
    {
     "data": {
      "image/png": "[encoded data removed]",
      "text/plain": [
       "<Figure size 432x288 with 1 Axes>"
      ]
     },
     "metadata": {
      "needs_background": "light"
     },
     "output_type": "display_data"
    }
   ],
   "source": [
    "# And now I can look at the true minima of the system:\n",
    "for i in range(0,len(minima),2):\n",
    "    plt.imshow( minima[i].reshape(14,14), cmap='Greys' )\n",
    "    plt.show()"
   ]
  },
  {
   "cell_type": "code",
   "execution_count": 41,
   "metadata": {},
   "outputs": [],
   "source": [
    "err = []\n",
    "patt = []\n",
    "diff = []\n",
    "\n",
    "for n in range(100):\n",
    "    idx = np.random.randint(0,9999)\n",
    "    dgt = label_test[idx]\n",
    "    sys = X_zip[idx]\n",
    "    res = montecarlo(J,sys,100,1000)\n",
    "    inv = error_im(new ,res)\n",
    "    diff.append(inv)\n",
    "    wrong_pixels = error_im(rand_patterns[dgt],res)\n",
    "    err.append(wrong_pixels)\n",
    "    assigned_pattern = assign_pattern(rand_patterns,res)\n",
    "    patt.append(assigned_pattern)"
   ]
  },
  {
   "cell_type": "code",
   "execution_count": 42,
   "metadata": {},
   "outputs": [],
   "source": [
    "err = np.array(err)\n",
    "diff = np.array(diff)\n",
    "patt = np.array(patt)"
   ]
  },
  {
   "cell_type": "markdown",
   "metadata": {},
   "source": [
    "We need to define a new version of the error in order to understand better how it works.\n",
    "We will use a combination of the old error used all over the notebooks and the weighted error used in the stability notebook, since the similarity is really important and high for the minst database."
   ]
  },
  {
   "cell_type": "code",
   "execution_count": 65,
   "metadata": {},
   "outputs": [],
   "source": [
    "def w_error(sys11, sys22, alpha):\n",
    "    sys1 = deepcopy(sys11)\n",
    "    sys2 = deepcopy(sys22)\n",
    "    N = sys1.shape[0]\n",
    "    L = int(np.sqrt(N))\n",
    "    sys1 = sys1.reshape(L,L)\n",
    "    sys2 = sys2.reshape(L,L)\n",
    "    wrong1 = []\n",
    "    wrong2 = []\n",
    "    min_dist = []\n",
    "    for i in range(L):\n",
    "        for j in range(L):\n",
    "            if sys1[i][j] == sys2[i][j]: continue\n",
    "            elif sys1[i][j]== 1 : \n",
    "                wrong1.append( np.array([i,j]) )\n",
    "            elif sys2[i][j]== 1:\n",
    "                wrong2.append( np.array([i,j]) )\n",
    "    for i in wrong1:\n",
    "        distances = [np.exp(100)] # To have for sure a minimum (really big, such that doesn't affect)\n",
    "        for j in wrong2:\n",
    "            if np.linalg.norm(i-j) !=0 :\n",
    "                distances.append( np.linalg.norm(i-j) )\n",
    "        min_dist.append( np.array(distances).min() )\n",
    "    min_dist = np.array(min_dist)\n",
    "    err =  (1/(min_dist)**alpha).sum()\n",
    "    return err"
   ]
  },
  {
   "cell_type": "code",
   "execution_count": 85,
   "metadata": {},
   "outputs": [],
   "source": [
    "def assign_digit(sys1, xi, alpha, beta):\n",
    "    err = np.array([ error_im(i, sys) for i in xi ]) # Part of error from different pixels\n",
    "    w_err = np.array([ w_error(i, sys, alpha) for i in xi ]) # Weighted error\n",
    "    tot_err = w_err + beta*err # With beta we control the ratio of importance\n",
    "    correct = np.argmin(tot_err)\n",
    "    return correct"
   ]
  },
  {
   "cell_type": "markdown",
   "metadata": {},
   "source": [
    "Now we try to optimize the error function such that we gain reasonable results"
   ]
  },
  {
   "cell_type": "code",
   "execution_count": 100,
   "metadata": {},
   "outputs": [],
   "source": [
    "A = np.array([0.5, 1, 2, 3])\n",
    "B = np.linspace(0,10,20)\n",
    "scores = []\n",
    "iters = 10\n",
    "i = 0\n",
    "\n",
    "for a in A:\n",
    "    scores.append([])\n",
    "    for b in B:\n",
    "        temp = 0\n",
    "        for idx in range(iters):\n",
    "            dgt = label_test[idx]\n",
    "            #sys = X_zip[idx]\n",
    "            sys = corrupt_norm(X_zip[idx], [L//4,L//4], 0.2 )\n",
    "            res = montecarlo(J, sys, 25, 500)\n",
    "            assigned_pattern = assign_digit(sys, rand_patterns, a, b)\n",
    "            if assigned_pattern == dgt: temp += 1\n",
    "        scores[i].append( temp/iters )\n",
    "    i += 1\n",
    "scores = np.array(scores)"
   ]
  },
  {
   "cell_type": "code",
   "execution_count": 101,
   "metadata": {},
   "outputs": [
    {
     "data": {
      "text/plain": [
       "<matplotlib.legend.Legend at 0x12ded7908>"
      ]
     },
     "execution_count": 101,
     "metadata": {},
     "output_type": "execute_result"
    },
    {
     "data": {
      "image/png": "[encoded data removed]",
      "text/plain": [
       "<Figure size 432x288 with 1 Axes>"
      ]
     },
     "metadata": {
      "needs_background": "light"
     },
     "output_type": "display_data"
    }
   ],
   "source": [
    "fig, ax = plt.subplots()\n",
    "\n",
    "ax.plot(B, scores[0], '--ro', label = 'Alpha=0.5')\n",
    "ax.plot(B, scores[1], '--bo', label = 'Alpha=1')\n",
    "ax.plot(B, scores[2], '--go', label = 'Alpha=2')\n",
    "ax.plot(B, scores[3], '--yo', label = 'Alpha=3')\n",
    "ax.set_title('Dependance of the score on the tuning parameter between the weighted and the normal error')\n",
    "ax.set_xlabel('Tuning parameter b')\n",
    "ax.set_ylabel('Score')\n",
    "ax.legend()"
   ]
  },
  {
   "cell_type": "code",
   "execution_count": 106,
   "metadata": {},
   "outputs": [],
   "source": [
    "A = np.arange(10)\n",
    "scores = []\n",
    "iters = 50\n",
    "for a in A:\n",
    "    temp = 0\n",
    "    for idx in range(iters):\n",
    "        dgt = label_test[idx]\n",
    "                #sys = X_zip[idx]\n",
    "        sys = corrupt_norm(X_zip[idx], [L//4,L//4], 0.2 )\n",
    "        res = montecarlo(J, sys, 25, 500)\n",
    "        assigned_pattern = assign_digit(sys, rand_patterns, a, 8)\n",
    "        if assigned_pattern == dgt: temp += 1\n",
    "    scores.append( temp/iters )\n",
    "scores = np.array(scores)"
   ]
  },
  {
   "cell_type": "code",
   "execution_count": 107,
   "metadata": {},
   "outputs": [
    {
     "name": "stderr",
     "output_type": "stream",
     "text": [
      "No handles with labels found to put in legend.\n"
     ]
    },
    {
     "data": {
      "text/plain": [
       "<matplotlib.legend.Legend at 0x12e19b048>"
      ]
     },
     "execution_count": 107,
     "metadata": {},
     "output_type": "execute_result"
    },
    {
     "data": {
      "image/png": "[encoded data removed]",
      "text/plain": [
       "<Figure size 432x288 with 1 Axes>"
      ]
     },
     "metadata": {
      "needs_background": "light"
     },
     "output_type": "display_data"
    }
   ],
   "source": [
    "fig, ax = plt.subplots()\n",
    "ax.plot(A, scores, '--ro')\n",
    "ax.set_title('Dependance of the score on the tuning parameter between the weighted and the normal error')\n",
    "ax.set_xlabel('Power of the importance of the distance')\n",
    "ax.set_ylabel('Score')\n",
    "ax.legend()"
   ]
  },
  {
   "cell_type": "code",
   "execution_count": 64,
   "metadata": {
    "collapsed": true
   },
   "outputs": [
    {
     "name": "stderr",
     "output_type": "stream",
     "text": [
      "/Library/Frameworks/Python.framework/Versions/3.7/lib/python3.7/site-packages/ipykernel_launcher.py:19: RuntimeWarning: overflow encountered in exp\n"
     ]
    },
    {
     "name": "stdout",
     "output_type": "stream",
     "text": [
      "[ 4.83148701  4.51530612  9.93468684  3.58968254 12.24081633 11.13117478\n",
      "  5.3064059  11.89489796  7.48979592 11.83151491]\n",
      "The error of the algorithm is 0.178571\n",
      "The algorithm recognised the pattern 3 and the correct pattern is 3\n"
     ]
    },
    {
     "data": {
      "image/png": "[encoded data removed]",
      "text/plain": [
       "<Figure size 720x432 with 4 Axes>"
      ]
     },
     "metadata": {
      "needs_background": "light"
     },
     "output_type": "display_data"
    }
   ],
   "source": [
    "# Tried to run the algorithm again.\n",
    "# Still bad result.\n",
    "# Quite upset.\n",
    "\n",
    "idx = np.random.randint(0,9999)\n",
    "dgt = label_test[idx]\n",
    "\n",
    "sys = X_zip[idx]\n",
    "\n",
    "res = montecarlo(J, sys, 10, 1000)\n",
    "\n",
    "wrong_pixels = error_im(rand_patterns[dgt],sys)\n",
    "assigned_pattern = assign_digit(sys, rand_patterns, 2, 1)\n",
    "\n",
    "\n",
    "fig, ax = plt.subplots(1,4, figsize=(10,6))\n",
    "ax[0].set_title('Original pattern')\n",
    "ax[0].imshow(rand_patterns[dgt].reshape(L//2,L//2),cmap='Greys')\n",
    "ax[1].set_title('Handwritten digit')\n",
    "ax[1].imshow(sys.reshape(L//2,L//2),cmap='Greys')\n",
    "ax[2].set_title('Recovered digit')\n",
    "ax[2].imshow(res.reshape(L//2,L//2),cmap='Greys')\n",
    "ax[3].set_title('Recognised digit')\n",
    "ax[3].imshow(rand_patterns[assigned_pattern].reshape(L//2,L//2),cmap='Greys')\n",
    "print('The error of the algorithm is %f' %(wrong_pixels))\n",
    "print('The algorithm recognised the pattern %i and the correct pattern is %i' %(assigned_pattern,dgt))"
   ]
  },
  {
   "cell_type": "markdown",
   "metadata": {},
   "source": [
    "## Hopfield-chain algorithm"
   ]
  },
  {
   "cell_type": "code",
   "execution_count": 159,
   "metadata": {},
   "outputs": [
    {
     "data": {
      "text/plain": [
       "array([[0.  , 0.27, 0.24, 0.27, 0.2 , 0.24, 0.27, 0.23, 0.18, 0.22],\n",
       "       [0.27, 0.  , 0.22, 0.21, 0.16, 0.15, 0.25, 0.17, 0.16, 0.11],\n",
       "       [0.24, 0.22, 0.  , 0.22, 0.24, 0.26, 0.29, 0.31, 0.19, 0.26],\n",
       "       [0.27, 0.21, 0.22, 0.  , 0.22, 0.26, 0.3 , 0.22, 0.2 , 0.18],\n",
       "       [0.2 , 0.16, 0.24, 0.22, 0.  , 0.19, 0.24, 0.18, 0.22, 0.12],\n",
       "       [0.24, 0.15, 0.26, 0.26, 0.19, 0.  , 0.26, 0.2 , 0.22, 0.15],\n",
       "       [0.27, 0.25, 0.29, 0.3 , 0.24, 0.26, 0.  , 0.29, 0.26, 0.29],\n",
       "       [0.23, 0.17, 0.31, 0.22, 0.18, 0.2 , 0.29, 0.  , 0.16, 0.1 ],\n",
       "       [0.18, 0.16, 0.19, 0.2 , 0.22, 0.22, 0.26, 0.16, 0.  , 0.17],\n",
       "       [0.22, 0.11, 0.26, 0.18, 0.12, 0.15, 0.29, 0.1 , 0.17, 0.  ]])"
      ]
     },
     "execution_count": 159,
     "metadata": {},
     "output_type": "execute_result"
    }
   ],
   "source": [
    "# First we want to abbine the most different patterns.\n",
    "# We compute so an \"error matrix\"\n",
    "err_mat = []\n",
    "for i in range(10):\n",
    "    err_mat.append([])\n",
    "    for j in range(10):\n",
    "        err_mat[i].append( round(error_im(rand_patterns[i], rand_patterns[j]),2) )\n",
    "err_mat = np.array(err_mat).reshape(10,10)\n",
    "err_mat"
   ]
  },
  {
   "cell_type": "code",
   "execution_count": 180,
   "metadata": {},
   "outputs": [
    {
     "data": {
      "text/plain": [
       "array([[0, 1],\n",
       "       [2, 4],\n",
       "       [2, 5],\n",
       "       [2, 7],\n",
       "       [3, 6],\n",
       "       [6, 8],\n",
       "       [6, 9]])"
      ]
     },
     "execution_count": 180,
     "metadata": {},
     "output_type": "execute_result"
    }
   ],
   "source": [
    "# Selecting couples with higher differences\n",
    "best = []\n",
    "for i in range(10):\n",
    "    best.append( [i ,np.argmax( err_mat[i] )] )\n",
    "\n",
    "# Eliminating symmetric couples\n",
    "best = np.unique(np.sort(best, axis=1), axis=0)\n",
    "best "
   ]
  },
  {
   "cell_type": "code",
   "execution_count": 186,
   "metadata": {},
   "outputs": [],
   "source": [
    "# Computing the couplings for the various connections\n",
    "Ji = []\n",
    "for i in best:\n",
    "    patt = np.array( [  rand_patterns[i[0]], rand_patterns[i[1]] ] )\n",
    "    Ji.append( R_coupling( patt ,N//4, 7) ) "
   ]
  },
  {
   "cell_type": "code",
   "execution_count": 190,
   "metadata": {},
   "outputs": [
    {
     "name": "stdout",
     "output_type": "stream",
     "text": [
      "The error of the algorithm is 0.000000\n",
      "The algorithm recognised the pattern 3 and the correct pattern is 3\n"
     ]
    }
   ],
   "source": [
    "# Try with just one sample\n",
    "idx = np.random.randint(0,9999)\n",
    "dgt = label_test[idx]\n",
    "\n",
    "for i in range(len(best)):\n",
    "    sys = X_zip[idx]\n",
    "    res = montecarlo(Ji[i], sys ,25 , 1000)\n",
    "\n",
    "    wrong_pixels = error_im(rand_patterns[dgt], res)\n",
    "\n",
    "    if wrong_pixels > 0.10 and i<8: \n",
    "        continue\n",
    "    patt = np.array( [  rand_patterns[best[i][0]], rand_patterns[best[i][1]] ] )\n",
    "    assigned_pattern = assign_pattern(patt, res) \n",
    "    assigned_pattern = best[i][assigned_pattern] \n",
    "    break\n",
    "\n",
    "print('The error of the algorithm is %f' %(wrong_pixels))\n",
    "print('The algorithm recognised the pattern %i and the correct pattern is %i' %(assigned_pattern,dgt))"
   ]
  },
  {
   "cell_type": "code",
   "execution_count": 195,
   "metadata": {},
   "outputs": [],
   "source": [
    "err = []\n",
    "score = 0\n",
    "for n in range(100):\n",
    "    idx = np.random.randint(0,9999)\n",
    "    dgt = label_test[idx]\n",
    "\n",
    "    for i in range(len(best)):\n",
    "        sys = X_zip[idx]\n",
    "        res = montecarlo(Ji[i], sys ,25 , 500)\n",
    "\n",
    "        wrong_pixels = error_im(rand_patterns[dgt], res)\n",
    "\n",
    "        if wrong_pixels > 0.10 and i<8: \n",
    "            continue\n",
    "        patt = np.array( [  rand_patterns[best[i][0]], rand_patterns[best[i][1]] ] )\n",
    "        assigned_pattern = assign_pattern(patt, res) \n",
    "        assigned_pattern = best[i][assigned_pattern] \n",
    "        break\n",
    "    err.append(wrong_pixels)\n",
    "    if assigned_pattern == dgt: score += 1\n"
   ]
  },
  {
   "cell_type": "code",
   "execution_count": 196,
   "metadata": {},
   "outputs": [
    {
     "name": "stdout",
     "output_type": "stream",
     "text": [
      "The score of the algorithm is 0.890000 with an average error of 0.030102\n"
     ]
    }
   ],
   "source": [
    "err = np.array(err)\n",
    "score /= 100\n",
    "print('The score of the algorithm is %f with an average error of %f' %(score, err.mean()))"
   ]
  },
  {
   "cell_type": "markdown",
   "metadata": {},
   "source": [
    "## Old, non-optimized version of the hopfield-chain"
   ]
  },
  {
   "cell_type": "code",
   "execution_count": 188,
   "metadata": {
    "scrolled": true
   },
   "outputs": [
    {
     "name": "stdout",
     "output_type": "stream",
     "text": [
      "0\n",
      "The error of the algorithm is 0.000000\n",
      "The algorithm recognised the pattern 0 and the correct pattern is 0\n"
     ]
    }
   ],
   "source": [
    "idx = np.random.randint(0,9999)\n",
    "dgt = label_test[idx]\n",
    "\n",
    "for i in range(0,10,2):\n",
    "    #sys = X_zip[idx]\n",
    "    sys = corrupt_norm(X_zip[idx], [L//4,L//4], 0.2 )\n",
    "    res = montecarlo(Ji[i//2],sys ,25 , 1000)\n",
    "\n",
    "    wrong_pixels = error_im(rand_patterns[dgt],res)\n",
    "    print(i)\n",
    "    if wrong_pixels > 0.10 and i<8: \n",
    "        continue\n",
    "    assigned_pattern = assign_pattern(rand_patterns[i:i+2],res) \n",
    "    #print(assigned_pattern)\n",
    "    assigned_pattern += i\n",
    "    #print(assigned_pattern)\n",
    "    break\n",
    "\n",
    "print('The error of the algorithm is %f' %(wrong_pixels))\n",
    "print('The algorithm recognised the pattern %i and the correct pattern is %i' %(assigned_pattern,dgt))"
   ]
  },
  {
   "cell_type": "code",
   "execution_count": 152,
   "metadata": {},
   "outputs": [],
   "source": [
    "err = []\n",
    "score = 0\n",
    "for n in range(100):\n",
    "    idx = np.random.randint(0,9999)\n",
    "    dgt = label_test[idx]\n",
    "\n",
    "    for i in range(0,10,2):\n",
    "        sys = X_zip[idx]\n",
    "        #sys = corrupt_norm(X_zip[idx], [L//4,L//4], 0.2 )\n",
    "        res = montecarlo(Ji[i//2],sys ,25 , 1000)\n",
    "        wrong_pixels = error_im(rand_patterns[dgt],res) \n",
    "        \n",
    "        if wrong_pixels > 0.10 and i<8: \n",
    "            continue\n",
    "            \n",
    "        assigned_pattern = assign_pattern(rand_patterns[i:i+2],res) \n",
    "        assigned_pattern += i\n",
    "        break\n",
    "    err.append(wrong_pixels)\n",
    "    if assigned_pattern == dgt: score += 1\n",
    "    "
   ]
  },
  {
   "cell_type": "code",
   "execution_count": 153,
   "metadata": {},
   "outputs": [
    {
     "name": "stdout",
     "output_type": "stream",
     "text": [
      "The score of the algorithm is 0.700000 with an average error of 0.056684\n"
     ]
    }
   ],
   "source": [
    "err = np.array(err)\n",
    "score /= 100\n",
    "print('The score of the algorithm is %f with an average error of %f' %(score, err.mean()))"
   ]
  },
  {
   "cell_type": "code",
   "execution_count": null,
   "metadata": {},
   "outputs": [],
   "source": []
  }
 ],
 "metadata": {
  "kernelspec": {
   "display_name": "Python 3",
   "language": "python",
   "name": "python3"
  },
  "language_info": {
   "codemirror_mode": {
    "name": "ipython",
    "version": 3
   },
   "file_extension": ".py",
   "mimetype": "text/x-python",
   "name": "python",
   "nbconvert_exporter": "python",
   "pygments_lexer": "ipython3",
   "version": "3.7.2"
  }
 },
 "nbformat": 4,
 "nbformat_minor": 2
}
