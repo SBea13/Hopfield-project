{
 "cells": [
  {
   "cell_type": "markdown",
   "metadata": {},
   "source": [
    "Stress the importance of noise\n",
    "- gaussian noise\n",
    "- uniform noise\n",
    "- cauchy noise\n",
    "- linear noise <br>\n",
    "https://en.wikipedia.org/wiki/Noise_(signal_processing)"
   ]
  },
  {
   "cell_type": "markdown",
   "metadata": {},
   "source": [
    "## Why noise in pattern recognition\n",
    "By a simple defination, noise is the amount of meaningless information contained in corrupted data or noisy data. It incorporates any type of data that  a user system cannot understand or interpret correctly.\n",
    "Noisy data is that data which is corrupted or distorded or having a very low Signal to noise ratio. Using improper procedures to getting rid of noise in the data can lead to inaccurate results and false conlusions. Noise reduction in noisy data is very important in order to  obtain accurate results. \n",
    "\n",
    "There are many different types of noise which includes: \n",
    "- gaussian noise\n",
    "- uniform noise \n",
    "- cauchy noise\n",
    "\n",
    "We are going to implement the gaussian type since it is normally distributed and hence easier to implement.\n",
    "\n",
    "The gaussian distribution is given by:\n",
    "$$\n",
    "     \\\n",
    "X \\sim \\mathcal{N}(\\mu,\\,\\sigma^{2})\\, \\mbox { where  $\\mu$ is the mean and $\\sigma^{2}$ the variance of the distribution.}\\\\\n",
    "    \\ \n",
    "$$\n",
    " \n"
   ]
  },
  {
   "cell_type": "code",
   "execution_count": 13,
   "metadata": {},
   "outputs": [],
   "source": [
    "import numpy as np\n",
    "import random\n",
    "import pandas as pd\n",
    "import matplotlib.pyplot as plt\n",
    "import scipy as scp\n",
    "from copy import deepcopy\n",
    "%matplotlib inline"
   ]
  },
  {
   "cell_type": "code",
   "execution_count": 2,
   "metadata": {},
   "outputs": [],
   "source": [
    "# Parameters\n",
    "L = 10  # Lenght of the edge of the image\n",
    "N = L**2 # Number of spins \n",
    "p = 10 # Number of patterns\n",
    "MF = 0 # Use or not the Mean Field strategy: if MF=1 uses MF, if MF = 0 only spins at\n",
    "# a distance R interacts\n",
    "R = 3 # The 3-nearest neighbor interacts\n",
    "np.random.seed(1234) # Seed to make the random process reproducible\n"
   ]
  },
  {
   "cell_type": "code",
   "execution_count": 21,
   "metadata": {},
   "outputs": [],
   "source": [
    "# Function that are in previous notebook\n",
    "def random_patterns(N,p):\n",
    "    xi = np.random.randint(0,2,N*p).reshape(p,N) # Each line is a pattern\n",
    "    xi[xi==0]=-1\n",
    "    return xi\n",
    "\n",
    "def MF_coupling(xi,N):\n",
    "    J = 1/N * np.array( [ (xi[:,i]*xi[:,j]).sum() for i in range(N) for j in range(N) ] )\n",
    "    J = J.reshape(N,N)        \n",
    "    for i in range(len(J)):\n",
    "        J[i,i] = 0\n",
    "    return J\n",
    "\n",
    "def R_coupling(xi,N,R):\n",
    "    J = MF_coupling(xi,N)\n",
    "    for i in range( J.shape[0] ):\n",
    "        J_temp = J[i].reshape(L,L)\n",
    "        for j in range(L):\n",
    "            y = (i%L -j)**2 # Look at indexes should be ok -1\n",
    "            for k in range(L):\n",
    "                if np.sqrt( (i//L - k)**2 + y ) > R: J_temp[j,k] = 0\n",
    "        J[i] = J_temp.reshape(1,N)\n",
    "    return J\n",
    "\n",
    "def update(sys1):\n",
    "    sys = deepcopy(sys1)\n",
    "    N = len(sys)\n",
    "    for i in range(N):\n",
    "        temp = 0\n",
    "        for j in range(N): #Maybe it is possible to set the cycle on J[i][j]!=0 only\n",
    "            temp +=  J[i][j]*sys[j] \n",
    "        sys[i] = np.sign(temp)\n",
    "    return np.sign(sys)\n",
    "\n",
    "def deterministic_hopfield(sys1, t):\n",
    "    sys = deepcopy(sys1)\n",
    "    for i in range(t):\n",
    "        sys = update(sys)\n",
    "    return sys\n",
    "\n",
    "def error_im(xi_idx, sys):\n",
    "    wrong_pixels = (np.abs( sys-xi_idx )/2).sum()\n",
    "    return wrong_pixels/len(sys)\n",
    "\n",
    "def assign_pattern(xi,sys):\n",
    "    errors = [ error_im(i,sys) for i in xi ]\n",
    "    correct = np.argmin(errors)\n",
    "    return correct\n",
    "\n",
    "def total_error(xi,t):\n",
    "    errors = []\n",
    "    prediction = []\n",
    "    for mu in range(len(xi)):\n",
    "        sys = deterministic_hopfield(xi[mu],t)\n",
    "        errors.append( error_im(xi[mu],sys) )\n",
    "        if assign_pattern(xi,sys)==mu:\n",
    "            prediction.append( 1 )\n",
    "        else: prediction.append( 0 )\n",
    "    errors = (np.array(errors)).mean()\n",
    "    prediction = np.array(prediction).sum()/len(xi)\n",
    "    return errors, prediction\n",
    "    "
   ]
  },
  {
   "cell_type": "code",
   "execution_count": 25,
   "metadata": {},
   "outputs": [
    {
     "name": "stdout",
     "output_type": "stream",
     "text": [
      "Original pattern\n"
     ]
    },
    {
     "data": {
      "text/plain": [
       "<matplotlib.image.AxesImage at 0x11a2d4400>"
      ]
     },
     "execution_count": 25,
     "metadata": {},
     "output_type": "execute_result"
    },
    {
     "data": {
      "image/png": "[encoded data removed]",
      "text/plain": [
       "<Figure size 432x288 with 1 Axes>"
      ]
     },
     "metadata": {
      "needs_background": "light"
     },
     "output_type": "display_data"
    }
   ],
   "source": [
    "xi = random_patterns(N,p)\n",
    "idx = np.random.randint(0,p)\n",
    "J = R_coupling(xi,N,R)\n",
    "#J = MF_coupling(xi,N)\n",
    "print('Original pattern')\n",
    "plt.imshow(xi[idx].reshape(L,L),cmap='Greys')"
   ]
  },
  {
   "cell_type": "code",
   "execution_count": 26,
   "metadata": {},
   "outputs": [
    {
     "name": "stdout",
     "output_type": "stream",
     "text": [
      "The error of the algorithm is 0.145000\n",
      "The algorithm recognised the pattern 1 and the correct pattern is 1\n"
     ]
    },
    {
     "data": {
      "image/png": "[encoded data removed]",
      "text/plain": [
       "<Figure size 720x432 with 3 Axes>"
      ]
     },
     "metadata": {
      "needs_background": "light"
     },
     "output_type": "display_data"
    }
   ],
   "source": [
    "#creating corrupted random data thus corrupting xi\n",
    "def corrupt_uniform(sys, q): # q probability to flip the pixel\n",
    "    sys_temp = deepcopy(sys)\n",
    "    N = sys.shape[0]\n",
    "    for i in range(N):\n",
    "        r = np.random.rand()\n",
    "        if r < q:\n",
    "            sys_temp[i] *= -1\n",
    "    return sys_temp\n",
    "    \n",
    "idx = 1\n",
    "yi = corrupt_uniform(xi[idx],0.1)\n",
    "sys = deterministic_hopfield(yi,30)\n",
    "\n",
    "wrong_pixels = error_im(xi[idx],sys)\n",
    "assigned_pattern = assign_pattern(xi,sys)\n",
    "\n",
    "\n",
    "fig, ax = plt.subplots(1,3, figsize=(10,6))\n",
    "ax[0].set_title('Original pattern')\n",
    "ax[0].imshow(xi[idx].reshape(L,L),cmap='Greys')\n",
    "ax[1].set_title('Corrupted pattern')\n",
    "ax[1].imshow(yi.reshape(L,L),cmap='Greys')\n",
    "ax[2].set_title('Recovered pattern')\n",
    "ax[2].imshow(sys.reshape(L,L),cmap='Greys')\n",
    "print('The error of the algorithm is %f' %(wrong_pixels))\n",
    "print('The algorithm recognised the pattern %i and the correct pattern is %i' %(assigned_pattern,idx))"
   ]
  },
  {
   "cell_type": "code",
   "execution_count": null,
   "metadata": {},
   "outputs": [],
   "source": [
    "def corrupt_norm():\n",
    "    # overlap a 2-d gaussian to the image. How does the recognition change with regard\n",
    "    # the position of the centroid?"
   ]
  },
  {
   "cell_type": "code",
   "execution_count": null,
   "metadata": {},
   "outputs": [],
   "source": [
    "def corrupt_cauchy():"
   ]
  },
  {
   "cell_type": "code",
   "execution_count": null,
   "metadata": {},
   "outputs": [],
   "source": [
    "for q in np.arange(0,1,0.05):\n",
    "    # Add stuff"
   ]
  }
 ],
 "metadata": {
  "kernelspec": {
   "display_name": "Python 3",
   "language": "python",
   "name": "python3"
  },
  "language_info": {
   "codemirror_mode": {
    "name": "ipython",
    "version": 3
   },
   "file_extension": ".py",
   "mimetype": "text/x-python",
   "name": "python",
   "nbconvert_exporter": "python",
   "pygments_lexer": "ipython3",
   "version": "3.7.2"
  }
 },
 "nbformat": 4,
 "nbformat_minor": 2
}
