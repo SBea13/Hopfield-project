{
 "cells": [
  {
   "cell_type": "markdown",
   "metadata": {},
   "source": [
    "- Metropolis\n",
    "- lot of code less theory [Graphs]\n",
    "\n",
    "- implement the non MF version \n",
    "- look at how it depends on the parameters"
   ]
  },
  {
   "cell_type": "code",
   "execution_count": 2,
   "metadata": {},
   "outputs": [],
   "source": [
    "import numpy as np\n",
    "import pandas as pd\n",
    "import matplotlib.pyplot as plt\n",
    "import scipy as scp\n",
    "from copy import deepcopy"
   ]
  },
  {
   "cell_type": "code",
   "execution_count": 3,
   "metadata": {},
   "outputs": [],
   "source": [
    "# Parameters\n",
    "L = 10  # Lenght of the edge of the image\n",
    "N = L**2 # Number of spins \n",
    "p = 10 # Number of patterns\n",
    "MF = 0 # Use or not the Mean Field strategy: if MF=1 uses MF, if MF = 0 only spins at\n",
    "# a distance R interacts\n",
    "R = 3 # The 3-nearest neighbor interacts\n",
    "np.random.seed(1234) # Seed to make the random process reproducible"
   ]
  },
  {
   "cell_type": "code",
   "execution_count": 4,
   "metadata": {},
   "outputs": [],
   "source": [
    "# Function that are in previous notebook\n",
    "def random_patterns(N,p):\n",
    "    xi = np.random.randint(0,2,N*p).reshape(p,N) # Each line is a pattern\n",
    "    xi[xi==0]=-1\n",
    "    return xi\n",
    "\n",
    "def MF_coupling(xi,N):\n",
    "    J = 1/N * np.array( [ (xi[:,i]*xi[:,j]).sum() for i in range(N) for j in range(N) ] )\n",
    "    J = J.reshape(N,N)        \n",
    "    for i in range(len(J)):\n",
    "        J[i,i] = 0\n",
    "    return J\n",
    "\n",
    "def R_coupling(xi,N,R):\n",
    "    J = MF_coupling(xi,N)\n",
    "    for i in range( J.shape[0] ):\n",
    "        J_temp = J[i].reshape(L,L)\n",
    "        for j in range(L):\n",
    "            y = (i%L -j)**2 # Look at indexes should be ok -1\n",
    "            for k in range(L):\n",
    "                if np.sqrt( (i//L - k)**2 + y ) > R: J_temp[j,k] = 0\n",
    "        J[i] = J_temp.reshape(1,N)\n",
    "    return J\n",
    "\n",
    "def update(sys1):\n",
    "    sys = deepcopy(sys1)\n",
    "    N = len(sys)\n",
    "    for i in range(N):\n",
    "        temp = 0\n",
    "        for j in range(N): #Maybe it is possible to set the cycle on J[i][j]!=0 only\n",
    "            temp +=  J[i][j]*sys[j] \n",
    "        sys[i] = np.sign(temp)\n",
    "    return np.sign(sys)\n",
    "\n",
    "def deterministic_hopfield(sys1, t):\n",
    "    sys = deepcopy(sys1)\n",
    "    for i in range(t):\n",
    "        sys = update(sys)\n",
    "    return sys\n",
    "\n",
    "def error_im(xi_idx, sys):\n",
    "    wrong_pixels = (np.abs( sys-xi_idx )/2).sum()\n",
    "    return wrong_pixels/len(sys)\n",
    "\n",
    "def assign_pattern(xi,sys):\n",
    "    errors = [ error_im(i,sys) for i in xi ]\n",
    "    correct = np.argmin(errors)\n",
    "    return correct\n",
    "\n",
    "def total_error(xi,t):\n",
    "    errors = []\n",
    "    prediction = []\n",
    "    for mu in range(len(xi)):\n",
    "        sys = deterministic_hopfield(xi[mu],t)\n",
    "        errors.append( error_im(xi[mu],sys) )\n",
    "        if assign_pattern(xi,sys)==mu:\n",
    "            prediction.append( 1 )\n",
    "        else: prediction.append( 0 )\n",
    "    errors = (np.array(errors)).mean()\n",
    "    prediction = np.array(prediction).sum()/len(xi)\n",
    "    return errors, prediction\n",
    "\n",
    "def corrupt_uniform(sys, q): # q probability to flip the pixel\n",
    "    sys_temp = deepcopy(sys)\n",
    "    N = sys.shape[0]\n",
    "    for i in range(N):\n",
    "        r = np.random.rand()\n",
    "        if r < q:\n",
    "            sys_temp[i] *= -1\n",
    "    return sys_temp"
   ]
  },
  {
   "cell_type": "code",
   "execution_count": 5,
   "metadata": {},
   "outputs": [],
   "source": [
    "xi = random_patterns(N,p)\n",
    "J = MF_coupling(xi,N)"
   ]
  },
  {
   "cell_type": "code",
   "execution_count": 6,
   "metadata": {},
   "outputs": [],
   "source": [
    "def H(J,sys):\n",
    "    N = sys.shape[0]\n",
    "    energy = 0\n",
    "    for i in range(N):\n",
    "        for j in range(i):\n",
    "            energy -= J[i][j]*sys[i]*sys[j]\n",
    "    return energy\n",
    "\n",
    "# Mean Field version of dH\n",
    "def dH(J, sys, k): # k is the index of the spin flipped\n",
    "    N = sys.shape[0]\n",
    "    dh = 0\n",
    "    for i in range(N):\n",
    "        dh += sys[i]*J[k][i]\n",
    "    dh *= 2*sys[k]\n",
    "    return dh\n",
    "\n",
    "def metropolis(J, sys1, k, B): # B = 1/kbT temperature of the system\n",
    "    sys = deepcopy(sys1)\n",
    "    dh = dH(J, sys, k)\n",
    "    r = np.random.rand() # random variable between (0,1)\n",
    "    if r < np.exp( -B*dh ):\n",
    "        sys[k] = -sys[k]\n",
    "    return sys\n",
    "    \n",
    "def montecarlo(J, sys1, B, t ): # t number of iteration of the montecarlo\n",
    "    sys = deepcopy(sys1)\n",
    "    N = sys.shape[0]\n",
    "    for i in range(t):\n",
    "        k = np.random.randint(0,N)\n",
    "        sys = metropolis(J, sys, k, B)\n",
    "    return sys"
   ]
  },
  {
   "cell_type": "code",
   "execution_count": 7,
   "metadata": {},
   "outputs": [
    {
     "name": "stdout",
     "output_type": "stream",
     "text": [
      "The error of the algorithm is 0.000000\n",
      "The algorithm recognised the pattern 3 and the correct pattern is 3\n"
     ]
    },
    {
     "data": {
      "image/png": "[encoded data removed]",
      "text/plain": [
       "<Figure size 720x432 with 2 Axes>"
      ]
     },
     "metadata": {
      "needs_background": "light"
     },
     "output_type": "display_data"
    }
   ],
   "source": [
    "idx = 3\n",
    "\n",
    "sys = montecarlo(J,xi[idx], 10, 1000)\n",
    "wrong_pixels = error_im(xi[idx],sys)\n",
    "assigned_pattern = assign_pattern(xi,sys)\n",
    "\n",
    "\n",
    "fig, ax = plt.subplots(1,2, figsize = (10,6))\n",
    "ax[0].set_title('Pattern')\n",
    "ax[0].imshow(xi[idx].reshape(L,L), cmap='Greys')\n",
    "ax[1].set_title('Finishing configuration')\n",
    "ax[1].imshow(sys.reshape(L,L), cmap='Greys')\n",
    "print('The error of the algorithm is %f' %(wrong_pixels))\n",
    "print('The algorithm recognised the pattern %i and the correct pattern is %i' %(assigned_pattern,idx))"
   ]
  },
  {
   "cell_type": "code",
   "execution_count": 24,
   "metadata": {
    "scrolled": true
   },
   "outputs": [
    {
     "name": "stdout",
     "output_type": "stream",
     "text": [
      "The error of the algorithm is 0.260000\n",
      "The algorithm recognised the pattern 3 and the correct pattern is 3\n"
     ]
    },
    {
     "data": {
      "image/png": "[encoded data removed]",
      "text/plain": [
       "<Figure size 720x432 with 2 Axes>"
      ]
     },
     "metadata": {
      "needs_background": "light"
     },
     "output_type": "display_data"
    }
   ],
   "source": [
    "idx = 3\n",
    "\n",
    "yi = corrupt_uniform(xi[idx], 0.35)\n",
    "\n",
    "sys = montecarlo(J,yi, 10, 100)\n",
    "wrong_pixels = error_im(xi[idx],sys)\n",
    "assigned_pattern = assign_pattern(xi,sys)\n",
    "\n",
    "\n",
    "fig, ax = plt.subplots(1,2, figsize = (10,6))\n",
    "ax[0].set_title('Pattern')\n",
    "ax[0].imshow(xi[idx].reshape(L,L), cmap='Greys')\n",
    "ax[1].set_title('Finishing configuration')\n",
    "ax[1].imshow(sys.reshape(L,L), cmap='Greys')\n",
    "print('The error of the algorithm is %f' %(wrong_pixels))\n",
    "print('The algorithm recognised the pattern %i and the correct pattern is %i' %(assigned_pattern,idx))"
   ]
  },
  {
   "cell_type": "markdown",
   "metadata": {},
   "source": [
    "# NON MEAN FIELD MONTECARLO"
   ]
  },
  {
   "cell_type": "code",
   "execution_count": 9,
   "metadata": {},
   "outputs": [],
   "source": [
    "# Bounds in i//L=0, i%L=0, i%L=L-1, i//(L-1)(L-1)**2=0"
   ]
  },
  {
   "cell_type": "markdown",
   "metadata": {},
   "source": [
    "Steps to understand the actual algorithm. It is not easy at all so pay attention"
   ]
  },
  {
   "cell_type": "code",
   "execution_count": 10,
   "metadata": {
    "scrolled": true
   },
   "outputs": [
    {
     "data": {
      "text/plain": [
       "array([[1., 1., 1., 1., 1., 1., 1., 1., 1., 1.],\n",
       "       [1., 0., 0., 0., 0., 0., 0., 0., 0., 1.],\n",
       "       [1., 0., 0., 0., 0., 0., 0., 0., 0., 1.],\n",
       "       [1., 0., 0., 0., 0., 0., 0., 0., 0., 1.],\n",
       "       [1., 0., 0., 0., 0., 0., 0., 0., 0., 1.],\n",
       "       [1., 0., 0., 0., 0., 0., 0., 0., 0., 1.],\n",
       "       [1., 0., 0., 0., 0., 0., 0., 0., 0., 1.],\n",
       "       [1., 0., 0., 0., 0., 0., 0., 0., 0., 1.],\n",
       "       [1., 0., 0., 0., 0., 0., 0., 0., 0., 1.],\n",
       "       [1., 1., 1., 1., 1., 1., 1., 1., 1., 1.]])"
      ]
     },
     "execution_count": 10,
     "metadata": {},
     "output_type": "execute_result"
    }
   ],
   "source": [
    "l = 10\n",
    "a = np.zeros(l*l)#.reshape(l,l)\n",
    "for i in range(l*l):\n",
    "    if i//l == 0: a[i]=1  # first row\n",
    "    if i%l == 0: a[i]=1 # first column\n",
    "    if i%l == l-1: a[i]=1 # last column\n",
    "    if i//l ==l-1 : a[i]=1 # last row\n",
    "a.reshape(l,l)"
   ]
  },
  {
   "cell_type": "code",
   "execution_count": 11,
   "metadata": {},
   "outputs": [
    {
     "data": {
      "text/plain": [
       "array([[1., 0., 0., 0., 0., 0., 0., 0., 0., 0.],\n",
       "       [0., 1., 1., 0., 0., 0., 0., 0., 0., 0.],\n",
       "       [1., 0., 0., 0., 0., 0., 0., 0., 0., 0.],\n",
       "       [1., 0., 0., 0., 0., 0., 0., 0., 0., 0.],\n",
       "       [0., 0., 0., 0., 0., 0., 0., 0., 0., 0.],\n",
       "       [0., 0., 0., 0., 0., 0., 0., 0., 0., 0.],\n",
       "       [0., 0., 0., 0., 0., 0., 0., 0., 0., 0.],\n",
       "       [0., 0., 0., 0., 0., 0., 0., 0., 0., 0.],\n",
       "       [0., 0., 0., 0., 0., 0., 0., 0., 0., 0.],\n",
       "       [0., 0., 0., 0., 0., 0., 0., 0., 0., 0.]])"
      ]
     },
     "execution_count": 11,
     "metadata": {},
     "output_type": "execute_result"
    }
   ],
   "source": [
    "k = 10\n",
    "r = 2\n",
    "a = np.zeros(l*l)\n",
    "for i in range(k+1,k+r+1): # going right\n",
    "    if k%l == l-1: break # right bound\n",
    "    a[i]=1\n",
    "    if i%l == l-1: break # last column bound\n",
    "for i in range(k-1,k-r-1,-1): # going left\n",
    "    if k%l == 0: break # left bound\n",
    "    a[i]=1\n",
    "    if i%l == 0: break # first column bound\n",
    "for i in range(k+l,k+(r+1)*l,l): # going down\n",
    "    if k//l == l-1: break # low bound\n",
    "    a[i]=1\n",
    "    if i//l ==l-1 : break # last row bound\n",
    "for i in range(k-l, k-l*(r+1), -l): # going up\n",
    "    if k//l == 0: break # up bound\n",
    "    a[i]=1\n",
    "    if i//l == 0: break  # first row bound\n",
    "a.reshape(l,l)"
   ]
  },
  {
   "cell_type": "code",
   "execution_count": 12,
   "metadata": {},
   "outputs": [
    {
     "data": {
      "text/plain": [
       "array([[0., 0., 0., 0., 0., 0., 0., 0., 0., 0.],\n",
       "       [0., 0., 0., 0., 0., 0., 0., 0., 0., 0.],\n",
       "       [0., 0., 0., 0., 0., 0., 0., 0., 0., 0.],\n",
       "       [0., 0., 0., 0., 0., 0., 0., 0., 0., 0.],\n",
       "       [0., 0., 0., 0., 0., 0., 0., 0., 0., 0.],\n",
       "       [0., 0., 0., 0., 0., 0., 1., 1., 0., 1.],\n",
       "       [0., 0., 0., 0., 0., 1., 1., 1., 0., 1.],\n",
       "       [0., 0., 0., 0., 0., 1., 1., 1., 0., 1.],\n",
       "       [0., 0., 0., 0., 0., 0., 0., 0., 5., 0.],\n",
       "       [0., 0., 0., 0., 0., 1., 1., 1., 0., 1.]])"
      ]
     },
     "execution_count": 12,
     "metadata": {},
     "output_type": "execute_result"
    }
   ],
   "source": [
    "a = np.zeros(l*l)\n",
    "k = l*(l-1)-2\n",
    "r = 4\n",
    "a[k]=5\n",
    "for i in range(1,r):\n",
    "    if k%l == l-1 or k//l == l-1: break # right low bound\n",
    "    for j in range(1,r):\n",
    "        if i==j==r-1: continue\n",
    "        a[k+j+i*l] = 1 # right low\n",
    "        if (k+j+i*l)%l == l-1 : \n",
    "            break # last column bound\n",
    "    if (k+j+i*l)//l ==l-1 : break # last row bound\n",
    "        \n",
    "for i in range(1,r):\n",
    "    if k%l == 0 or k//l == l-1: break # left low bound\n",
    "    for j in range(1,r):\n",
    "        if i==j==r-1: continue\n",
    "        a[k-j+i*l] = 1 # left low\n",
    "        if (k-j+i*l)%l == 0 : break #  first column bound\n",
    "    if (k-j+i*l)//l ==l-1 : break # last row bound\n",
    "        \n",
    "for i in range(1,r):\n",
    "    if k//l == 0 or k%l == l-1: break # up right bound\n",
    "    for j in range(1,r):\n",
    "        if i==j==r-1: continue\n",
    "        a[k+j-i*l] = 1 # right up\n",
    "        if (k+j-i*l)%l == l-1: break  # last column bound\n",
    "    if (k+j-i*l)//l == 0: break # first row bound\n",
    "        \n",
    "for i in range(1,r):\n",
    "    if k//l == 0 or k%l == 0 : break # up left bound\n",
    "    for j in range(1,r):\n",
    "        if i==j==r-1: continue\n",
    "        a[k-j-i*l] = 1 # left up\n",
    "        if (k-j-i*l)%l == l-1: break  #last column bound\n",
    "    if (k-j-i*l)//l == 0 : break # first row bound\n",
    "       \n",
    "a.reshape(l,l)"
   ]
  },
  {
   "cell_type": "markdown",
   "metadata": {},
   "source": [
    "Now that we have actually understood how to call all the nn we can do it (FINALLY)"
   ]
  },
  {
   "cell_type": "code",
   "execution_count": 13,
   "metadata": {},
   "outputs": [],
   "source": [
    "def perpendicolar_nn(J, sys, k, r):\n",
    "    dh = 0\n",
    "    l = int(np.sqrt(sys.shape[0]))\n",
    "    for i in range(k+1,k+r+1): # going right\n",
    "        if k%l == l-1: break # right bound\n",
    "        dh += J[i][k]*sys[i]\n",
    "        if i%l == l-1: break # last column bound\n",
    "            \n",
    "    for i in range(k-1,k-r-1,-1): # going left\n",
    "        if k%l == 0: break # left bound\n",
    "        dh += J[i][k]*sys[i]\n",
    "        if i%l == 0: break # first column bound\n",
    "            \n",
    "    for i in range(k+l,k+(r+1)*l,l): # going down\n",
    "        if k//l == l-1: break # low bound\n",
    "        dh += J[i][k]*sys[i]\n",
    "        if i//l ==l-1 : break # last row bound\n",
    "            \n",
    "    for i in range(k-l, k-l*(r+1), -l): # going up\n",
    "        if k//l == 0: break # up bound\n",
    "        dh += J[i][k]*sys[i]\n",
    "        if i//l == 0: break  # first row bound\n",
    "    return dh\n",
    "            \n",
    "def diagonal_nn(J, sys, k, r):\n",
    "    dh = 0\n",
    "    l = int(np.sqrt(sys.shape[0]))\n",
    "    for i in range(1,r):\n",
    "        if k%l == l-1 or k//l == l-1: break # right low bound\n",
    "        for j in range(1,r):\n",
    "            if i==j==r-1: continue\n",
    "            dh += J[k+j+i*l][k]*sys[k+j+i*l]  # right low\n",
    "            if (k+j+i*l)%l == l-1 : break # last column bound\n",
    "        if (k+j+i*l)//l ==l-1 : break # last row bound\n",
    "        \n",
    "    for i in range(1,r):\n",
    "        if k%l == 0 or k//l == l-1: break # left low bound\n",
    "        for j in range(1,r):\n",
    "            if i==j==r-1: continue\n",
    "            dh += J[k-j+i*l][k]*sys[k-j+i*l]  # left low\n",
    "            if (k-j+i*l)%l == 0 : break #  first column bound\n",
    "        if (k-j+i*l)//l ==l-1 : break # last row bound\n",
    "        \n",
    "    for i in range(1,r):\n",
    "        if k//l == 0 or k%l == l-1: break # up right bound\n",
    "        for j in range(1,r):\n",
    "            if i==j==r-1: continue\n",
    "            dh += J[k+j-i*l][k]*sys[k+j-i*l] # right up\n",
    "            if (k+j-i*l)%l == l-1: break  # last column bound\n",
    "        if (k+j-i*l)//l == 0: break # first row bound\n",
    "        \n",
    "    for i in range(1,r):\n",
    "        if k//l == 0 or k%l == 0 : break # up left bound\n",
    "        for j in range(1,r):\n",
    "            if i==j==r-1: continue\n",
    "            dh += J[k-j-i*l][k]*sys[k-j-i*l] # left up\n",
    "            if (k-j-i*l)%l == l-1: break  #last column bound\n",
    "        if (k-j-i*l)//l == 0 : break # first row bound\n",
    "    return dh\n",
    "\n",
    "def not_MF_dH(J, sys, k, R):\n",
    "    dh = perpendicolar_nn(J, sys, k, R) + diagonal_nn(J, sys, k, R)\n",
    "    dh *= 2*sys[k]\n",
    "    return dh\n",
    "\n",
    "def not_MF_metropolis(J, sys1, k, B, R): # B = 1/kbT temperature of the system\n",
    "    sys = deepcopy(sys1)\n",
    "    dh = not_MF_dH(J, sys, k, R)\n",
    "    r = np.random.rand() # random variable between (0,1)\n",
    "    if r < np.exp( -B*dh ):\n",
    "        sys[k] = -sys[k]\n",
    "    return sys\n",
    "\n",
    "def not_MF_montecarlo(J, sys1, B, R, t ): # t number of iteration of the montecarlo\n",
    "    sys = deepcopy(sys1)\n",
    "    N = sys.shape[0]\n",
    "    for i in range(t):\n",
    "        k = np.random.randint(0,N)\n",
    "        sys = not_MF_metropolis(J, sys, k, B, R)\n",
    "    return sys"
   ]
  },
  {
   "cell_type": "code",
   "execution_count": 14,
   "metadata": {},
   "outputs": [],
   "source": [
    "xi = random_patterns(N,p)\n",
    "J = R_coupling(xi,N,3)"
   ]
  },
  {
   "cell_type": "code",
   "execution_count": 29,
   "metadata": {},
   "outputs": [
    {
     "name": "stdout",
     "output_type": "stream",
     "text": [
      "The error of the algorithm is 0.380000\n",
      "The algorithm recognised the pattern 2 and the correct pattern is 3\n"
     ]
    },
    {
     "data": {
      "image/png": "[encoded data removed]",
      "text/plain": [
       "<Figure size 720x432 with 2 Axes>"
      ]
     },
     "metadata": {
      "needs_background": "light"
     },
     "output_type": "display_data"
    }
   ],
   "source": [
    "idx = 3\n",
    "\n",
    "sys = not_MF_montecarlo(J,xi[idx], 10, 3, 1000)\n",
    "wrong_pixels = error_im(xi[idx],sys)\n",
    "assigned_pattern = assign_pattern(xi,sys)\n",
    "\n",
    "\n",
    "fig, ax = plt.subplots(1,2, figsize = (10,6))\n",
    "ax[0].set_title('Pattern')\n",
    "ax[0].imshow(xi[idx].reshape(L,L), cmap='Greys')\n",
    "ax[1].set_title('Finishing configuration')\n",
    "ax[1].imshow(sys.reshape(L,L), cmap='Greys')\n",
    "print('The error of the algorithm is %f' %(wrong_pixels))\n",
    "print('The algorithm recognised the pattern %i and the correct pattern is %i' %(assigned_pattern,idx))"
   ]
  },
  {
   "cell_type": "code",
   "execution_count": 41,
   "metadata": {},
   "outputs": [
    {
     "name": "stdout",
     "output_type": "stream",
     "text": [
      "The error of the algorithm is 0.360000\n",
      "The algorithm recognised the pattern 2 and the correct pattern is 3\n"
     ]
    },
    {
     "data": {
      "image/png": "[encoded data removed]",
      "text/plain": [
       "<Figure size 720x432 with 2 Axes>"
      ]
     },
     "metadata": {
      "needs_background": "light"
     },
     "output_type": "display_data"
    }
   ],
   "source": [
    "idx = 3\n",
    "yi = corrupt_uniform(xi[idx], 0.35)\n",
    "\n",
    "sys = montecarlo(J,yi, 100, 100)\n",
    "\n",
    "wrong_pixels = error_im(xi[idx],sys)\n",
    "assigned_pattern = assign_pattern(xi,sys)\n",
    "\n",
    "fig, ax = plt.subplots(1,2, figsize = (10,6))\n",
    "ax[0].set_title('Pattern')\n",
    "ax[0].imshow(xi[idx].reshape(L,L), cmap='Greys')\n",
    "ax[1].set_title('Finishing configuration')\n",
    "ax[1].imshow(sys.reshape(L,L), cmap='Greys')\n",
    "print('The error of the algorithm is %f' %(wrong_pixels))\n",
    "print('The algorithm recognised the pattern %i and the correct pattern is %i' %(assigned_pattern,idx))"
   ]
  },
  {
   "cell_type": "code",
   "execution_count": null,
   "metadata": {},
   "outputs": [],
   "source": []
  }
 ],
 "metadata": {
  "kernelspec": {
   "display_name": "Python 3",
   "language": "python",
   "name": "python3"
  },
  "language_info": {
   "codemirror_mode": {
    "name": "ipython",
    "version": 3
   },
   "file_extension": ".py",
   "mimetype": "text/x-python",
   "name": "python",
   "nbconvert_exporter": "python",
   "pygments_lexer": "ipython3",
   "version": "3.7.2"
  }
 },
 "nbformat": 4,
 "nbformat_minor": 2
}
