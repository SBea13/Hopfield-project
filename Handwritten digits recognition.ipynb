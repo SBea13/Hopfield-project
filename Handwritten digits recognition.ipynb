{
 "cells": [
  {
   "cell_type": "markdown",
   "metadata": {},
   "source": [
    "We think of this if we reach it"
   ]
  },
  {
   "cell_type": "code",
   "execution_count": 1,
   "metadata": {},
   "outputs": [],
   "source": [
    "import numpy as np\n",
    "import pandas as pd\n",
    "import matplotlib.pyplot as plt\n",
    "import scipy as scp\n",
    "from copy import deepcopy"
   ]
  },
  {
   "cell_type": "code",
   "execution_count": 2,
   "metadata": {},
   "outputs": [],
   "source": [
    "# Parameters\n",
    "L = 28  # Lenght of the edge of the image\n",
    "N = L**2 # Number of spins \n",
    "p = 10 # Number of patterns\n",
    "MF = 0 # Use or not the Mean Field strategy: if MF=1 uses MF, if MF = 0 only spins at\n",
    "# a distance R interacts\n",
    "R = 3 # The 3-nearest neighbor interacts\n",
    "np.random.seed(1234) # Seed to make the random process reproducible"
   ]
  },
  {
   "cell_type": "code",
   "execution_count": 23,
   "metadata": {},
   "outputs": [],
   "source": [
    "# Function that are in previous notebook\n",
    "def random_patterns(N,p):\n",
    "    xi = np.random.randint(0,2,N*p).reshape(p,N) # Each line is a pattern\n",
    "    xi[xi==0]=-1\n",
    "    return xi\n",
    "\n",
    "def MF_coupling(xi,N):\n",
    "    J = 1/N * np.array( [ (xi[:,i]*xi[:,j]).sum() for i in range(N) for j in range(N) ] )\n",
    "    J = J.reshape(N,N)        \n",
    "    for i in range(len(J)):\n",
    "        J[i,i] = 0\n",
    "    return J\n",
    "\n",
    "def R_coupling(xi,N,R):\n",
    "    J = MF_coupling(xi,N)\n",
    "    L = int(np.sqrt(N))\n",
    "    for i in range( J.shape[0] ):\n",
    "        J_temp = J[i].reshape(L,L)\n",
    "        for j in range(L):\n",
    "            y = (i%L -j)**2 # Look at indexes should be ok -1\n",
    "            for k in range(L):\n",
    "                if np.sqrt( (i//L - k)**2 + y ) > R: J_temp[j,k] = 0\n",
    "        J[i] = J_temp.reshape(1,N)\n",
    "    return J\n",
    "\n",
    "def update(sys1):\n",
    "    sys = deepcopy(sys1)\n",
    "    N = len(sys)\n",
    "    for i in range(N):\n",
    "        temp = 0\n",
    "        for j in range(N): #Maybe it is possible to set the cycle on J[i][j]!=0 only\n",
    "            temp +=  J[i][j]*sys[j] \n",
    "        sys[i] = np.sign(temp)\n",
    "    return np.sign(sys)\n",
    "\n",
    "def deterministic_hopfield(sys1, t):\n",
    "    sys = deepcopy(sys1)\n",
    "    for i in range(t):\n",
    "        sys = update(sys)\n",
    "    return sys\n",
    "\n",
    "def error_im(xi_idx, sys):\n",
    "    wrong_pixels = (np.abs( sys-xi_idx )/2).sum()\n",
    "    return wrong_pixels/len(sys)\n",
    "\n",
    "def assign_pattern(xi,sys):\n",
    "    errors = [ error_im(i,sys) for i in xi ]\n",
    "    correct = np.argmin(errors)\n",
    "    return correct\n",
    "\n",
    "def total_error(xi,t):\n",
    "    errors = []\n",
    "    prediction = []\n",
    "    for mu in range(len(xi)):\n",
    "        sys = deterministic_hopfield(xi[mu],t)\n",
    "        errors.append( error_im(xi[mu],sys) )\n",
    "        if assign_pattern(xi,sys)==mu:\n",
    "            prediction.append( 1 )\n",
    "        else: prediction.append( 0 )\n",
    "    errors = (np.array(errors)).mean()\n",
    "    prediction = np.array(prediction).sum()/len(xi)\n",
    "    return errors, prediction\n",
    "\n",
    "def corrupt_uniform(sys, q): # q probability to flip the pixel\n",
    "    sys_temp = deepcopy(sys)\n",
    "    N = sys.shape[0]\n",
    "    for i in range(N):\n",
    "        r = np.random.rand()\n",
    "        if r < q:\n",
    "            sys_temp[i] *= -1\n",
    "    return sys_temp\n",
    "\n",
    "def H(J,sys):\n",
    "    N = sys.shape[0]\n",
    "    energy = 0\n",
    "    for i in range(N):\n",
    "        for j in range(i):\n",
    "            energy -= J[i][j]*sys[i]*sys[j]\n",
    "    return energy\n",
    "\n",
    "# Mean Field version of dH\n",
    "def dH(J, sys, k): # k is the index of the spin flipped\n",
    "    N = sys.shape[0]\n",
    "    dh = 0\n",
    "    for i in range(N):\n",
    "        dh += sys[i]*J[k][i]\n",
    "    dh *= 2*sys[k]\n",
    "    return dh\n",
    "\n",
    "def metropolis(J, sys1, k, B): # B = 1/kbT temperature of the system\n",
    "    sys = deepcopy(sys1)\n",
    "    dh = dH(J, sys, k)\n",
    "    r = np.random.rand() # random variable between (0,1)\n",
    "    if r < np.exp( -B*dh ):\n",
    "        sys[k] = -sys[k]\n",
    "    return sys\n",
    "    \n",
    "def montecarlo(J, sys1, B, t ): # t number of iteration of the montecarlo\n",
    "    sys = deepcopy(sys1)\n",
    "    N = sys.shape[0]\n",
    "    for i in range(t):\n",
    "        k = np.random.randint(0,N)\n",
    "        sys = metropolis(J, sys, k, B)\n",
    "    return sys\n",
    "\n",
    "def perpendicolar_nn(J, sys, k, r):\n",
    "    dh = 0\n",
    "    l = int(np.sqrt(sys.shape[0]))\n",
    "    for i in range(k+1,k+r+1): # going right\n",
    "        if k%l == l-1: break # right bound\n",
    "        dh += J[i][k]*sys[i]\n",
    "        if i%l == l-1: break # last column bound\n",
    "            \n",
    "    for i in range(k-1,k-r-1,-1): # going left\n",
    "        if k%l == 0: break # left bound\n",
    "        dh += J[i][k]*sys[i]\n",
    "        if i%l == 0: break # first column bound\n",
    "            \n",
    "    for i in range(k+l,k+(r+1)*l,l): # going down\n",
    "        if k//l == l-1: break # low bound\n",
    "        dh += J[i][k]*sys[i]\n",
    "        if i//l ==l-1 : break # last row bound\n",
    "            \n",
    "    for i in range(k-l, k-l*(r+1), -l): # going up\n",
    "        if k//l == 0: break # up bound\n",
    "        dh += J[i][k]*sys[i]\n",
    "        if i//l == 0: break  # first row bound\n",
    "    return dh\n",
    "            \n",
    "def diagonal_nn(J, sys, k, r):\n",
    "    dh = 0\n",
    "    l = int(np.sqrt(sys.shape[0]))\n",
    "    for i in range(1,r):\n",
    "        if k%l == l-1 or k//l == l-1: break # right low bound\n",
    "        for j in range(1,r):\n",
    "            if i==j==r-1: continue\n",
    "            dh += J[k+j+i*l][k]*sys[k+j+i*l]  # right low\n",
    "            if (k+j+i*l)%l == l-1 : break # last column bound\n",
    "        if (k+j+i*l)//l ==l-1 : break # last row bound\n",
    "        \n",
    "    for i in range(1,r):\n",
    "        if k%l == 0 or k//l == l-1: break # left low bound\n",
    "        for j in range(1,r):\n",
    "            if i==j==r-1: continue\n",
    "            dh += J[k-j+i*l][k]*sys[k-j+i*l]  # left low\n",
    "            if (k-j+i*l)%l == 0 : break #  first column bound\n",
    "        if (k-j+i*l)//l ==l-1 : break # last row bound\n",
    "        \n",
    "    for i in range(1,r):\n",
    "        if k//l == 0 or k%l == l-1: break # up right bound\n",
    "        for j in range(1,r):\n",
    "            if i==j==r-1: continue\n",
    "            dh += J[k+j-i*l][k]*sys[k+j-i*l] # right up\n",
    "            if (k+j-i*l)%l == l-1: break  # last column bound\n",
    "        if (k+j-i*l)//l == 0: break # first row bound\n",
    "        \n",
    "    for i in range(1,r):\n",
    "        if k//l == 0 or k%l == 0 : break # up left bound\n",
    "        for j in range(1,r):\n",
    "            if i==j==r-1: continue\n",
    "            dh += J[k-j-i*l][k]*sys[k-j-i*l] # left up\n",
    "            if (k-j-i*l)%l == l-1: break  #last column bound\n",
    "        if (k-j-i*l)//l == 0 : break # first row bound\n",
    "    return dh\n",
    "\n",
    "def not_MF_dH(J, sys, k, R):\n",
    "    dh = perpendicolar_nn(J, sys, k, R) + diagonal_nn(J, sys, k, R)\n",
    "    dh *= 2*sys[k]\n",
    "    return dh\n",
    "\n",
    "def not_MF_metropolis(J, sys1, k, B, R): # B = 1/kbT temperature of the system\n",
    "    sys = deepcopy(sys1)\n",
    "    dh = not_MF_dH(J, sys, k, R)\n",
    "    r = np.random.rand() # random variable between (0,1)\n",
    "    if r < np.exp( -B*dh ):\n",
    "        sys[k] = -sys[k]\n",
    "    return sys\n",
    "\n",
    "def not_MF_montecarlo(J, sys1, B, R, t ): # t number of iteration of the montecarlo\n",
    "    sys = deepcopy(sys1)\n",
    "    N = sys.shape[0]\n",
    "    for i in range(t):\n",
    "        k = np.random.randint(0,N)\n",
    "        sys = not_MF_metropolis(J, sys, k, B, R)\n",
    "    return sys\n",
    "\n",
    "def corrupt_norm(sys, k, h):\n",
    "    sys_temp = deepcopy(sys)\n",
    "    N = sys.shape[0]\n",
    "    L = int(np.sqrt(N))\n",
    "    sys_temp = sys_temp.reshape(L,L)\n",
    "    for i in range(L):\n",
    "        for j in range(L):\n",
    "            g = gaus(k, L/5, h, i, j)\n",
    "            r = np.random.rand()\n",
    "            if r < g:\n",
    "                sys_temp[i][j] *= -1\n",
    "    return (sys_temp.reshape(1,N))[0]\n",
    "\n",
    "def gaus(mu, sigma, h, x, y):\n",
    "    h = np.sqrt(h)\n",
    "    g_x = np.exp(-( (x-mu[0])**2 / ( 2.0 * sigma**2 ) ) )*h#/np.sqrt(2*np.pi*sigma**2)\n",
    "    g_y = np.exp(-( (y-mu[1])**2 / ( 2.0 * sigma**2 ) ) )*h#/np.sqrt(2*np.pi*sigma**2)\n",
    "    g = g_y * g_x\n",
    "    return g"
   ]
  },
  {
   "cell_type": "code",
   "execution_count": 4,
   "metadata": {},
   "outputs": [],
   "source": [
    "def from_minst_to_spin(X):\n",
    "    X = X/255 # Normalizing the values \n",
    "    X[ X<0.2 ] = -1\n",
    "    X[ X>=0.2 ] = 1\n",
    "    return X"
   ]
  },
  {
   "cell_type": "code",
   "execution_count": 5,
   "metadata": {},
   "outputs": [],
   "source": [
    "# Just rewrite the path if you want to try it\n",
    "data_train = pd.read_csv('/Users/Marco/Desktop/data/mnist_train.csv')\n",
    "data_test = pd.read_csv('/Users/Marco/Desktop/data/mnist_test.csv')"
   ]
  },
  {
   "cell_type": "code",
   "execution_count": 6,
   "metadata": {},
   "outputs": [],
   "source": [
    "# Actually I didn't use them since they are too much\n",
    "label_train = []\n",
    "digits_train = []\n",
    "for i in range(data_train.shape[0]):\n",
    "    a = np.array( data_train.iloc[ [i] ])\n",
    "    label_train.append( a[0][0])\n",
    "    digits_train.append( a[0][1:] )\n",
    "\n",
    "label_train = np.array(label_train)\n",
    "digits_train = np.array(digits_train)\n",
    "X_train = from_minst_to_spin(digits_train) # from value to {-1,1}"
   ]
  },
  {
   "cell_type": "code",
   "execution_count": 10,
   "metadata": {},
   "outputs": [],
   "source": [
    "# Used them even if test since less\n",
    "label_test = []\n",
    "digits_test = []\n",
    "for i in range(data_test.shape[0]):\n",
    "    a = np.array( data_test.iloc[ [i] ])\n",
    "    label_test.append( a[0][0])\n",
    "    digits_test.append( a[0][1:] )\n",
    "\n",
    "label_test = np.array(label_test)\n",
    "digits_test = np.array(digits_test)\n",
    "X_test = from_minst_to_spin(digits_test)"
   ]
  },
  {
   "cell_type": "code",
   "execution_count": 11,
   "metadata": {},
   "outputs": [],
   "source": [
    "# Try with patterns that are the average over all the digits.\n",
    "# For example take the all 0, sum over the pixel and divide for the number of images.\n",
    "# If the value is negative -> -1, the other case 1\n",
    "mean_patterns = []\n",
    "for i in range(10):\n",
    "    mean_patterns.append( from_minst_to_spin(X_test[ label_test == i ].sum(axis=0)) )\n",
    "mean_patterns = np.array(mean_patterns)"
   ]
  },
  {
   "cell_type": "code",
   "execution_count": 12,
   "metadata": {},
   "outputs": [],
   "source": [
    "# Just select random samples as patterns\n",
    "rand_patterns = []\n",
    "for i in range(10):\n",
    "    temp = X_test[ label_test == i ].shape[0]\n",
    "    temp = np.random.randint(0,temp)\n",
    "    rand_patterns.append( X_test[ label_test == i ][temp] )\n",
    "rand_patterns = np.array(rand_patterns)"
   ]
  },
  {
   "cell_type": "code",
   "execution_count": 54,
   "metadata": {},
   "outputs": [
    {
     "data": {
      "text/plain": [
       "<matplotlib.image.AxesImage at 0x1127a5c88>"
      ]
     },
     "execution_count": 54,
     "metadata": {},
     "output_type": "execute_result"
    },
    {
     "data": {
      "image/png": "[encoded data removed]",
      "text/plain": [
       "<Figure size 432x288 with 1 Axes>"
      ]
     },
     "metadata": {
      "needs_background": "light"
     },
     "output_type": "display_data"
    }
   ],
   "source": [
    "plt.imshow( mean_patterns[5].reshape(L,L), cmap='Greys' )"
   ]
  },
  {
   "cell_type": "code",
   "execution_count": 11,
   "metadata": {},
   "outputs": [],
   "source": [
    "J = MF_coupling(mean_patterns,N)"
   ]
  },
  {
   "cell_type": "code",
   "execution_count": 12,
   "metadata": {},
   "outputs": [
    {
     "name": "stdout",
     "output_type": "stream",
     "text": [
      "The error of the algorithm is 0.183673\n",
      "The algorithm recognised the pattern 4 and the correct pattern is 2\n"
     ]
    },
    {
     "data": {
      "image/png": "[encoded data removed]",
      "text/plain": [
       "<Figure size 720x432 with 4 Axes>"
      ]
     },
     "metadata": {
      "needs_background": "light"
     },
     "output_type": "display_data"
    }
   ],
   "source": [
    "# Average pattern try\n",
    "# It does not work. Look at it if you want. I think patterns are too much similar\n",
    "# Also average patterns are not too good. \n",
    "idx = np.random.randint(0,9999)\n",
    "dgt = label_test[idx]\n",
    "\n",
    "sys = X_test[idx]\n",
    "\n",
    "res = montecarlo(J,sys,10,1000)\n",
    "\n",
    "wrong_pixels = error_im(mean_patterns[dgt],sys)\n",
    "assigned_pattern = assign_pattern(mean_patterns,sys)\n",
    "\n",
    "\n",
    "fig, ax = plt.subplots(1,4, figsize=(10,6))\n",
    "ax[0].set_title('Original pattern')\n",
    "ax[0].imshow(mean_patterns[dgt].reshape(L,L),cmap='Greys')\n",
    "ax[1].set_title('Handwritten digit')\n",
    "ax[1].imshow(sys.reshape(L,L),cmap='Greys')\n",
    "ax[2].set_title('Recovered digit')\n",
    "ax[2].imshow(res.reshape(L,L),cmap='Greys')\n",
    "ax[3].set_title('Recognised digit')\n",
    "ax[3].imshow(mean_patterns[assigned_pattern].reshape(L,L),cmap='Greys')\n",
    "print('The error of the algorithm is %f' %(wrong_pixels))\n",
    "print('The algorithm recognised the pattern %i and the correct pattern is %i' %(assigned_pattern,dgt))"
   ]
  },
  {
   "cell_type": "code",
   "execution_count": 103,
   "metadata": {},
   "outputs": [],
   "source": [
    "J = MF_coupling(rand_patterns,N)"
   ]
  },
  {
   "cell_type": "code",
   "execution_count": 56,
   "metadata": {},
   "outputs": [
    {
     "name": "stdout",
     "output_type": "stream",
     "text": [
      "The error of the algorithm is 0.070153\n",
      "The algorithm recognised the pattern 9 and the correct pattern is 9\n"
     ]
    },
    {
     "data": {
      "image/png": "[encoded data removed]",
      "text/plain": [
       "<Figure size 720x432 with 4 Axes>"
      ]
     },
     "metadata": {
      "needs_background": "light"
     },
     "output_type": "display_data"
    }
   ],
   "source": [
    "# Random pattern try\n",
    "# Slightly better, still not good\n",
    "\n",
    "idx = np.random.randint(0,9999)\n",
    "dgt = label_test[idx]\n",
    "\n",
    "sys = X_test[idx]\n",
    "\n",
    "res = montecarlo(J,sys,1,1000)\n",
    "\n",
    "wrong_pixels = error_im(rand_patterns[dgt],sys)\n",
    "assigned_pattern = assign_pattern(rand_patterns,sys)\n",
    "\n",
    "\n",
    "fig, ax = plt.subplots(1,4, figsize=(10,6))\n",
    "ax[0].set_title('Original pattern')\n",
    "ax[0].imshow(rand_patterns[dgt].reshape(L,L),cmap='Greys')\n",
    "ax[1].set_title('Handwritten digit')\n",
    "ax[1].imshow(sys.reshape(L,L),cmap='Greys')\n",
    "ax[2].set_title('Recovered digit')\n",
    "ax[2].imshow(res.reshape(L,L),cmap='Greys')\n",
    "ax[3].set_title('Recognised digit')\n",
    "ax[3].imshow(rand_patterns[assigned_pattern].reshape(L,L),cmap='Greys')\n",
    "print('The error of the algorithm is %f' %(wrong_pixels))\n",
    "print('The algorithm recognised the pattern %i and the correct pattern is %i' %(assigned_pattern,dgt))"
   ]
  },
  {
   "cell_type": "code",
   "execution_count": 109,
   "metadata": {},
   "outputs": [
    {
     "name": "stdout",
     "output_type": "stream",
     "text": [
      "The error of the algorithm is 0.205357\n",
      "The algorithm recognised the pattern 3 and the correct pattern is 8\n"
     ]
    },
    {
     "data": {
      "image/png": "[encoded data removed]",
      "text/plain": [
       "<Figure size 720x432 with 4 Axes>"
      ]
     },
     "metadata": {
      "needs_background": "light"
     },
     "output_type": "display_data"
    }
   ],
   "source": [
    "# Random pattern try\n",
    "# Slightly better, still not good\n",
    "\n",
    "idx = np.random.randint(0,9999)\n",
    "dgt = label_test[idx]\n",
    "\n",
    "sys = X_test[idx]\n",
    "\n",
    "res = not_MF_montecarlo(J,sys,10, 3, 1000)\n",
    "\n",
    "wrong_pixels = error_im(rand_patterns[dgt],sys)\n",
    "assigned_pattern = assign_pattern(rand_patterns,sys)\n",
    "\n",
    "\n",
    "fig, ax = plt.subplots(1,4, figsize=(10,6))\n",
    "ax[0].set_title('Original pattern')\n",
    "ax[0].imshow(rand_patterns[dgt].reshape(L,L),cmap='Greys')\n",
    "ax[1].set_title('Handwritten digit')\n",
    "ax[1].imshow(sys.reshape(L,L),cmap='Greys')\n",
    "ax[2].set_title('Recovered digit')\n",
    "ax[2].imshow(res.reshape(L,L),cmap='Greys')\n",
    "ax[3].set_title('Recognised digit')\n",
    "ax[3].imshow(rand_patterns[assigned_pattern].reshape(L,L),cmap='Greys')\n",
    "print('The error of the algorithm is %f' %(wrong_pixels))\n",
    "print('The algorithm recognised the pattern %i and the correct pattern is %i' %(assigned_pattern,dgt))"
   ]
  },
  {
   "cell_type": "code",
   "execution_count": 15,
   "metadata": {},
   "outputs": [],
   "source": [
    "# Not sure at all about this function. The idea was: the way of computing the error\n",
    "# is not the better way in this framework: all the edges are always white, and\n",
    "# so the error is always small even if it is not working\n",
    "def minst_error(xi_idx, sys):\n",
    "    wrong_pixels = (np.abs( sys[ sys == 1 ]-xi_idx[ sys == 1 ] )/2).sum()\n",
    "    return wrong_pixels/len(sys[ sys == 1 ])"
   ]
  },
  {
   "cell_type": "code",
   "execution_count": 16,
   "metadata": {},
   "outputs": [
    {
     "name": "stdout",
     "output_type": "stream",
     "text": [
      "The error of the algorithm is 0.142857\n",
      "The algorithm recognised the pattern 1 and the correct pattern is 1\n"
     ]
    },
    {
     "data": {
      "image/png": "[encoded data removed]",
      "text/plain": [
       "<Figure size 720x432 with 4 Axes>"
      ]
     },
     "metadata": {
      "needs_background": "light"
     },
     "output_type": "display_data"
    }
   ],
   "source": [
    "# tried deterministic instead of stochastic. Worse than the other and TOO MUCH TIME\n",
    "idx = np.random.randint(0,9999)\n",
    "dgt = label_test[idx]\n",
    "\n",
    "sys = X_test[idx]\n",
    "\n",
    "res = deterministic_hopfield(sys,30)\n",
    "\n",
    "wrong_pixels = minst_error(rand_patterns[dgt],sys)\n",
    "assigned_pattern = assign_pattern(rand_patterns,sys)\n",
    "\n",
    "\n",
    "fig, ax = plt.subplots(1,4, figsize=(10,6))\n",
    "ax[0].set_title('Original pattern')\n",
    "ax[0].imshow(rand_patterns[dgt].reshape(L,L),cmap='Greys')\n",
    "ax[1].set_title('Handwritten digit')\n",
    "ax[1].imshow(sys.reshape(L,L),cmap='Greys')\n",
    "ax[2].set_title('Recovered digit')\n",
    "ax[2].imshow(res.reshape(L,L),cmap='Greys')\n",
    "ax[3].set_title('Recognised digit')\n",
    "ax[3].imshow(rand_patterns[assigned_pattern].reshape(L,L),cmap='Greys')\n",
    "print('The error of the algorithm is %f' %(wrong_pixels))\n",
    "print('The algorithm recognised the pattern %i and the correct pattern is %i' %(assigned_pattern,dgt))"
   ]
  },
  {
   "cell_type": "code",
   "execution_count": 13,
   "metadata": {},
   "outputs": [],
   "source": [
    "# Just thought that maybe there was too much pixels to understand the behaviour.\n",
    "# This function takes batches of four pixels and from them create a single pixel\n",
    "# that is black if even only one of that four is black.\n",
    "# This divides by 4 the resolution of the image, 28x28->14x14\n",
    "\n",
    "def zipping(sys1):\n",
    "    sys = deepcopy(sys1)\n",
    "    N = sys.shape[0]\n",
    "    L = int(np.sqrt(N))\n",
    "    sys = sys.reshape(L,L)\n",
    "    zipp = np.array([-1 for i in range(N//4)]).reshape(L//2,L//2)\n",
    "    for i in np.arange(0, L, 2):\n",
    "        for j in np.arange(0, L, 2):\n",
    "            if sys[i][j] + sys[i+1][j] + sys[i][j+1] + sys[i+1][j+1] > -4:\n",
    "                zipp[i//2,j//2] = 1\n",
    "    zipp = zipp.reshape(1,N//4)\n",
    "    return zipp[0]"
   ]
  },
  {
   "cell_type": "code",
   "execution_count": 18,
   "metadata": {},
   "outputs": [
    {
     "data": {
      "text/plain": [
       "<matplotlib.image.AxesImage at 0x10e047198>"
      ]
     },
     "execution_count": 18,
     "metadata": {},
     "output_type": "execute_result"
    },
    {
     "data": {
      "image/png": "[encoded data removed]",
      "text/plain": [
       "<Figure size 720x432 with 2 Axes>"
      ]
     },
     "metadata": {
      "needs_background": "light"
     },
     "output_type": "display_data"
    }
   ],
   "source": [
    "# Simply look at the outcome\n",
    "idx = 100\n",
    "dgt = label_test[idx]\n",
    "sys = X_test[idx]\n",
    "\n",
    "zip_dgt = zipping(sys)\n",
    "\n",
    "fig, ax = plt.subplots(1,2, figsize=(10,6))\n",
    "ax[0].set_title('Original pattern')\n",
    "ax[0].imshow(sys.reshape(L,L),cmap='Greys')\n",
    "ax[1].set_title('Zipped digit')\n",
    "ax[1].imshow(zip_dgt.reshape(L//2,L//2),cmap='Greys')"
   ]
  },
  {
   "cell_type": "code",
   "execution_count": 14,
   "metadata": {},
   "outputs": [],
   "source": [
    "# Yeah, you know I really love to use the word stuff. I was only upset that this \n",
    "# stuff wasn't working. Here I zip all the test data.\n",
    "stuff = []\n",
    "for i in X_test:\n",
    "    stuff.append( zipping(i) )\n",
    "stuff = np.array(stuff)"
   ]
  },
  {
   "cell_type": "code",
   "execution_count": 18,
   "metadata": {},
   "outputs": [],
   "source": [
    "# Inizialize the old variables using the new zipped samples.\n",
    "\n",
    "rand_patterns = []\n",
    "for i in range(10):\n",
    "    temp = stuff[ label_test == i ].shape[0]\n",
    "    temp = np.random.randint(0,temp)\n",
    "    rand_patterns.append( stuff[ label_test == i ][temp] )\n",
    "rand_patterns = np.array(rand_patterns)\n",
    "\n",
    "n = N//4\n",
    "J = R_coupling(rand_patterns,n,5)"
   ]
  },
  {
   "cell_type": "code",
   "execution_count": 129,
   "metadata": {},
   "outputs": [
    {
     "name": "stdout",
     "output_type": "stream",
     "text": [
      "The error of the algorithm is 0.102041\n",
      "The algorithm recognised the pattern 4 and the correct pattern is 4\n"
     ]
    },
    {
     "data": {
      "image/png": "[encoded data removed]",
      "text/plain": [
       "<Figure size 720x432 with 4 Axes>"
      ]
     },
     "metadata": {
      "needs_background": "light"
     },
     "output_type": "display_data"
    }
   ],
   "source": [
    "# Tried to run the algorithm again.\n",
    "# Still bad result.\n",
    "# Quite upset.\n",
    "\n",
    "idx = np.random.randint(0,9999)\n",
    "dgt = label_test[idx]\n",
    "\n",
    "sys = stuff[idx]\n",
    "\n",
    "res = not_MF_montecarlo(J,sys,10 , 2, 1000)\n",
    "\n",
    "wrong_pixels = error_im(rand_patterns[dgt],sys)\n",
    "assigned_pattern = assign_pattern(rand_patterns,sys)\n",
    "\n",
    "\n",
    "fig, ax = plt.subplots(1,4, figsize=(10,6))\n",
    "ax[0].set_title('Original pattern')\n",
    "ax[0].imshow(rand_patterns[dgt].reshape(L//2,L//2),cmap='Greys')\n",
    "ax[1].set_title('Handwritten digit')\n",
    "ax[1].imshow(sys.reshape(L//2,L//2),cmap='Greys')\n",
    "ax[2].set_title('Recovered digit')\n",
    "ax[2].imshow(res.reshape(L//2,L//2),cmap='Greys')\n",
    "ax[3].set_title('Recognised digit')\n",
    "ax[3].imshow(rand_patterns[assigned_pattern].reshape(L//2,L//2),cmap='Greys')\n",
    "print('The error of the algorithm is %f' %(wrong_pixels))\n",
    "print('The algorithm recognised the pattern %i and the correct pattern is %i' %(assigned_pattern,dgt))"
   ]
  },
  {
   "cell_type": "code",
   "execution_count": 30,
   "metadata": {},
   "outputs": [
    {
     "data": {
      "text/plain": [
       "0.56"
      ]
     },
     "execution_count": 30,
     "metadata": {},
     "output_type": "execute_result"
    }
   ],
   "source": [
    "Bah = 0\n",
    "for i in range(100):\n",
    "    idx = np.random.randint(0,9999)\n",
    "    dgt = label_test[idx]\n",
    "    # yi = corrupt_uniform(stuff[idx], 0.2) 0.73 of error\n",
    "    # yi = corrupt_norm(stuff[idx], [L//4,L//4], 0.5 ) 0.61 error\n",
    "    yi = corrupt_norm(stuff[idx], [L//4,L//4], 0.2 )# 0.6 error\n",
    "    # yi = corrupt_norm(stuff[idx], [0,0], 0.4 ) 0.67 error\n",
    "    # yi = corrupt_norm(stuff[idx], [L//4,L//4], 0.8 ) \n",
    "    sys = yi\n",
    "    res = montecarlo(J, sys, 25, 500)\n",
    "    assigned_pattern = assign_pattern(rand_patterns,sys)\n",
    "    if assigned_pattern != dgt: Bah += 1\n",
    "Bah/100"
   ]
  },
  {
   "cell_type": "markdown",
   "metadata": {},
   "source": [
    "We passed from 0.66 without noise to 0.73 with uniform noise and with gaussian noise"
   ]
  },
  {
   "cell_type": "code",
   "execution_count": 130,
   "metadata": {},
   "outputs": [],
   "source": [
    "def not_MF_montecarlo1(J, sys1, B, R, t ): # t number of iteration of the montecarlo\n",
    "    sys = deepcopy(sys1)\n",
    "    N = sys.shape[0]\n",
    "    for i in range(t):\n",
    "        k = np.random.randint(0,N)\n",
    "        sys = not_MF_metropolis(J, sys, k, B, R)\n",
    "        if i%100 ==0 : \n",
    "            plt.imshow(sys.reshape(L//2,L//2),cmap=\"Greys\")\n",
    "            plt.show()\n",
    "    return sys"
   ]
  },
  {
   "cell_type": "code",
   "execution_count": 131,
   "metadata": {},
   "outputs": [
    {
     "data": {
      "image/png": "[encoded data removed]",
      "text/plain": [
       "<Figure size 432x288 with 1 Axes>"
      ]
     },
     "metadata": {
      "needs_background": "light"
     },
     "output_type": "display_data"
    },
    {
     "data": {
      "image/png": "[encoded data removed]",
      "text/plain": [
       "<Figure size 432x288 with 1 Axes>"
      ]
     },
     "metadata": {
      "needs_background": "light"
     },
     "output_type": "display_data"
    },
    {
     "data": {
      "image/png": "[encoded data removed]",
      "text/plain": [
       "<Figure size 432x288 with 1 Axes>"
      ]
     },
     "metadata": {
      "needs_background": "light"
     },
     "output_type": "display_data"
    },
    {
     "data": {
      "image/png": "[encoded data removed]",
      "text/plain": [
       "<Figure size 432x288 with 1 Axes>"
      ]
     },
     "metadata": {
      "needs_background": "light"
     },
     "output_type": "display_data"
    },
    {
     "data": {
      "image/png": "[encoded data removed]",
      "text/plain": [
       "<Figure size 432x288 with 1 Axes>"
      ]
     },
     "metadata": {
      "needs_background": "light"
     },
     "output_type": "display_data"
    },
    {
     "data": {
      "image/png": "[encoded data removed]",
      "text/plain": [
       "<Figure size 432x288 with 1 Axes>"
      ]
     },
     "metadata": {
      "needs_background": "light"
     },
     "output_type": "display_data"
    },
    {
     "data": {
      "image/png": "[encoded data removed]",
      "text/plain": [
       "<Figure size 432x288 with 1 Axes>"
      ]
     },
     "metadata": {
      "needs_background": "light"
     },
     "output_type": "display_data"
    },
    {
     "data": {
      "image/png": "[encoded data removed]",
      "text/plain": [
       "<Figure size 432x288 with 1 Axes>"
      ]
     },
     "metadata": {
      "needs_background": "light"
     },
     "output_type": "display_data"
    },
    {
     "data": {
      "image/png": "[encoded data removed]",
      "text/plain": [
       "<Figure size 432x288 with 1 Axes>"
      ]
     },
     "metadata": {
      "needs_background": "light"
     },
     "output_type": "display_data"
    },
    {
     "data": {
      "image/png": "[encoded data removed]",
      "text/plain": [
       "<Figure size 432x288 with 1 Axes>"
      ]
     },
     "metadata": {
      "needs_background": "light"
     },
     "output_type": "display_data"
    }
   ],
   "source": [
    "res = not_MF_montecarlo1(J,sys,10 , 3, 1000)"
   ]
  },
  {
   "cell_type": "code",
   "execution_count": 133,
   "metadata": {
    "collapsed": true
   },
   "outputs": [
    {
     "data": {
      "image/png": "[encoded data removed]",
      "text/plain": [
       "<Figure size 432x288 with 1 Axes>"
      ]
     },
     "metadata": {
      "needs_background": "light"
     },
     "output_type": "display_data"
    },
    {
     "data": {
      "image/png": "[encoded data removed]",
      "text/plain": [
       "<Figure size 432x288 with 1 Axes>"
      ]
     },
     "metadata": {
      "needs_background": "light"
     },
     "output_type": "display_data"
    },
    {
     "data": {
      "image/png": "[encoded data removed]",
      "text/plain": [
       "<Figure size 432x288 with 1 Axes>"
      ]
     },
     "metadata": {
      "needs_background": "light"
     },
     "output_type": "display_data"
    },
    {
     "data": {
      "image/png": "[encoded data removed]",
      "text/plain": [
       "<Figure size 432x288 with 1 Axes>"
      ]
     },
     "metadata": {
      "needs_background": "light"
     },
     "output_type": "display_data"
    },
    {
     "data": {
      "image/png": "[encoded data removed]",
      "text/plain": [
       "<Figure size 432x288 with 1 Axes>"
      ]
     },
     "metadata": {
      "needs_background": "light"
     },
     "output_type": "display_data"
    },
    {
     "data": {
      "image/png": "[encoded data removed]",
      "text/plain": [
       "<Figure size 432x288 with 1 Axes>"
      ]
     },
     "metadata": {
      "needs_background": "light"
     },
     "output_type": "display_data"
    },
    {
     "data": {
      "image/png": "[encoded data removed]",
      "text/plain": [
       "<Figure size 432x288 with 1 Axes>"
      ]
     },
     "metadata": {
      "needs_background": "light"
     },
     "output_type": "display_data"
    },
    {
     "data": {
      "image/png": "[encoded data removed]",
      "text/plain": [
       "<Figure size 432x288 with 1 Axes>"
      ]
     },
     "metadata": {
      "needs_background": "light"
     },
     "output_type": "display_data"
    },
    {
     "data": {
      "image/png": "[encoded data removed]",
      "text/plain": [
       "<Figure size 432x288 with 1 Axes>"
      ]
     },
     "metadata": {
      "needs_background": "light"
     },
     "output_type": "display_data"
    },
    {
     "data": {
      "image/png": "[encoded data removed]",
      "text/plain": [
       "<Figure size 432x288 with 1 Axes>"
      ]
     },
     "metadata": {
      "needs_background": "light"
     },
     "output_type": "display_data"
    }
   ],
   "source": [
    "for i in range(10):\n",
    "    plt.imshow(rand_patterns[i].reshape(L//2,L//2), cmap='Greys')\n",
    "    plt.show()"
   ]
  },
  {
   "cell_type": "code",
   "execution_count": 181,
   "metadata": {},
   "outputs": [],
   "source": [
    "rand_patterns\n",
    "Ji = []\n",
    "for i in range(0,10,2):\n",
    "    Ji.append( MF_coupling(rand_patterns[i:i+2],N//4) ) \n",
    "    "
   ]
  },
  {
   "cell_type": "code",
   "execution_count": 169,
   "metadata": {},
   "outputs": [
    {
     "data": {
      "text/plain": [
       "5"
      ]
     },
     "execution_count": 169,
     "metadata": {},
     "output_type": "execute_result"
    }
   ],
   "source": [
    "len(Ji)#.shape"
   ]
  },
  {
   "cell_type": "code",
   "execution_count": 223,
   "metadata": {},
   "outputs": [
    {
     "name": "stdout",
     "output_type": "stream",
     "text": [
      "0\n",
      "2\n",
      "0\n",
      "2\n",
      "The error of the algorithm is 0.147959\n",
      "The algorithm recognised the pattern 2 and the correct pattern is 4\n"
     ]
    }
   ],
   "source": [
    "idx = np.random.randint(0,9999)\n",
    "dgt = label_test[idx]\n",
    "\n",
    "for i in range(0,10,2):\n",
    "    sys = stuff[idx]\n",
    "\n",
    "    res = not_MF_montecarlo(Ji[i//2],sys,10 , 2, 1000)\n",
    "\n",
    "    wrong_pixels = error_im(rand_patterns[dgt],sys)\n",
    "    print(i)\n",
    "    if wrong_pixels > 0.15*i/1.5 and i<8: \n",
    "        continue\n",
    "    assigned_pattern = assign_pattern(rand_patterns[i:i+2],sys) \n",
    "    #print(assigned_pattern)\n",
    "    assigned_pattern += i\n",
    "    #print(assigned_pattern)\n",
    "    break\n",
    "\n",
    "print('The error of the algorithm is %f' %(wrong_pixels))\n",
    "print('The algorithm recognised the pattern %i and the correct pattern is %i' %(assigned_pattern,dgt))"
   ]
  },
  {
   "cell_type": "code",
   "execution_count": 227,
   "metadata": {},
   "outputs": [],
   "source": [
    "right = [0 for i in range(10)]\n",
    "our = [0 for i in range(10)]\n",
    "for j in range(100):    \n",
    "    idx = np.random.randint(0,9999)\n",
    "    dgt = label_test[idx]\n",
    "\n",
    "    for i in range(0,10,2):\n",
    "        sys = stuff[idx]\n",
    "\n",
    "        res = not_MF_montecarlo(Ji[i//2],sys,10 , 2, 1000)\n",
    "\n",
    "        wrong_pixels = error_im(rand_patterns[dgt],sys)\n",
    "        #print(i)\n",
    "        if wrong_pixels > 0.15*i/2 and i<8: \n",
    "            continue\n",
    "        assigned_pattern = assign_pattern(rand_patterns[i:i+2],sys) \n",
    "        #print(assigned_pattern)\n",
    "        assigned_pattern += i\n",
    "        #print(assigned_pattern)\n",
    "        break\n",
    "    right[dgt]+=1\n",
    "    our[assigned_pattern]+=1\n"
   ]
  },
  {
   "cell_type": "code",
   "execution_count": 228,
   "metadata": {},
   "outputs": [
    {
     "name": "stdout",
     "output_type": "stream",
     "text": [
      "[8, 12, 13, 10, 16, 6, 11, 6, 8, 10]\n",
      "[0, 0, 34, 23, 30, 13, 0, 0, 0, 0]\n"
     ]
    }
   ],
   "source": [
    "print(right)\n",
    "print(our)"
   ]
  },
  {
   "cell_type": "code",
   "execution_count": null,
   "metadata": {},
   "outputs": [],
   "source": [
    "def error_im1(xi, sys):\n",
    "    wrong_pixels1 = (np.abs( sys-xi[0] )/2).sum()\n",
    "    wrong_pixels2 = (np.abs( sys-xi[1] )/2).sum()\n",
    "    return wrong_pixels/len(sys)"
   ]
  }
 ],
 "metadata": {
  "kernelspec": {
   "display_name": "Python 3",
   "language": "python",
   "name": "python3"
  },
  "language_info": {
   "codemirror_mode": {
    "name": "ipython",
    "version": 3
   },
   "file_extension": ".py",
   "mimetype": "text/x-python",
   "name": "python",
   "nbconvert_exporter": "python",
   "pygments_lexer": "ipython3",
   "version": "3.7.2"
  }
 },
 "nbformat": 4,
 "nbformat_minor": 2
}
