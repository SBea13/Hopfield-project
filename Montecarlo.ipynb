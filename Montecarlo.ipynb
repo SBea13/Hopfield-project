{
 "cells": [
  {
   "cell_type": "markdown",
   "metadata": {},
   "source": [
    "# Montecarlo simulation\n",
    "As we have stated before a really interesting feature of the hopfield model is that give us the possibility of mapping a neuron system into a spin glasses system. \n",
    "\n",
    "We can so employ technics developed to study physical systems to use the hopfield model in a optimized way. We will see in the following that we can pass from an algorithm that takes $O(N^2t)$ operation, with $N$ size of the system and $t$ the number of iteration of the update rule, to an algorithm that takes $O(Nt)$ operation for the Mean Field case, or even less in the Non-MF case.\n",
    "\n",
    "Montecarlo simulations are simulation that uses pseudorandom number to simulate a physical system. For this particular task we aim at finding the ground state of a spin system using as update rule the metropolis rule. \n",
    "\n",
    "Given the system energy $\\mathcal{H}$ we randomly flip a spin of the system and we compute the difference in energy $\\Delta\\mathcal{H}=\\mathcal{H}_{f}-\\mathcal{H}_{i}$. Then we accept the updated system with the following probability:\n",
    "$$\n",
    "\\begin{equation}\n",
    "p_{acc}= \\min\\left( 1, e^{-\\beta\\Delta\\mathcal{H}} \\right)\n",
    "\\end{equation}\n",
    "$$\n",
    "where $\\beta=(K_{b}T)^{-1}$ is the inverse of the size of the system. In this way if the energy is decreasing we update the system with probability 1, and if it is greater with a probability proportional to the increase in energy.\n",
    "\n",
    "From the theory we know that the critical temperature, the highest temperature at which the system is trapped in the minima, is $T=1/K_b$.\n",
    "\n",
    "In this section we will so look at:\n",
    "- The stability of the Montecarlo methods;\n",
    "- The improvement in the time implementation of Montecarlo;\n",
    "- The dependance of the algorithm's performances w.r.t. the type of noise;\n",
    "- The dependance of the algorithm's performances w.r.t. the number of neighbors for the NON-MF version;"
   ]
  },
  {
   "cell_type": "code",
   "execution_count": 1,
   "metadata": {},
   "outputs": [],
   "source": [
    "import numpy as np\n",
    "import pandas as pd\n",
    "import matplotlib.pyplot as plt\n",
    "import scipy as scp\n",
    "from copy import deepcopy"
   ]
  },
  {
   "cell_type": "code",
   "execution_count": 2,
   "metadata": {},
   "outputs": [],
   "source": [
    "# Parameters\n",
    "L = 10  # Lenght of the edge of the image\n",
    "N = L**2 # Number of spins \n",
    "p = 10 # Number of patterns\n",
    "MF = 0 # Use or not the Mean Field strategy: if MF=1 uses MF, if MF = 0 only spins at\n",
    "# a distance R interacts\n",
    "R = 3 # The 3-nearest neighbor interacts\n",
    "np.random.seed(1234) # Seed to make the random process reproducible"
   ]
  },
  {
   "cell_type": "code",
   "execution_count": 3,
   "metadata": {},
   "outputs": [],
   "source": [
    "# Function that are in previous notebook\n",
    "def random_patterns(N,p):\n",
    "    xi = np.random.randint(0,2,N*p).reshape(p,N) # Each line is a pattern\n",
    "    xi[xi==0]=-1\n",
    "    return xi\n",
    "\n",
    "def MF_coupling(xi,N):\n",
    "    J = 1/N * np.array( [ (xi[:,i]*xi[:,j]).sum() for i in range(N) for j in range(N) ] )\n",
    "    J = J.reshape(N,N)        \n",
    "    for i in range(len(J)):\n",
    "        J[i,i] = 0\n",
    "    return J\n",
    "\n",
    "def R_coupling(xi,N,R):\n",
    "    J = MF_coupling(xi,N)\n",
    "    for i in range( J.shape[0] ):\n",
    "        J_temp = J[i].reshape(L,L)\n",
    "        for j in range(L):\n",
    "            y = (i%L -j)**2 # Look at indexes should be ok -1\n",
    "            for k in range(L):\n",
    "                if np.sqrt( (i//L - k)**2 + y ) > R: J_temp[j,k] = 0\n",
    "        J[i] = J_temp.reshape(1,N)\n",
    "    return J\n",
    "\n",
    "def update(sys1):\n",
    "    sys = deepcopy(sys1)\n",
    "    N = len(sys)\n",
    "    for i in range(N):\n",
    "        temp = 0\n",
    "        for j in range(N): #Maybe it is possible to set the cycle on J[i][j]!=0 only\n",
    "            temp +=  J[i][j]*sys[j]\n",
    "        if temp == 0: temp = 2*np.random.randint(0,2)-1\n",
    "        sys[i] = np.sign(temp)\n",
    "    return np.sign(sys)\n",
    "\n",
    "def deterministic_hopfield(sys1, t):\n",
    "    sys = deepcopy(sys1)\n",
    "    for i in range(t):\n",
    "        sys = update(sys)\n",
    "    return sys\n",
    "\n",
    "def error_im(xi_idx, sys):\n",
    "    wrong_pixels = (np.abs( sys-xi_idx )/2).sum()\n",
    "    return wrong_pixels/len(sys)\n",
    "\n",
    "def assign_pattern(xi,sys):\n",
    "    errors = [ error_im(i,sys) for i in xi ]\n",
    "    correct = np.argmin(errors)\n",
    "    return correct\n",
    "\n",
    "def total_error(xi,t):\n",
    "    errors = []\n",
    "    prediction = []\n",
    "    for mu in range(len(xi)):\n",
    "        sys = deterministic_hopfield(xi[mu],t)\n",
    "        errors.append( error_im(xi[mu],sys) )\n",
    "        if assign_pattern(xi,sys)==mu:\n",
    "            prediction.append( 1 )\n",
    "        else: prediction.append( 0 )\n",
    "    errors = (np.array(errors)).mean()\n",
    "    prediction = np.array(prediction).sum()/len(xi)\n",
    "    return errors, prediction\n",
    "\n",
    "def corrupt_uniform(sys, q): # q probability to flip the pixel\n",
    "    sys_temp = deepcopy(sys)\n",
    "    N = sys.shape[0]\n",
    "    for i in range(N):\n",
    "        r = np.random.rand()\n",
    "        if r < q:\n",
    "            sys_temp[i] *= -1\n",
    "    return sys_temp\n",
    "\n",
    "def plot(x, y, sys): # x-> Original, y-> Corrupted, sys-> Recovered\n",
    "    fig, ax = plt.subplots(1,3, figsize=(15,8))\n",
    "    ax[0].set_title('Original pattern')\n",
    "    ax[0].imshow(x.reshape(L,L),cmap='Greys')\n",
    "    ax[1].set_title('Corrupted pattern')\n",
    "    ax[1].imshow(y.reshape(L,L),cmap='Greys')\n",
    "    ax[2].set_title('Recovered pattern')\n",
    "    ax[2].imshow(sys.reshape(L,L),cmap='Greys')\n",
    "    plt.show()\n",
    "    \n",
    "def algorithm(xi, idx, yi):\n",
    "    sys = deterministic_hopfield(yi,30)\n",
    "\n",
    "    wrong_pixels = error_im(xi[idx],sys)\n",
    "    assigned_pattern = assign_pattern(xi,sys)\n",
    "    \n",
    "    return wrong_pixels, assigned_pattern, sys\n",
    "\n",
    "def corrupt_norm(sys, k, h):\n",
    "    sys_temp = deepcopy(sys)\n",
    "    sys_temp = sys_temp.reshape(L,L)\n",
    "    N = sys.shape[0]\n",
    "    for i in range(L):\n",
    "        for j in range(L):\n",
    "            g = gaus(k, L/5, h, i, j)\n",
    "            r = np.random.rand()\n",
    "            if r < g:\n",
    "                sys_temp[i][j] *= -1\n",
    "    return (sys_temp.reshape(1,N))[0]\n",
    "\n",
    "def gaus(mu, sigma, h, x, y):\n",
    "    h = np.sqrt(h)\n",
    "    g_x = np.exp(-( (x-mu[0])**2 / ( 2.0 * sigma**2 ) ) )*h#/np.sqrt(2*np.pi*sigma**2)\n",
    "    g_y = np.exp(-( (y-mu[1])**2 / ( 2.0 * sigma**2 ) ) )*h#/np.sqrt(2*np.pi*sigma**2)\n",
    "    g = g_y * g_x\n",
    "    return g"
   ]
  },
  {
   "cell_type": "code",
   "execution_count": 4,
   "metadata": {},
   "outputs": [],
   "source": [
    "def H(J,sys):\n",
    "    N = sys.shape[0]\n",
    "    energy = 0\n",
    "    for i in range(N):\n",
    "        for j in range(i):\n",
    "            energy -= J[i][j]*sys[i]*sys[j]\n",
    "    return energy\n",
    "\n",
    "# Mean Field version of dH\n",
    "def dH(J, sys, k): # k is the index of the spin flipped\n",
    "    N = sys.shape[0]\n",
    "    dh = 0\n",
    "    for i in range(N):\n",
    "        dh += sys[i]*J[k][i]\n",
    "    dh *= 2*sys[k]\n",
    "    return dh\n",
    "\n",
    "def metropolis(J, sys1, k, B): # B = 1/kbT temperature of the system\n",
    "    sys = deepcopy(sys1)\n",
    "    dh = dH(J, sys, k)\n",
    "    r = np.random.rand() # random variable between (0,1)\n",
    "    if r < np.exp( -B*dh ):\n",
    "        sys[k] = -sys[k]\n",
    "    return sys\n",
    "    \n",
    "def montecarlo(J, sys1, B, t ): # t number of iteration of the montecarlo\n",
    "    sys = deepcopy(sys1)\n",
    "    N = sys.shape[0]\n",
    "    for i in range(t):\n",
    "        k = np.random.randint(0,N)\n",
    "        sys = metropolis(J, sys, k, B)\n",
    "    return sys"
   ]
  },
  {
   "cell_type": "markdown",
   "metadata": {},
   "source": [
    "## Mean field montecarlo"
   ]
  },
  {
   "cell_type": "code",
   "execution_count": 5,
   "metadata": {},
   "outputs": [],
   "source": [
    "xi = random_patterns(N,p)\n",
    "J = MF_coupling(xi,N)"
   ]
  },
  {
   "cell_type": "markdown",
   "metadata": {},
   "source": [
    "### Stability"
   ]
  },
  {
   "cell_type": "code",
   "execution_count": 6,
   "metadata": {
    "scrolled": true
   },
   "outputs": [
    {
     "name": "stdout",
     "output_type": "stream",
     "text": [
      "The error of the algorithm is 0.000000\n",
      "The algorithm recognised the pattern 7 and the correct pattern is 7\n"
     ]
    },
    {
     "data": {
      "image/png": "[encoded data removed]",
      "text/plain": [
       "<Figure size 720x432 with 2 Axes>"
      ]
     },
     "metadata": {
      "needs_background": "light"
     },
     "output_type": "display_data"
    }
   ],
   "source": [
    "idx = np.random.randint(10)\n",
    "\n",
    "sys = montecarlo(J,xi[idx], 10, 1000)\n",
    "wrong_pixels = error_im(xi[idx],sys)\n",
    "assigned_pattern = assign_pattern(xi,sys)\n",
    "\n",
    "\n",
    "fig, ax = plt.subplots(1,2, figsize = (10,6))\n",
    "ax[0].set_title('Pattern')\n",
    "ax[0].imshow(xi[idx].reshape(L,L), cmap='Greys')\n",
    "ax[1].set_title('Finishing configuration')\n",
    "ax[1].imshow(sys.reshape(L,L), cmap='Greys')\n",
    "print('The error of the algorithm is %f' %(wrong_pixels))\n",
    "print('The algorithm recognised the pattern %i and the correct pattern is %i' %(assigned_pattern,idx))"
   ]
  },
  {
   "cell_type": "markdown",
   "metadata": {},
   "source": [
    "Stability for different temperature, $\\beta=[0,1,10,25,50,100]$ with $t=1000$ and $L=10$ fixed. <br>\n",
    "Each point $100$ iteration."
   ]
  },
  {
   "cell_type": "code",
   "execution_count": 7,
   "metadata": {},
   "outputs": [],
   "source": [
    "beta = [0, 1, 10, 25, 50, 100]\n",
    "err_beta_mean = []\n",
    "err_beta_std = []\n",
    "success = []\n",
    "for b in beta:\n",
    "    errors = []\n",
    "    correct = 0\n",
    "    for j in range(100):\n",
    "        idx = np.random.randint(10)\n",
    "        sys = montecarlo(J,xi[idx], b, 1000)\n",
    "        wrong_pixels = error_im(xi[idx],sys)\n",
    "        assigned_pattern = assign_pattern(xi,sys)\n",
    "\n",
    "        if idx == assigned_pattern: correct += 1\n",
    "        errors.append(wrong_pixels) \n",
    "        \n",
    "    correct /= 100\n",
    "    errors = np.array(errors)\n",
    "    err_beta_mean.append( errors.mean() )\n",
    "    err_beta_std.append( errors.std() )\n",
    "    success.append(correct)"
   ]
  },
  {
   "cell_type": "code",
   "execution_count": 8,
   "metadata": {},
   "outputs": [
    {
     "data": {
      "text/plain": [
       "<matplotlib.legend.Legend at 0x7f249cae1908>"
      ]
     },
     "execution_count": 8,
     "metadata": {},
     "output_type": "execute_result"
    },
    {
     "data": {
      "image/png": "[encoded data removed]",
      "text/plain": [
       "<Figure size 864x432 with 2 Axes>"
      ]
     },
     "metadata": {
      "needs_background": "light"
     },
     "output_type": "display_data"
    }
   ],
   "source": [
    "fig, ax = plt.subplots(1,2,figsize=(12,6))\n",
    "\n",
    "ax[0].set_title('Errors as function of T')\n",
    "ax[0].set_xlabel('Beta [$J^{-1}$]')\n",
    "ax[0].set_ylabel('Average error')\n",
    "ax[0].plot(beta, err_beta_mean, '--bo', label='Error')\n",
    "ax[0].errorbar(beta,err_beta_mean, yerr=err_beta_std,ecolor='red', label='Fluctuation of error',fmt='none')\n",
    "ax[0].legend()\n",
    "\n",
    "ax[1].set_title('Probability of success as function of T')\n",
    "ax[1].set_xlabel('Beta [$J^{-1}$]')\n",
    "ax[1].set_ylabel('Probability of success')\n",
    "ax[1].plot(beta, success, '--ro', label='Data')\n",
    "ax[1].legend()"
   ]
  },
  {
   "cell_type": "markdown",
   "metadata": {},
   "source": [
    "We can see how an high $\\beta$ lends to an high probability of success, and a $\\beta<10$ lends to totally unacceptable results.\n",
    "\n",
    "Even if the results with $\\beta>25$ seems the better results we have to think on the functioning of the algorithm: with very high beta the probability of flipping a \"wrong\" spin is $\\sim0$ and, starting from a minima, it probably means that it does not flip a spin at all. So, for the following analisys we will use $\\beta=10$"
   ]
  },
  {
   "cell_type": "markdown",
   "metadata": {},
   "source": [
    "Stability w.r.t number of iterations $t=[10,25,50,100,200,500,750,1000,1250,1500,1750,2000]$ with $\\beta=[10,25]$ and $L=10$ fixed. Each point is obtained with 100 run of the algorithm."
   ]
  },
  {
   "cell_type": "code",
   "execution_count": 9,
   "metadata": {},
   "outputs": [],
   "source": [
    "# Beta = 10\n",
    "iterations=[10,25,50,100,200,500,750,1000,1250,1500,1750,2000]\n",
    "err_t_mean = []\n",
    "err_t_std = []\n",
    "success_t = []\n",
    "for t in iterations:\n",
    "    errors = []\n",
    "    correct = 0\n",
    "    for j in range(100):\n",
    "        idx = np.random.randint(10)\n",
    "        sys = montecarlo(J,xi[idx], 10, t)\n",
    "        wrong_pixels = error_im(xi[idx],sys)\n",
    "        assigned_pattern = assign_pattern(xi,sys)\n",
    "\n",
    "        if idx == assigned_pattern: correct += 1\n",
    "        errors.append(wrong_pixels) \n",
    "        \n",
    "    correct /= 100\n",
    "    errors = np.array(errors)\n",
    "    err_t_mean.append( errors.mean() )\n",
    "    err_t_std.append( errors.std() )\n",
    "    success_t.append(correct)"
   ]
  },
  {
   "cell_type": "code",
   "execution_count": null,
   "metadata": {},
   "outputs": [],
   "source": [
    "# beta = 25\n",
    "err_t1_mean = []\n",
    "err_t1_std = []\n",
    "success_t1 = []\n",
    "for t in iterations:\n",
    "    errors = []\n",
    "    correct = 0\n",
    "    for j in range(100):\n",
    "        idx = np.random.randint(10)\n",
    "        sys = montecarlo(J,xi[idx], 25, t)\n",
    "        wrong_pixels = error_im(xi[idx],sys)\n",
    "        assigned_pattern = assign_pattern(xi,sys)\n",
    "\n",
    "        if idx == assigned_pattern: correct += 1\n",
    "        errors.append(wrong_pixels) \n",
    "        \n",
    "    correct /= 100\n",
    "    errors = np.array(errors)\n",
    "    err_t1_mean.append( errors.mean() )\n",
    "    err_t1_std.append( errors.std() )\n",
    "    success_t1.append(correct)"
   ]
  },
  {
   "cell_type": "code",
   "execution_count": null,
   "metadata": {},
   "outputs": [],
   "source": [
    "fig, ax = plt.subplots(1,2,figsize=(12,6))\n",
    "\n",
    "ax[0].set_title('Errors as function of iterations')\n",
    "ax[0].set_xlabel('Number of iteration t')\n",
    "ax[0].set_ylabel('Average error')\n",
    "ax[0].plot(iterations, err_t_mean, '--bo', label='Error with beta=10')\n",
    "ax[0].errorbar(iterations,err_t_mean, yerr=err_t_std,ecolor='blue',fmt='none')\n",
    "ax[0].plot(iterations, err_t1_mean, '--go', label='Error with beta=25')\n",
    "ax[0].errorbar(iterations,err_t1_mean, yerr=err_t1_std,ecolor='green',fmt='none')\n",
    "ax[0].legend()\n",
    "\n",
    "ax[1].set_title('Probability of success as function of the number of iterations t')\n",
    "ax[1].set_xlabel('Number of iteration t')\n",
    "ax[1].set_ylabel('Probability of success')\n",
    "ax[1].plot(iterations, success_t, '--bo', label='Data with beta=10')\n",
    "ax[1].plot(iterations, success_t1, '--go', label='Data with beta=25')\n",
    "ax[1].legend()"
   ]
  },
  {
   "cell_type": "markdown",
   "metadata": {},
   "source": [
    "Asa we can expect the number of iterations, in this case, actually increase the error of the algorithm. It is predictable since we already start from the correct pattern and adding iterations only increase the probability of flipping some random spin. We have also choosen a $\\beta=10$, that lends to a not totally stable situation. We can repeat the experiment with $\\beta=25$ to see if there is a visible improvement.\n",
    "\n",
    "The important thing to notice that with $\\beta=10$ the error reaches a plateau, but not the probability of success.\n",
    "\n",
    "Instead with $\\beta=25$ both error and probability of success seems to reach a plateau. So in the following we will use this value of $\\beta$."
   ]
  },
  {
   "cell_type": "code",
   "execution_count": null,
   "metadata": {},
   "outputs": [],
   "source": [
    "\n",
    "errors = []\n",
    "correct = 0\n",
    "for j in range(100):\n",
    "    idx = np.random.randint(10)\n",
    "    sys = montecarlo(J,xi[idx], 10, 1000)\n",
    "    wrong_pixels = error_im(xi[idx],sys)\n",
    "    assigned_pattern = assign_pattern(xi,sys)\n",
    "    \n",
    "    if idx == assigned_pattern: correct += 1\n",
    "    errors.append(wrong_pixels) \n",
    "    \n",
    "correct /= 100\n",
    "errors = np.array(errors)\n",
    "print(correct)\n",
    "print(errors.mean())\n",
    "    "
   ]
  },
  {
   "cell_type": "markdown",
   "metadata": {},
   "source": [
    "### Corruption with uniform noise"
   ]
  },
  {
   "cell_type": "code",
   "execution_count": null,
   "metadata": {},
   "outputs": [],
   "source": [
    "idx = 3\n",
    "\n",
    "yi = corrupt_uniform(xi[idx], 0.35)\n",
    "\n",
    "sys = montecarlo(J,yi, 10, 100)\n",
    "wrong_pixels = error_im(xi[idx],sys)\n",
    "assigned_pattern = assign_pattern(xi,sys)\n",
    "\n",
    "\n",
    "fig, ax = plt.subplots(1,2, figsize = (10,6))\n",
    "ax[0].set_title('Pattern')\n",
    "ax[0].imshow(xi[idx].reshape(L,L), cmap='Greys')\n",
    "ax[1].set_title('Finishing configuration')\n",
    "ax[1].imshow(sys.reshape(L,L), cmap='Greys')\n",
    "print('The error of the algorithm is %f' %(wrong_pixels))\n",
    "print('The algorithm recognised the pattern %i and the correct pattern is %i' %(assigned_pattern,idx))"
   ]
  },
  {
   "cell_type": "markdown",
   "metadata": {},
   "source": [
    "Analisys of the dependance on the temperature on the stability of the algorithm with uniformly corrupted patterns with $q=0.2$."
   ]
  },
  {
   "cell_type": "code",
   "execution_count": null,
   "metadata": {},
   "outputs": [],
   "source": [
    "beta = [0, 1, 10, 25, 50, 100]\n",
    "err_beta_mean_c = []\n",
    "err_beta_std_c = []\n",
    "success_beta_c = []\n",
    "for b in beta:\n",
    "    errors = []\n",
    "    correct = 0\n",
    "    for j in range(100):\n",
    "        idx = np.random.randint(10)\n",
    "        yi = corrupt_uniform(xi[idx], 0.2)\n",
    "        sys = montecarlo(J, yi, b, 1000)\n",
    "        wrong_pixels = error_im(xi[idx],sys)\n",
    "        assigned_pattern = assign_pattern(xi,sys)\n",
    "\n",
    "        if idx == assigned_pattern: correct += 1\n",
    "        errors.append(wrong_pixels) \n",
    "        \n",
    "    correct /= 100\n",
    "    errors = np.array(errors)\n",
    "    err_beta_mean_c.append( errors.mean() )\n",
    "    err_beta_std_c.append( errors.std() )\n",
    "    success_beta_c.append(correct)"
   ]
  },
  {
   "cell_type": "code",
   "execution_count": null,
   "metadata": {},
   "outputs": [],
   "source": [
    "fig, ax = plt.subplots(1,2,figsize=(12,6))\n",
    "\n",
    "ax[0].set_title('Errors as function of T with uniform noise')\n",
    "ax[0].set_xlabel('Beta [$J^{-1}$]')\n",
    "ax[0].set_ylabel('Average error')\n",
    "ax[0].plot(beta, err_beta_mean_c, '--bo', label='Error')\n",
    "ax[0].errorbar(beta,err_beta_mean_c, yerr=err_beta_std_c,ecolor='red', label='Fluctuation of error',fmt='none')\n",
    "ax[0].legend()\n",
    "\n",
    "ax[1].set_title('Probability of success as function of T with uniform noise')\n",
    "ax[1].set_xlabel('Beta [$J^{-1}$]')\n",
    "ax[1].set_ylabel('Probability of success')\n",
    "ax[1].plot(beta, success_beta_c, '--ro', label='Data')\n",
    "ax[1].legend()"
   ]
  },
  {
   "cell_type": "markdown",
   "metadata": {},
   "source": [
    "As stated above even here we can say that a good temperature for the stability of the algorithm is when $\\beta\\geq 25$,and so from now on we will use that parameter. Here the result is even more important since we don't start from a pattern but from a corrupted pattern."
   ]
  },
  {
   "cell_type": "markdown",
   "metadata": {},
   "source": [
    "Stability w.r.t number of iterations $t=[10,25,50,100,200,500,750,1000,1250,1500,1750,2000]$ with $\\beta=25$, $L=10$ fixed and $q=0.2$. Each point is obtained with 100 run of the algorithm."
   ]
  },
  {
   "cell_type": "code",
   "execution_count": null,
   "metadata": {},
   "outputs": [],
   "source": [
    "iterations = [10,25,50,100,200,500,750,1000,1250,1500,1750,2000]\n",
    "err_t_mean_c = []\n",
    "err_t_std_c = []\n",
    "success_t_c = []\n",
    "for t in iterations:\n",
    "    errors = []\n",
    "    correct = 0\n",
    "    for j in range(100):\n",
    "        idx = np.random.randint(10)\n",
    "        yi = corrupt_uniform(xi[idx], 0.2)\n",
    "        sys = montecarlo(J, yi, 25, t)\n",
    "        wrong_pixels = error_im(xi[idx],sys)\n",
    "        assigned_pattern = assign_pattern(xi,sys)\n",
    "\n",
    "        if idx == assigned_pattern: correct += 1\n",
    "        errors.append(wrong_pixels) \n",
    "        \n",
    "    correct /= 100\n",
    "    errors = np.array(errors)\n",
    "    err_t_mean_c.append( errors.mean() )\n",
    "    err_t_std_c.append( errors.std() )\n",
    "    success_t_c.append(correct)"
   ]
  },
  {
   "cell_type": "code",
   "execution_count": null,
   "metadata": {},
   "outputs": [],
   "source": [
    "fig, ax = plt.subplots(1,2,figsize=(12,6))\n",
    "\n",
    "ax[0].set_title('Errors as function of iterations')\n",
    "ax[0].set_xlabel('Number of iteration t')\n",
    "ax[0].set_ylabel('Average error')\n",
    "ax[0].plot(iterations, err_t_mean_c, '--bo', label='Errors')\n",
    "ax[0].errorbar(iterations,err_t_mean_c, yerr=err_t_std_c, ecolor='blue',fmt='none')\n",
    "ax[0].legend()\n",
    "\n",
    "ax[1].set_title('Probability of success as function of the number of iterations t')\n",
    "ax[1].set_xlabel('Number of iteration t')\n",
    "ax[1].set_ylabel('Probability of success')\n",
    "ax[1].plot(iterations, success_t_c, '--bo', label='Data')\n",
    "ax[1].legend()"
   ]
  },
  {
   "cell_type": "markdown",
   "metadata": {},
   "source": [
    "The behaviour is not clear and maybe it need more tries and studies, but it seem to reach an oscillatory behaviour after $t=1000$, but i think the better idea is to use $t=500$."
   ]
  },
  {
   "cell_type": "markdown",
   "metadata": {},
   "source": [
    "Last but not least, we try with $t=$, $\\beta=25$ and q = $[0.1,1]$ in steps of $0.1$"
   ]
  },
  {
   "cell_type": "code",
   "execution_count": null,
   "metadata": {},
   "outputs": [],
   "source": [
    "prob = np.linspace(0,1,10)\n",
    "err_q_mean_c = []\n",
    "err_q_std_c = []\n",
    "success_q_c = []\n",
    "for q in prob:\n",
    "    errors = []\n",
    "    correct = 0\n",
    "    for j in range(100):\n",
    "        idx = np.random.randint(10)\n",
    "        yi = corrupt_uniform(xi[idx], q)\n",
    "        sys = montecarlo(J, yi, 25, 500)\n",
    "        wrong_pixels = error_im(xi[idx],sys)\n",
    "        assigned_pattern = assign_pattern(xi,sys)\n",
    "\n",
    "        if idx == assigned_pattern: correct += 1\n",
    "        errors.append(wrong_pixels) \n",
    "        \n",
    "    correct /= 100\n",
    "    errors = np.array(errors)\n",
    "    err_q_mean_c.append( errors.mean() )\n",
    "    err_q_std_c.append( errors.std() )\n",
    "    success_q_c.append(correct)"
   ]
  },
  {
   "cell_type": "code",
   "execution_count": null,
   "metadata": {},
   "outputs": [],
   "source": [
    "fig, ax = plt.subplots(1,2,figsize=(12,6))\n",
    "\n",
    "ax[0].set_title('Errors as function of the flipping probability')\n",
    "ax[0].set_xlabel('Flipping probability q')\n",
    "ax[0].set_ylabel('Average error')\n",
    "ax[0].plot(prob, err_q_mean_c, '--bo', label='Errors')\n",
    "ax[0].errorbar(prob,err_q_mean_c, yerr=err_q_std_c, ecolor='blue',fmt='none')\n",
    "ax[0].legend()\n",
    "\n",
    "ax[1].set_title('Probability of success as function of the flipping probabiity')\n",
    "ax[1].set_xlabel('Flipping probability q')\n",
    "ax[1].set_ylabel('Probability of success')\n",
    "ax[1].plot(prob, success_q_c, '--bo', label='Data')\n",
    "ax[1].legend()"
   ]
  },
  {
   "cell_type": "markdown",
   "metadata": {},
   "source": [
    "We clearly see that, even if the error is still acceptable, the maximum value of the noise that we can accept is $q=0.2$"
   ]
  },
  {
   "cell_type": "markdown",
   "metadata": {},
   "source": [
    "### Corruption with gaussian noise\n",
    "I should repeat all the discussion that I made above for the gaussian noise, but NON HO VOGLIA"
   ]
  },
  {
   "cell_type": "markdown",
   "metadata": {},
   "source": [
    "# NON MEAN FIELD MONTECARLO"
   ]
  },
  {
   "cell_type": "markdown",
   "metadata": {},
   "source": [
    "## BIG DISCLAIMER. I ACTUALLY TRIED BOTH USING MY DEFINITION OF THE NON MEAN FIELD HERE AND THE ONE USING THE THE NON MEAN J OF THE FIRST NOTEBOOK AND THE SECOND IS COMPLETELY BETTER."
   ]
  },
  {
   "cell_type": "markdown",
   "metadata": {},
   "source": [
    "Up to now we used only the MF version, where all the spins interacts with all the other. We will now use a version where the spins interacts only within a small range, indicated with $R$. <br>\n",
    "We will not repeat the analisys of the dependance on the temperature, and so we will use $\\beta=25$."
   ]
  },
  {
   "cell_type": "code",
   "execution_count": 5,
   "metadata": {},
   "outputs": [],
   "source": [
    "def perpendicolar_nn(J, sys, k, r):\n",
    "    dh = 0\n",
    "    l = int(np.sqrt(sys.shape[0]))\n",
    "    for i in range(k+1,k+r+1): # going right\n",
    "        if k%l == l-1: break # right bound\n",
    "        dh += J[i][k]*sys[i]\n",
    "        if i%l == l-1: break # last column bound\n",
    "            \n",
    "    for i in range(k-1,k-r-1,-1): # going left\n",
    "        if k%l == 0: break # left bound\n",
    "        dh += J[i][k]*sys[i]\n",
    "        if i%l == 0: break # first column bound\n",
    "            \n",
    "    for i in range(k+l,k+(r+1)*l,l): # going down\n",
    "        if k//l == l-1: break # low bound\n",
    "        dh += J[i][k]*sys[i]\n",
    "        if i//l ==l-1 : break # last row bound\n",
    "            \n",
    "    for i in range(k-l, k-l*(r+1), -l): # going up\n",
    "        if k//l == 0: break # up bound\n",
    "        dh += J[i][k]*sys[i]\n",
    "        if i//l == 0: break  # first row bound\n",
    "    return dh\n",
    "            \n",
    "def diagonal_nn(J, sys, k, r):\n",
    "    dh = 0\n",
    "    l = int(np.sqrt(sys.shape[0]))\n",
    "    for i in range(1,r):\n",
    "        if k%l == l-1 or k//l == l-1: break # right low bound\n",
    "        for j in range(1,r):\n",
    "            if i==j==r-1: continue\n",
    "            dh += J[k+j+i*l][k]*sys[k+j+i*l]  # right low\n",
    "            if (k+j+i*l)%l == l-1 : break # last column bound\n",
    "        if (k+j+i*l)//l ==l-1 : break # last row bound\n",
    "        \n",
    "    for i in range(1,r):\n",
    "        if k%l == 0 or k//l == l-1: break # left low bound\n",
    "        for j in range(1,r):\n",
    "            if i==j==r-1: continue\n",
    "            dh += J[k-j+i*l][k]*sys[k-j+i*l]  # left low\n",
    "            if (k-j+i*l)%l == 0 : break #  first column bound\n",
    "        if (k-j+i*l)//l ==l-1 : break # last row bound\n",
    "        \n",
    "    for i in range(1,r):\n",
    "        if k//l == 0 or k%l == l-1: break # up right bound\n",
    "        for j in range(1,r):\n",
    "            if i==j==r-1: continue\n",
    "            dh += J[k+j-i*l][k]*sys[k+j-i*l] # right up\n",
    "            if (k+j-i*l)%l == l-1: break  # last column bound\n",
    "        if (k+j-i*l)//l == 0: break # first row bound\n",
    "        \n",
    "    for i in range(1,r):\n",
    "        if k//l == 0 or k%l == 0 : break # up left bound\n",
    "        for j in range(1,r):\n",
    "            if i==j==r-1: continue\n",
    "            dh += J[k-j-i*l][k]*sys[k-j-i*l] # left up\n",
    "            if (k-j-i*l)%l == l-1: break  #last column bound\n",
    "        if (k-j-i*l)//l == 0 : break # first row bound\n",
    "    return dh\n",
    "\n",
    "def not_MF_dH(J, sys, k, R):\n",
    "    dh = perpendicolar_nn(J, sys, k, R) + diagonal_nn(J, sys, k, R)\n",
    "    dh *= 2*sys[k]\n",
    "    return dh\n",
    "\n",
    "def not_MF_metropolis(J, sys1, k, B, R): # B = 1/kbT temperature of the system\n",
    "    sys = deepcopy(sys1)\n",
    "    dh = not_MF_dH(J, sys, k, R)\n",
    "    r = np.random.rand() # random variable between (0,1)\n",
    "    if r < np.exp( -B*dh ):\n",
    "        sys[k] = -sys[k]\n",
    "    return sys\n",
    "\n",
    "def not_MF_montecarlo(J, sys1, B, R, t ): # t number of iteration of the montecarlo\n",
    "    sys = deepcopy(sys1)\n",
    "    N = sys.shape[0]\n",
    "    for i in range(t):\n",
    "        k = np.random.randint(0,N)\n",
    "        sys = not_MF_metropolis(J, sys, k, B, R)\n",
    "    return sys"
   ]
  },
  {
   "cell_type": "markdown",
   "metadata": {},
   "source": [
    "## Stability"
   ]
  },
  {
   "cell_type": "code",
   "execution_count": null,
   "metadata": {},
   "outputs": [],
   "source": [
    "xi = random_patterns(N,p)\n",
    "J = R_coupling(xi,N,3)"
   ]
  },
  {
   "cell_type": "code",
   "execution_count": null,
   "metadata": {
    "scrolled": true
   },
   "outputs": [],
   "source": [
    "idx = 3\n",
    "\n",
    "sys = not_MF_montecarlo(J,xi[idx], 25, 3, 1000)\n",
    "wrong_pixels = error_im(xi[idx],sys)\n",
    "assigned_pattern = assign_pattern(xi,sys)\n",
    "\n",
    "\n",
    "fig, ax = plt.subplots(1,2, figsize = (10,6))\n",
    "ax[0].set_title('Pattern')\n",
    "ax[0].imshow(xi[idx].reshape(L,L), cmap='Greys')\n",
    "ax[1].set_title('Finishing configuration')\n",
    "ax[1].imshow(sys.reshape(L,L), cmap='Greys')\n",
    "print('The error of the algorithm is %f' %(wrong_pixels))\n",
    "print('The algorithm recognised the pattern %i and the correct pattern is %i' %(assigned_pattern,idx))"
   ]
  },
  {
   "cell_type": "markdown",
   "metadata": {},
   "source": [
    "Stability in function of the number of neighbors, R = [1,2,3,4,5] and two different number of iteration, t=[500,1000]"
   ]
  },
  {
   "cell_type": "code",
   "execution_count": null,
   "metadata": {},
   "outputs": [],
   "source": [
    "R = [1, 2, 3, 4, 5]\n",
    "err_r_mean_c = []\n",
    "err_r_std_c = []\n",
    "success_r_c = []\n",
    "for r in R:\n",
    "    J = R_coupling(xi,N,r)\n",
    "    errors = []\n",
    "    correct = 0\n",
    "    for j in range(100):\n",
    "        idx = np.random.randint(10)\n",
    "        sys = montecarlo(J, xi[idx], 25, 500)\n",
    "        wrong_pixels = error_im(xi[idx],sys)\n",
    "        assigned_pattern = assign_pattern(xi,sys)\n",
    "\n",
    "        if idx == assigned_pattern: correct += 1\n",
    "        errors.append(wrong_pixels) \n",
    "        \n",
    "    correct /= 100\n",
    "    errors = np.array(errors)\n",
    "    err_r_mean_c.append( errors.mean() )\n",
    "    err_r_std_c.append( errors.std() )\n",
    "    success_r_c.append(correct)\n",
    "    \n",
    "err_r1_mean_c = []\n",
    "err_r1_std_c = []\n",
    "success_r1_c = []\n",
    "for r in R:\n",
    "    J = R_coupling(xi,N,r)\n",
    "    errors = []\n",
    "    correct = 0\n",
    "    for j in range(100):\n",
    "        idx = np.random.randint(10)\n",
    "        sys = montecarlo(J, xi[idx], 25, 1000)\n",
    "        wrong_pixels = error_im(xi[idx],sys)\n",
    "        assigned_pattern = assign_pattern(xi,sys)\n",
    "\n",
    "        if idx == assigned_pattern: correct += 1\n",
    "        errors.append(wrong_pixels) \n",
    "        \n",
    "    correct /= 100\n",
    "    errors = np.array(errors)\n",
    "    err_r1_mean_c.append( errors.mean() )\n",
    "    err_r1_std_c.append( errors.std() )\n",
    "    success_r1_c.append(correct)"
   ]
  },
  {
   "cell_type": "code",
   "execution_count": null,
   "metadata": {
    "scrolled": true
   },
   "outputs": [],
   "source": [
    "fig, ax = plt.subplots(1,2,figsize=(12,6))\n",
    "\n",
    "ax[0].set_title('Errors as function of nearest neighbors')\n",
    "ax[0].set_xlabel('Number of nearest neighbors R')\n",
    "ax[0].set_ylabel('Average error')\n",
    "ax[0].plot(R, err_r_mean_c, '--bo', label='Error with t=500')\n",
    "ax[0].errorbar(R,err_r_mean_c, yerr=err_r_std_c,ecolor='blue',fmt='none')\n",
    "ax[0].plot(R, err_r1_mean_c, '--go', label='Error with t=1000')\n",
    "ax[0].errorbar(R,err_r1_mean_c, yerr=err_r1_std_c,ecolor='green',fmt='none')\n",
    "ax[0].legend()\n",
    "\n",
    "ax[1].set_title('Probability of success as function of nearest neighbors')\n",
    "ax[1].set_xlabel('Number of nearest neighbors R')\n",
    "ax[1].set_ylabel('Probability of success')\n",
    "ax[1].plot(R, success_r_c, '--bo', label='Data with t=500')\n",
    "ax[1].plot(R, success_r1_c, '--go', label='Data with t=1000')\n",
    "ax[1].legend()"
   ]
  },
  {
   "cell_type": "markdown",
   "metadata": {},
   "source": [
    "Increasing the number of nn the performances of the algorithm increases, as we can expect, and it goes to the MF.\n",
    "\n",
    "Actually the error and the probability of success with $R=5$ is better than the mean field value. Another important thing to notice is that the algorithm for different t converge to the same value."
   ]
  },
  {
   "cell_type": "markdown",
   "metadata": {},
   "source": [
    "### Corruption"
   ]
  },
  {
   "cell_type": "markdown",
   "metadata": {},
   "source": [
    "We will see now how the noise affect the performances of the non mean field montecarlo. This analisys is very interesting because we will see the different behaviour between gaussian and uniform noise."
   ]
  },
  {
   "cell_type": "code",
   "execution_count": 15,
   "metadata": {
    "collapsed": true
   },
   "outputs": [
    {
     "name": "stdout",
     "output_type": "stream",
     "text": [
      "The error of the algorithm is 0.430000\n",
      "The algorithm recognised the pattern 4 and the correct pattern is 3\n"
     ]
    },
    {
     "data": {
      "image/png": "[encoded data removed]",
      "text/plain": [
       "<Figure size 720x432 with 2 Axes>"
      ]
     },
     "metadata": {
      "needs_background": "light"
     },
     "output_type": "display_data"
    }
   ],
   "source": [
    "idx = 3\n",
    "yi = corrupt_uniform(xi[idx], 0.35)\n",
    "\n",
    "sys = not_MF_montecarlo(J,yi, 100, 100)\n",
    "\n",
    "wrong_pixels = error_im(xi[idx],sys)\n",
    "assigned_pattern = assign_pattern(xi,sys)\n",
    "\n",
    "fig, ax = plt.subplots(1,2, figsize = (10,6))\n",
    "ax[0].set_title('Pattern')\n",
    "ax[0].imshow(xi[idx].reshape(L,L), cmap='Greys')\n",
    "ax[1].set_title('Finishing configuration')\n",
    "ax[1].imshow(sys.reshape(L,L), cmap='Greys')\n",
    "print('The error of the algorithm is %f' %(wrong_pixels))\n",
    "print('The algorithm recognised the pattern %i and the correct pattern is %i' %(assigned_pattern,idx))"
   ]
  },
  {
   "cell_type": "markdown",
   "metadata": {},
   "source": [
    "Uniform noise, we will analyse different probabilities $q$ with $\\beta=25$, $R=[3,5]$ and $t=1000$."
   ]
  },
  {
   "cell_type": "code",
   "execution_count": 8,
   "metadata": {},
   "outputs": [],
   "source": [
    "xi = random_patterns(N,p)\n",
    "prob = np.linspace(0,1,10)\n",
    "err_rq_mean_c = []\n",
    "err_rq_std_c = []\n",
    "success_rq_c = []\n",
    "for q in prob:\n",
    "    J = R_coupling(xi,N,3)\n",
    "    errors = []\n",
    "    correct = 0\n",
    "    for j in range(100):\n",
    "        idx = np.random.randint(10)\n",
    "        yi = corrupt_uniform(xi[idx], q)\n",
    "        sys = montecarlo(J, yi, 25, 1000)\n",
    "        wrong_pixels = error_im(xi[idx],sys)\n",
    "        assigned_pattern = assign_pattern(xi,sys)\n",
    "\n",
    "        if idx == assigned_pattern: correct += 1\n",
    "        errors.append(wrong_pixels) \n",
    "        \n",
    "    correct /= 100\n",
    "    errors = np.array(errors)\n",
    "    err_rq_mean_c.append( errors.mean() )\n",
    "    err_rq_std_c.append( errors.std() )\n",
    "    success_rq_c.append(correct)\n",
    "    \n",
    "err_rq1_mean_c = []\n",
    "err_rq1_std_c = []\n",
    "success_rq1_c = []\n",
    "for q in prob:\n",
    "    J = R_coupling(xi,N,5)\n",
    "    errors = []\n",
    "    correct = 0\n",
    "    for j in range(100):\n",
    "        idx = np.random.randint(10)\n",
    "        yi = corrupt_uniform(xi[idx], q)\n",
    "        sys = montecarlo(J, yi, 25, 1000)\n",
    "        wrong_pixels = error_im(xi[idx],sys)\n",
    "        assigned_pattern = assign_pattern(xi,sys)\n",
    "\n",
    "        if idx == assigned_pattern: correct += 1\n",
    "        errors.append(wrong_pixels) \n",
    "        \n",
    "    correct /= 100\n",
    "    errors = np.array(errors)\n",
    "    err_rq1_mean_c.append( errors.mean() )\n",
    "    err_rq1_std_c.append( errors.std() )\n",
    "    success_rq1_c.append(correct)"
   ]
  },
  {
   "cell_type": "code",
   "execution_count": 11,
   "metadata": {},
   "outputs": [
    {
     "data": {
      "text/plain": [
       "<matplotlib.legend.Legend at 0x11a0475c0>"
      ]
     },
     "execution_count": 11,
     "metadata": {},
     "output_type": "execute_result"
    },
    {
     "data": {
      "image/png": "[encoded data removed]",
      "text/plain": [
       "<Figure size 864x432 with 2 Axes>"
      ]
     },
     "metadata": {
      "needs_background": "light"
     },
     "output_type": "display_data"
    }
   ],
   "source": [
    "fig, ax = plt.subplots(1,2,figsize=(12,6))\n",
    "\n",
    "ax[0].set_title('Errors as function of flipping probability')\n",
    "ax[0].set_xlabel('Flipping probability q')\n",
    "ax[0].set_ylabel('Average error')\n",
    "ax[0].plot(prob, err_rq_mean_c, '--bo', label='Error with R=3')\n",
    "ax[0].errorbar(prob,err_rq_mean_c, yerr=err_rq_std_c,ecolor='blue',fmt='none')\n",
    "ax[0].plot(prob, err_rq1_mean_c, '--go', label='Error with R=5')\n",
    "ax[0].errorbar(prob,err_rq1_mean_c, yerr=err_rq1_std_c,ecolor='green',fmt='none')\n",
    "ax[0].legend()\n",
    "\n",
    "ax[1].set_title('Probability of success as function of flipping probability')\n",
    "ax[1].set_xlabel('Flipping probability q')\n",
    "ax[1].set_ylabel('Probability of success')\n",
    "ax[1].plot(prob, success_rq_c, '--bo', label='Data with R=3')\n",
    "ax[1].plot(prob, success_rq1_c, '--go', label='Data with R=5')\n",
    "ax[1].legend()"
   ]
  },
  {
   "cell_type": "markdown",
   "metadata": {},
   "source": [
    "There is nothing really interesting in these plots: the behaviour is similar to the one of the MF, but I stress again that this gives better results."
   ]
  },
  {
   "cell_type": "markdown",
   "metadata": {},
   "source": [
    "#### Gaussian noise"
   ]
  },
  {
   "cell_type": "markdown",
   "metadata": {},
   "source": [
    "We start by $\\beta=25$, $R=[3,5]$, $h=0.2$ and the different centroids"
   ]
  },
  {
   "cell_type": "code",
   "execution_count": 14,
   "metadata": {},
   "outputs": [],
   "source": [
    "xi = random_patterns(N,p)\n",
    "centroids = [np.array([0,0]), np.array([0,L-1]), np.array([L-1,0]), np.array([L-1,L-1]), np.array([L//2, L//2])]\n",
    "err_rn_mean_c = []\n",
    "err_rn_std_c = []\n",
    "success_rn_c = []\n",
    "for k in centroids:\n",
    "    J = R_coupling(xi,N,5)\n",
    "    errors = []\n",
    "    correct = 0\n",
    "    for j in range(100):\n",
    "        idx = np.random.randint(10)\n",
    "        yi = corrupt_norm(xi[idx], k, 0.2)\n",
    "        sys = montecarlo(J, yi, 25, 1000)\n",
    "        wrong_pixels = error_im(xi[idx],sys)\n",
    "        assigned_pattern = assign_pattern(xi,sys)\n",
    "\n",
    "        if idx == assigned_pattern: correct += 1\n",
    "        errors.append(wrong_pixels) \n",
    "        \n",
    "    correct /= 100\n",
    "    errors = np.array(errors)\n",
    "    err_rn_mean_c.append( errors.mean() )\n",
    "    err_rn_std_c.append( errors.std() )\n",
    "    success_rn_c.append(correct)\n",
    "    "
   ]
  },
  {
   "cell_type": "code",
   "execution_count": 19,
   "metadata": {
    "scrolled": true
   },
   "outputs": [
    {
     "data": {
      "text/plain": [
       "<matplotlib.legend.Legend at 0x11cfe6048>"
      ]
     },
     "execution_count": 19,
     "metadata": {},
     "output_type": "execute_result"
    },
    {
     "data": {
      "image/png": "[encoded data removed]",
      "text/plain": [
       "<Figure size 864x432 with 2 Axes>"
      ]
     },
     "metadata": {
      "needs_background": "light"
     },
     "output_type": "display_data"
    }
   ],
   "source": [
    "x = np.arange(5)\n",
    "fig, ax = plt.subplots(1,2,figsize=(12,6))\n",
    "\n",
    "ax[0].set_title('Errors as function of the position of the centroid')\n",
    "ax[0].set_xlabel('Position of the centroid')\n",
    "ax[0].set_xticks(x)\n",
    "ax[0].set_xticklabels(['[0,0]','[0,L-1]','[L-1,0]','[L-1,L-1]','L/2,L/2'])\n",
    "ax[0].set_ylabel('Average error')\n",
    "ax[0].plot( x, err_rn_mean_c, '--bo', label='Error')\n",
    "ax[0].errorbar(x, err_rn_mean_c, yerr=err_rn_std_c,ecolor='blue',fmt='none')\n",
    "ax[0].legend()\n",
    "\n",
    "ax[1].set_title('Probability of success as function of flipping probability')\n",
    "ax[1].set_xlabel('Position of the centroid')\n",
    "ax[1].set_xticks(x)\n",
    "ax[1].set_xticklabels(['[0,0]','[0,L-1]','[L-1,0]','[L-1,L-1]','L/2,L/2'])\n",
    "ax[1].set_ylabel('Probability of success')\n",
    "ax[1].plot( x, success_rn_c, '--bo', label='Data')\n",
    "ax[1].legend()"
   ]
  },
  {
   "cell_type": "markdown",
   "metadata": {},
   "source": [
    "We can see how the position of the centroid doesn't affect too much the error. The amazing thing is how well the algorithm is able to recover the correct pattern with gaussian noise. <br>\n",
    "We will look now at how much probability the system can bear."
   ]
  },
  {
   "cell_type": "markdown",
   "metadata": {},
   "source": [
    "Same as above, but with centroids in a corner and in the middle but different heights of the gaussian."
   ]
  },
  {
   "cell_type": "code",
   "execution_count": 28,
   "metadata": {},
   "outputs": [],
   "source": [
    "xi = random_patterns(N,p)\n",
    "heights = np.linspace(0,1,10)\n",
    "err_rh_mean_c = []\n",
    "err_rh_std_c = []\n",
    "success_rh_c = []\n",
    "for h in heights:\n",
    "    J = R_coupling(xi,N,5)\n",
    "    errors = []\n",
    "    correct = 0\n",
    "    for j in range(100):\n",
    "        idx = np.random.randint(10)\n",
    "        yi = corrupt_norm(xi[idx], np.array([0,0]), h)\n",
    "        sys = montecarlo(J, yi, 25, 1000)\n",
    "        wrong_pixels = error_im(xi[idx],sys)\n",
    "        assigned_pattern = assign_pattern(xi,sys)\n",
    "\n",
    "        if idx == assigned_pattern: correct += 1\n",
    "        errors.append(wrong_pixels) \n",
    "        \n",
    "    correct /= 100\n",
    "    errors = np.array(errors)\n",
    "    err_rh_mean_c.append( errors.mean() )\n",
    "    err_rh_std_c.append( errors.std() )\n",
    "    success_rh_c.append(correct)\n",
    "    \n",
    "err_rh1_mean_c = []\n",
    "err_rh1_std_c = []\n",
    "success_rh1_c = []\n",
    "for h in heights:\n",
    "    J = R_coupling(xi,N,5)\n",
    "    errors = []\n",
    "    correct = 0\n",
    "    for j in range(100):\n",
    "        idx = np.random.randint(10)\n",
    "        yi = corrupt_norm(xi[idx], np.array([L//2, L//2]), h)\n",
    "        sys = montecarlo(J, yi, 25, 1000)\n",
    "        wrong_pixels = error_im(xi[idx],sys)\n",
    "        assigned_pattern = assign_pattern(xi,sys)\n",
    "\n",
    "        if idx == assigned_pattern: correct += 1\n",
    "        errors.append(wrong_pixels) \n",
    "        \n",
    "    correct /= 100\n",
    "    errors = np.array(errors)\n",
    "    err_rh1_mean_c.append( errors.mean() )\n",
    "    err_rh1_std_c.append( errors.std() )\n",
    "    success_rh1_c.append(correct)\n",
    "    "
   ]
  },
  {
   "cell_type": "code",
   "execution_count": 29,
   "metadata": {},
   "outputs": [
    {
     "data": {
      "text/plain": [
       "<matplotlib.legend.Legend at 0x11e3a43c8>"
      ]
     },
     "execution_count": 29,
     "metadata": {},
     "output_type": "execute_result"
    },
    {
     "data": {
      "image/png": "[encoded data removed]",
      "text/plain": [
       "<Figure size 864x432 with 2 Axes>"
      ]
     },
     "metadata": {
      "needs_background": "light"
     },
     "output_type": "display_data"
    }
   ],
   "source": [
    "fig, ax = plt.subplots(1,2,figsize=(12,6))\n",
    "\n",
    "ax[0].set_title('Errors as function of the height of the gaussian')\n",
    "ax[0].set_xlabel('Gaussian height h')\n",
    "ax[0].set_ylabel('Average error')\n",
    "ax[0].plot(heights, err_rh_mean_c, '--bo', label='Error with centroid in [0,0]')\n",
    "ax[0].errorbar(heights,err_rh_mean_c, yerr=err_rh_std_c,ecolor='blue',fmt='none')\n",
    "ax[0].plot(heights, err_rh1_mean_c, '--go', label='Error with centroid in [L-1,L-1]')\n",
    "ax[0].errorbar(heights,err_rh1_mean_c, yerr=err_rh1_std_c,ecolor='green',fmt='none')\n",
    "ax[0].legend()\n",
    "\n",
    "ax[1].set_title('Probability of success as function of the height of the gaussian')\n",
    "ax[1].set_xlabel('Gaussian height h')\n",
    "ax[1].set_ylabel('Probability of success')\n",
    "ax[1].plot(heights, success_rh_c, '--bo', label='Data with centroid in [0,0]')\n",
    "ax[1].plot(heights, success_rh1_c, '--go', label='Data with centroid in [L-1,L-1]')\n",
    "ax[1].legend()"
   ]
  },
  {
   "cell_type": "markdown",
   "metadata": {},
   "source": [
    "Very very nice data for more than the MF one. Add some better comment but fine to me.\n",
    "\n",
    "Notice that also flipping the center of the image with probability 1 there is still a 60% of probability of recognising the correct pattern."
   ]
  },
  {
   "cell_type": "markdown",
   "metadata": {},
   "source": [
    "## Time analisys"
   ]
  },
  {
   "cell_type": "markdown",
   "metadata": {},
   "source": [
    "The aim of this section is to quantify the time implementation of the Montecarlo methods, both MF and not MF, in function of the size of the system N."
   ]
  },
  {
   "cell_type": "code",
   "execution_count": 21,
   "metadata": {},
   "outputs": [],
   "source": [
    "import time as tm"
   ]
  },
  {
   "cell_type": "code",
   "execution_count": 22,
   "metadata": {},
   "outputs": [],
   "source": [
    "# I didn't run this cell but it is the very last thing to do\n",
    "lenght = np.array([5, 10, 15, 20, 25, 28, 30])\n",
    "size = lenght**2\n",
    "time_n_mean = []\n",
    "time_n_std = []\n",
    "for n in size:\n",
    "    xi = random_patterns(n,p)\n",
    "    J =  MF_coupling(xi,n)\n",
    "    time = []\n",
    "    for j in range(100):\n",
    "        start = tm.time()\n",
    "        idx = np.random.randint(10)\n",
    "        sys = not_MF_montecarlo(J, xi[idx], 25, 5, 1000)\n",
    "        end = tm.time()\n",
    "        time.append(end-start)\n",
    "        \n",
    "    time = np.array(time)\n",
    "    time_n_mean.append( time.mean() )\n",
    "    time_n_std.append( time.std() )\n",
    "    \n",
    "    \n",
    "time_n1_mean = []\n",
    "time_n1_std = []\n",
    "for n in size:\n",
    "    xi = random_patterns(n,p)\n",
    "    J =  MF_coupling(xi,n)\n",
    "    time = []\n",
    "    for j in range(100):\n",
    "        start = tm.time()\n",
    "        idx = np.random.randint(10)\n",
    "        sys = montecarlo(J, xi[idx], 25, 1000)\n",
    "        end = tm.time()\n",
    "        time.append(end-start)\n",
    "        \n",
    "    time = np.array(time)\n",
    "    time_n1_mean.append( time.mean() )\n",
    "    time_n1_std.append( time.std() )\n",
    "    \n",
    "\n"
   ]
  },
  {
   "cell_type": "code",
   "execution_count": 23,
   "metadata": {},
   "outputs": [
    {
     "data": {
      "text/plain": [
       "<matplotlib.legend.Legend at 0x1132cf278>"
      ]
     },
     "execution_count": 23,
     "metadata": {},
     "output_type": "execute_result"
    },
    {
     "data": {
      "image/png": "[encoded data removed]",
      "text/plain": [
       "<Figure size 864x432 with 1 Axes>"
      ]
     },
     "metadata": {
      "needs_background": "light"
     },
     "output_type": "display_data"
    }
   ],
   "source": [
    "fig, ax = plt.subplots(figsize=(12,6))\n",
    "\n",
    "ax.set_title('Time implementation as function of the size of the system')\n",
    "ax.set_xlabel('Size of the system L')\n",
    "ax.set_ylabel('Average time implementation')\n",
    "ax.plot(lenght, time_n_mean, '--bo', label='Non-MF montecarlo')\n",
    "ax.errorbar(lenght,time_n_mean, yerr=time_n_std,ecolor='blue',fmt='none')\n",
    "ax.plot(lenght, time_n1_mean, '--go', label='MF montecarlo')\n",
    "ax.errorbar(lenght,time_n1_mean, yerr= time_n1_std,ecolor='green',fmt='none')\n",
    "ax.legend()\n",
    "\n"
   ]
  },
  {
   "cell_type": "markdown",
   "metadata": {},
   "source": [
    "We can see the exponential behaviour in time of the MF montecarlo, and the strange behaviour of the non MF one."
   ]
  },
  {
   "cell_type": "markdown",
   "metadata": {},
   "source": [
    "# ---------------------------- The end -----------------------------"
   ]
  },
  {
   "cell_type": "code",
   "execution_count": null,
   "metadata": {},
   "outputs": [],
   "source": [
    "l = 10\n",
    "a = np.zeros(l*l)#.reshape(l,l)\n",
    "for i in range(l*l):\n",
    "    if i//l == 0: a[i]=1  # first row\n",
    "    if i%l == 0: a[i]=1 # first column\n",
    "    if i%l == l-1: a[i]=1 # last column\n",
    "    if i//l ==l-1 : a[i]=1 # last row\n",
    "a.reshape(l,l)"
   ]
  },
  {
   "cell_type": "code",
   "execution_count": null,
   "metadata": {},
   "outputs": [],
   "source": [
    "k = 10\n",
    "r = 2\n",
    "a = np.zeros(l*l)\n",
    "for i in range(k+1,k+r+1): # going right\n",
    "    if k%l == l-1: break # right bound\n",
    "    a[i]=1\n",
    "    if i%l == l-1: break # last column bound\n",
    "for i in range(k-1,k-r-1,-1): # going left\n",
    "    if k%l == 0: break # left bound\n",
    "    a[i]=1\n",
    "    if i%l == 0: break # first column bound\n",
    "for i in range(k+l,k+(r+1)*l,l): # going down\n",
    "    if k//l == l-1: break # low bound\n",
    "    a[i]=1\n",
    "    if i//l ==l-1 : break # last row bound\n",
    "for i in range(k-l, k-l*(r+1), -l): # going up\n",
    "    if k//l == 0: break # up bound\n",
    "    a[i]=1\n",
    "    if i//l == 0: break  # first row bound\n",
    "a.reshape(l,l)"
   ]
  },
  {
   "cell_type": "code",
   "execution_count": null,
   "metadata": {},
   "outputs": [],
   "source": [
    "a = np.zeros(l*l)\n",
    "k = l*(l-1)-2\n",
    "r = 4\n",
    "a[k]=5\n",
    "for i in range(1,r):\n",
    "    if k%l == l-1 or k//l == l-1: break # right low bound\n",
    "    for j in range(1,r):\n",
    "        if i==j==r-1: continue\n",
    "        a[k+j+i*l] = 1 # right low\n",
    "        if (k+j+i*l)%l == l-1 : \n",
    "            break # last column bound\n",
    "    if (k+j+i*l)//l ==l-1 : break # last row bound\n",
    "        \n",
    "for i in range(1,r):\n",
    "    if k%l == 0 or k//l == l-1: break # left low bound\n",
    "    for j in range(1,r):\n",
    "        if i==j==r-1: continue\n",
    "        a[k-j+i*l] = 1 # left low\n",
    "        if (k-j+i*l)%l == 0 : break #  first column bound\n",
    "    if (k-j+i*l)//l ==l-1 : break # last row bound\n",
    "        \n",
    "for i in range(1,r):\n",
    "    if k//l == 0 or k%l == l-1: break # up right bound\n",
    "    for j in range(1,r):\n",
    "        if i==j==r-1: continue\n",
    "        a[k+j-i*l] = 1 # right up\n",
    "        if (k+j-i*l)%l == l-1: break  # last column bound\n",
    "    if (k+j-i*l)//l == 0: break # first row bound\n",
    "        \n",
    "for i in range(1,r):\n",
    "    if k//l == 0 or k%l == 0 : break # up left bound\n",
    "    for j in range(1,r):\n",
    "        if i==j==r-1: continue\n",
    "        a[k-j-i*l] = 1 # left up\n",
    "        if (k-j-i*l)%l == l-1: break  #last column bound\n",
    "    if (k-j-i*l)//l == 0 : break # first row bound\n",
    "       \n",
    "a.reshape(l,l)"
   ]
  }
 ],
 "metadata": {
  "kernelspec": {
   "display_name": "Python 3",
   "language": "python",
   "name": "python3"
  },
  "language_info": {
   "codemirror_mode": {
    "name": "ipython",
    "version": 3
   },
   "file_extension": ".py",
   "mimetype": "text/x-python",
   "name": "python",
   "nbconvert_exporter": "python",
   "pygments_lexer": "ipython3",
   "version": "3.7.2"
  }
 },
 "nbformat": 4,
 "nbformat_minor": 2
}
