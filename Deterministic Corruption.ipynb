{
 "cells": [
  {
   "cell_type": "markdown",
   "metadata": {},
   "source": [
    "Stress the importance of noise\n",
    "- gaussian noise\n",
    "- uniform noise\n",
    "- cauchy noise\n",
    "- linear noise <br>\n",
    "https://en.wikipedia.org/wiki/Noise_(signal_processing)"
   ]
  },
  {
   "cell_type": "markdown",
   "metadata": {},
   "source": [
    "#Stochastic Hopfield networks\n",
    "\n",
    "The stochastic Hopfield network is closely related to systems studied in statistical mechanics, so-called spin glasses (exhibits order-disorder transition -  becomes sharp in the limit of large N).\n",
    "\n",
    "**Noisy dynamics**\n",
    "\n",
    "The update rule:\n",
    "\n",
    "$$S_i \\leftarrow sgn (\\sum_j w_{ij} S_j - \\theta_i) $$\n",
    "can be written as\n",
    "\n",
    "$$S_i \\leftarrow sgn (b_i)$$ (1)\n",
    "\n",
    "where $b_i$ is the local field. This rule is called deterministic, because a given set of states $S_i$ determines the outcome of the update. \n",
    "\n",
    " To introduce noise, one replaces the rule (1) by the stochastic rule:\n",
    " \n",
    " $$\n",
    "S_i = \n",
    "  \\begin{cases}\n",
    "    +1 & \\text{with probability} P(b_i)\\\\\n",
    "    -1 & \\text{with probability} 1 - P(b_i) \n",
    "  \\end{cases}\n",
    ".\n",
    " $$\n",
    "\n",
    "       \n",
    " where\n",
    " \n",
    "$$ P(b) = \\frac{1}{1+e^{-2 \\beta b}}$$\n",
    "\n",
    "The parameter $\\beta$ is the noise parameter.\n",
    "\n",
    "In particular one obtains the deterministic dynamics as $\\beta$ tends to infinity. Conversely, when β = 0, the function $P(b)$ simply equals $1/2$.\n",
    "In this case $S_i$ is updated randomly with equal probability to −1 or +1. "
   ]
  },
  {
   "cell_type": "markdown",
   "metadata": {},
   "source": [
    "The stochastic algorithm is very similar to the deterministic\n",
    "algorithm for the Hopfield model (Algorithm 1), only step 4 is different\n",
    "\n",
    "**Algorithm 1: pattern recognition with deterministic Hopfield model**\n",
    "\n",
    "1: store patterns $x^{\\mu}$ using Hebb’s rule;\n",
    "\n",
    "2: feed distorted pattern x into network by assigning $S_i(t = 0) ← xi$;\n",
    "\n",
    "3: for $ t = 1,...,T$ do\n",
    "            4: choose a value of $i$ and update $S_i(t ) ←\\sum_j w_{ij}S_j(t − 1)$;\n",
    "            \n",
    "5: end for\n",
    "\n",
    "6: read out pattern $S(T)$;\n",
    "\n",
    "7: end;"
   ]
  },
  {
   "cell_type": "markdown",
   "metadata": {},
   "source": [
    "The idea is to run the network for a small but finite noise level, that is at large\n",
    "value of β. Then the dynamics is very similar to the deterministic Hopfield dynamics\n",
    "analysed in the previous Chapter. But the noise allows the system to sometimes\n",
    "also go uphill, making it possible to escape spurious minima."
   ]
  },
  {
   "cell_type": "code",
   "execution_count": null,
   "metadata": {},
   "outputs": [],
   "source": [
    "to be continued..."
   ]
  }
 ],
 "metadata": {
  "kernelspec": {
   "display_name": "Python 3",
   "language": "python",
   "name": "python3"
  },
  "language_info": {
   "codemirror_mode": {
    "name": "ipython",
    "version": 3
   },
   "file_extension": ".py",
   "mimetype": "text/x-python",
   "name": "python",
   "nbconvert_exporter": "python",
   "pygments_lexer": "ipython3",
   "version": "3.7.3"
  }
 },
 "nbformat": 4,
 "nbformat_minor": 2
}
